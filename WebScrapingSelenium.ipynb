{
 "cells": [
  {
   "cell_type": "code",
   "execution_count": 1,
   "metadata": {},
   "outputs": [],
   "source": [
    "from selenium import webdriver"
   ]
  },
  {
   "cell_type": "code",
   "execution_count": 5,
   "metadata": {},
   "outputs": [],
   "source": [
    "driver = webdriver.Chrome(executable_path = r'C:\\Users\\VAQUAR\\Downloads\\chromedriver.exe')"
   ]
  },
  {
   "cell_type": "code",
   "execution_count": 6,
   "metadata": {},
   "outputs": [],
   "source": [
    "driver.get('https://www.codingninjas.com/')"
   ]
  },
  {
   "cell_type": "code",
   "execution_count": 14,
   "metadata": {},
   "outputs": [],
   "source": [
    "s = driver.find_element_by_link_text('Courses')"
   ]
  },
  {
   "cell_type": "code",
   "execution_count": 15,
   "metadata": {},
   "outputs": [
    {
     "name": "stdout",
     "output_type": "stream",
     "text": [
      "<selenium.webdriver.remote.webelement.WebElement (session=\"52fa6309970cc3bbd0ca47588b87c19b\", element=\"2e15b2b2-3932-46cf-a534-a9ae502f9b3d\")>\n"
     ]
    }
   ],
   "source": [
    "print(s)"
   ]
  },
  {
   "cell_type": "code",
   "execution_count": 16,
   "metadata": {},
   "outputs": [],
   "source": [
    "s.click()"
   ]
  },
  {
   "cell_type": "code",
   "execution_count": 12,
   "metadata": {},
   "outputs": [],
   "source": [
    "driver.back()"
   ]
  },
  {
   "cell_type": "code",
   "execution_count": 17,
   "metadata": {},
   "outputs": [
    {
     "data": {
      "text/plain": [
       "True"
      ]
     },
     "execution_count": 17,
     "metadata": {},
     "output_type": "execute_result"
    }
   ],
   "source": [
    "driver.save_screenshot('v.png')"
   ]
  },
  {
   "cell_type": "code",
   "execution_count": 16,
   "metadata": {},
   "outputs": [],
   "source": [
    "driver.maximize_window()"
   ]
  },
  {
   "cell_type": "code",
   "execution_count": 17,
   "metadata": {},
   "outputs": [],
   "source": [
    "driver.refresh()"
   ]
  },
  {
   "cell_type": "code",
   "execution_count": 3,
   "metadata": {},
   "outputs": [],
   "source": [
    "driver.get('https://books.toscrape.com/catalogue/page-1.html')"
   ]
  },
  {
   "cell_type": "code",
   "execution_count": 5,
   "metadata": {},
   "outputs": [],
   "source": [
    "s = driver.find_element_by_link_text('Religion')\n",
    "s.click()"
   ]
  },
  {
   "cell_type": "code",
   "execution_count": 11,
   "metadata": {},
   "outputs": [],
   "source": [
    "driver.get('https://www.youtube.com/')"
   ]
  },
  {
   "cell_type": "code",
   "execution_count": 7,
   "metadata": {},
   "outputs": [],
   "source": [
    "s = driver.find_element_by_link_text('HOME')\n",
    "s.click()"
   ]
  },
  {
   "cell_type": "code",
   "execution_count": 12,
   "metadata": {},
   "outputs": [
    {
     "ename": "NoSuchElementException",
     "evalue": "Message: no such element: Unable to locate element: {\"method\":\"partial link text\",\"selector\":\"Full Song:KHAIRIYAT\"}\n  (Session info: chrome=87.0.4280.141)\n",
     "output_type": "error",
     "traceback": [
      "\u001b[1;31m---------------------------------------------------------------------------\u001b[0m",
      "\u001b[1;31mNoSuchElementException\u001b[0m                    Traceback (most recent call last)",
      "\u001b[1;32m<ipython-input-12-7fbfa77a78e4>\u001b[0m in \u001b[0;36m<module>\u001b[1;34m\u001b[0m\n\u001b[1;32m----> 1\u001b[1;33m \u001b[0ms\u001b[0m \u001b[1;33m=\u001b[0m \u001b[0mdriver\u001b[0m\u001b[1;33m.\u001b[0m\u001b[0mfind_element_by_partial_link_text\u001b[0m\u001b[1;33m(\u001b[0m\u001b[1;34m'Full Song:KHAIRIYAT'\u001b[0m\u001b[1;33m)\u001b[0m\u001b[1;33m\u001b[0m\u001b[1;33m\u001b[0m\u001b[0m\n\u001b[0m",
      "\u001b[1;32m~\\anaconda3\\lib\\site-packages\\selenium\\webdriver\\remote\\webdriver.py\u001b[0m in \u001b[0;36mfind_element_by_partial_link_text\u001b[1;34m(self, link_text)\u001b[0m\n\u001b[0;32m    460\u001b[0m             \u001b[0melement\u001b[0m \u001b[1;33m=\u001b[0m \u001b[0mdriver\u001b[0m\u001b[1;33m.\u001b[0m\u001b[0mfind_element_by_partial_link_text\u001b[0m\u001b[1;33m(\u001b[0m\u001b[1;34m'Sign'\u001b[0m\u001b[1;33m)\u001b[0m\u001b[1;33m\u001b[0m\u001b[1;33m\u001b[0m\u001b[0m\n\u001b[0;32m    461\u001b[0m         \"\"\"\n\u001b[1;32m--> 462\u001b[1;33m         \u001b[1;32mreturn\u001b[0m \u001b[0mself\u001b[0m\u001b[1;33m.\u001b[0m\u001b[0mfind_element\u001b[0m\u001b[1;33m(\u001b[0m\u001b[0mby\u001b[0m\u001b[1;33m=\u001b[0m\u001b[0mBy\u001b[0m\u001b[1;33m.\u001b[0m\u001b[0mPARTIAL_LINK_TEXT\u001b[0m\u001b[1;33m,\u001b[0m \u001b[0mvalue\u001b[0m\u001b[1;33m=\u001b[0m\u001b[0mlink_text\u001b[0m\u001b[1;33m)\u001b[0m\u001b[1;33m\u001b[0m\u001b[1;33m\u001b[0m\u001b[0m\n\u001b[0m\u001b[0;32m    463\u001b[0m \u001b[1;33m\u001b[0m\u001b[0m\n\u001b[0;32m    464\u001b[0m     \u001b[1;32mdef\u001b[0m \u001b[0mfind_elements_by_partial_link_text\u001b[0m\u001b[1;33m(\u001b[0m\u001b[0mself\u001b[0m\u001b[1;33m,\u001b[0m \u001b[0mlink_text\u001b[0m\u001b[1;33m)\u001b[0m\u001b[1;33m:\u001b[0m\u001b[1;33m\u001b[0m\u001b[1;33m\u001b[0m\u001b[0m\n",
      "\u001b[1;32m~\\anaconda3\\lib\\site-packages\\selenium\\webdriver\\remote\\webdriver.py\u001b[0m in \u001b[0;36mfind_element\u001b[1;34m(self, by, value)\u001b[0m\n\u001b[0;32m    974\u001b[0m                 \u001b[0mby\u001b[0m \u001b[1;33m=\u001b[0m \u001b[0mBy\u001b[0m\u001b[1;33m.\u001b[0m\u001b[0mCSS_SELECTOR\u001b[0m\u001b[1;33m\u001b[0m\u001b[1;33m\u001b[0m\u001b[0m\n\u001b[0;32m    975\u001b[0m                 \u001b[0mvalue\u001b[0m \u001b[1;33m=\u001b[0m \u001b[1;34m'[name=\"%s\"]'\u001b[0m \u001b[1;33m%\u001b[0m \u001b[0mvalue\u001b[0m\u001b[1;33m\u001b[0m\u001b[1;33m\u001b[0m\u001b[0m\n\u001b[1;32m--> 976\u001b[1;33m         return self.execute(Command.FIND_ELEMENT, {\n\u001b[0m\u001b[0;32m    977\u001b[0m             \u001b[1;34m'using'\u001b[0m\u001b[1;33m:\u001b[0m \u001b[0mby\u001b[0m\u001b[1;33m,\u001b[0m\u001b[1;33m\u001b[0m\u001b[1;33m\u001b[0m\u001b[0m\n\u001b[0;32m    978\u001b[0m             'value': value})['value']\n",
      "\u001b[1;32m~\\anaconda3\\lib\\site-packages\\selenium\\webdriver\\remote\\webdriver.py\u001b[0m in \u001b[0;36mexecute\u001b[1;34m(self, driver_command, params)\u001b[0m\n\u001b[0;32m    319\u001b[0m         \u001b[0mresponse\u001b[0m \u001b[1;33m=\u001b[0m \u001b[0mself\u001b[0m\u001b[1;33m.\u001b[0m\u001b[0mcommand_executor\u001b[0m\u001b[1;33m.\u001b[0m\u001b[0mexecute\u001b[0m\u001b[1;33m(\u001b[0m\u001b[0mdriver_command\u001b[0m\u001b[1;33m,\u001b[0m \u001b[0mparams\u001b[0m\u001b[1;33m)\u001b[0m\u001b[1;33m\u001b[0m\u001b[1;33m\u001b[0m\u001b[0m\n\u001b[0;32m    320\u001b[0m         \u001b[1;32mif\u001b[0m \u001b[0mresponse\u001b[0m\u001b[1;33m:\u001b[0m\u001b[1;33m\u001b[0m\u001b[1;33m\u001b[0m\u001b[0m\n\u001b[1;32m--> 321\u001b[1;33m             \u001b[0mself\u001b[0m\u001b[1;33m.\u001b[0m\u001b[0merror_handler\u001b[0m\u001b[1;33m.\u001b[0m\u001b[0mcheck_response\u001b[0m\u001b[1;33m(\u001b[0m\u001b[0mresponse\u001b[0m\u001b[1;33m)\u001b[0m\u001b[1;33m\u001b[0m\u001b[1;33m\u001b[0m\u001b[0m\n\u001b[0m\u001b[0;32m    322\u001b[0m             response['value'] = self._unwrap_value(\n\u001b[0;32m    323\u001b[0m                 response.get('value', None))\n",
      "\u001b[1;32m~\\anaconda3\\lib\\site-packages\\selenium\\webdriver\\remote\\errorhandler.py\u001b[0m in \u001b[0;36mcheck_response\u001b[1;34m(self, response)\u001b[0m\n\u001b[0;32m    240\u001b[0m                 \u001b[0malert_text\u001b[0m \u001b[1;33m=\u001b[0m \u001b[0mvalue\u001b[0m\u001b[1;33m[\u001b[0m\u001b[1;34m'alert'\u001b[0m\u001b[1;33m]\u001b[0m\u001b[1;33m.\u001b[0m\u001b[0mget\u001b[0m\u001b[1;33m(\u001b[0m\u001b[1;34m'text'\u001b[0m\u001b[1;33m)\u001b[0m\u001b[1;33m\u001b[0m\u001b[1;33m\u001b[0m\u001b[0m\n\u001b[0;32m    241\u001b[0m             \u001b[1;32mraise\u001b[0m \u001b[0mexception_class\u001b[0m\u001b[1;33m(\u001b[0m\u001b[0mmessage\u001b[0m\u001b[1;33m,\u001b[0m \u001b[0mscreen\u001b[0m\u001b[1;33m,\u001b[0m \u001b[0mstacktrace\u001b[0m\u001b[1;33m,\u001b[0m \u001b[0malert_text\u001b[0m\u001b[1;33m)\u001b[0m\u001b[1;33m\u001b[0m\u001b[1;33m\u001b[0m\u001b[0m\n\u001b[1;32m--> 242\u001b[1;33m         \u001b[1;32mraise\u001b[0m \u001b[0mexception_class\u001b[0m\u001b[1;33m(\u001b[0m\u001b[0mmessage\u001b[0m\u001b[1;33m,\u001b[0m \u001b[0mscreen\u001b[0m\u001b[1;33m,\u001b[0m \u001b[0mstacktrace\u001b[0m\u001b[1;33m)\u001b[0m\u001b[1;33m\u001b[0m\u001b[1;33m\u001b[0m\u001b[0m\n\u001b[0m\u001b[0;32m    243\u001b[0m \u001b[1;33m\u001b[0m\u001b[0m\n\u001b[0;32m    244\u001b[0m     \u001b[1;32mdef\u001b[0m \u001b[0m_value_or_default\u001b[0m\u001b[1;33m(\u001b[0m\u001b[0mself\u001b[0m\u001b[1;33m,\u001b[0m \u001b[0mobj\u001b[0m\u001b[1;33m,\u001b[0m \u001b[0mkey\u001b[0m\u001b[1;33m,\u001b[0m \u001b[0mdefault\u001b[0m\u001b[1;33m)\u001b[0m\u001b[1;33m:\u001b[0m\u001b[1;33m\u001b[0m\u001b[1;33m\u001b[0m\u001b[0m\n",
      "\u001b[1;31mNoSuchElementException\u001b[0m: Message: no such element: Unable to locate element: {\"method\":\"partial link text\",\"selector\":\"Full Song:KHAIRIYAT\"}\n  (Session info: chrome=87.0.4280.141)\n"
     ]
    }
   ],
   "source": [
    "s = driver.find_element_by_partial_link_text('Full Song:KHAIRIYAT')"
   ]
  },
  {
   "cell_type": "code",
   "execution_count": 13,
   "metadata": {},
   "outputs": [
    {
     "ename": "NoSuchElementException",
     "evalue": "Message: no such element: Unable to locate element: {\"method\":\"css selector\",\"selector\":\"[name=\"Trending\"]\"}\n  (Session info: chrome=87.0.4280.141)\n",
     "output_type": "error",
     "traceback": [
      "\u001b[1;31m---------------------------------------------------------------------------\u001b[0m",
      "\u001b[1;31mNoSuchElementException\u001b[0m                    Traceback (most recent call last)",
      "\u001b[1;32m<ipython-input-13-f4339b461690>\u001b[0m in \u001b[0;36m<module>\u001b[1;34m\u001b[0m\n\u001b[1;32m----> 1\u001b[1;33m \u001b[0ms\u001b[0m \u001b[1;33m=\u001b[0m \u001b[0mdriver\u001b[0m\u001b[1;33m.\u001b[0m\u001b[0mfind_element_by_name\u001b[0m\u001b[1;33m(\u001b[0m\u001b[1;34m'Trending'\u001b[0m\u001b[1;33m)\u001b[0m\u001b[1;33m\u001b[0m\u001b[1;33m\u001b[0m\u001b[0m\n\u001b[0m",
      "\u001b[1;32m~\\anaconda3\\lib\\site-packages\\selenium\\webdriver\\remote\\webdriver.py\u001b[0m in \u001b[0;36mfind_element_by_name\u001b[1;34m(self, name)\u001b[0m\n\u001b[0;32m    494\u001b[0m             \u001b[0melement\u001b[0m \u001b[1;33m=\u001b[0m \u001b[0mdriver\u001b[0m\u001b[1;33m.\u001b[0m\u001b[0mfind_element_by_name\u001b[0m\u001b[1;33m(\u001b[0m\u001b[1;34m'foo'\u001b[0m\u001b[1;33m)\u001b[0m\u001b[1;33m\u001b[0m\u001b[1;33m\u001b[0m\u001b[0m\n\u001b[0;32m    495\u001b[0m         \"\"\"\n\u001b[1;32m--> 496\u001b[1;33m         \u001b[1;32mreturn\u001b[0m \u001b[0mself\u001b[0m\u001b[1;33m.\u001b[0m\u001b[0mfind_element\u001b[0m\u001b[1;33m(\u001b[0m\u001b[0mby\u001b[0m\u001b[1;33m=\u001b[0m\u001b[0mBy\u001b[0m\u001b[1;33m.\u001b[0m\u001b[0mNAME\u001b[0m\u001b[1;33m,\u001b[0m \u001b[0mvalue\u001b[0m\u001b[1;33m=\u001b[0m\u001b[0mname\u001b[0m\u001b[1;33m)\u001b[0m\u001b[1;33m\u001b[0m\u001b[1;33m\u001b[0m\u001b[0m\n\u001b[0m\u001b[0;32m    497\u001b[0m \u001b[1;33m\u001b[0m\u001b[0m\n\u001b[0;32m    498\u001b[0m     \u001b[1;32mdef\u001b[0m \u001b[0mfind_elements_by_name\u001b[0m\u001b[1;33m(\u001b[0m\u001b[0mself\u001b[0m\u001b[1;33m,\u001b[0m \u001b[0mname\u001b[0m\u001b[1;33m)\u001b[0m\u001b[1;33m:\u001b[0m\u001b[1;33m\u001b[0m\u001b[1;33m\u001b[0m\u001b[0m\n",
      "\u001b[1;32m~\\anaconda3\\lib\\site-packages\\selenium\\webdriver\\remote\\webdriver.py\u001b[0m in \u001b[0;36mfind_element\u001b[1;34m(self, by, value)\u001b[0m\n\u001b[0;32m    974\u001b[0m                 \u001b[0mby\u001b[0m \u001b[1;33m=\u001b[0m \u001b[0mBy\u001b[0m\u001b[1;33m.\u001b[0m\u001b[0mCSS_SELECTOR\u001b[0m\u001b[1;33m\u001b[0m\u001b[1;33m\u001b[0m\u001b[0m\n\u001b[0;32m    975\u001b[0m                 \u001b[0mvalue\u001b[0m \u001b[1;33m=\u001b[0m \u001b[1;34m'[name=\"%s\"]'\u001b[0m \u001b[1;33m%\u001b[0m \u001b[0mvalue\u001b[0m\u001b[1;33m\u001b[0m\u001b[1;33m\u001b[0m\u001b[0m\n\u001b[1;32m--> 976\u001b[1;33m         return self.execute(Command.FIND_ELEMENT, {\n\u001b[0m\u001b[0;32m    977\u001b[0m             \u001b[1;34m'using'\u001b[0m\u001b[1;33m:\u001b[0m \u001b[0mby\u001b[0m\u001b[1;33m,\u001b[0m\u001b[1;33m\u001b[0m\u001b[1;33m\u001b[0m\u001b[0m\n\u001b[0;32m    978\u001b[0m             'value': value})['value']\n",
      "\u001b[1;32m~\\anaconda3\\lib\\site-packages\\selenium\\webdriver\\remote\\webdriver.py\u001b[0m in \u001b[0;36mexecute\u001b[1;34m(self, driver_command, params)\u001b[0m\n\u001b[0;32m    319\u001b[0m         \u001b[0mresponse\u001b[0m \u001b[1;33m=\u001b[0m \u001b[0mself\u001b[0m\u001b[1;33m.\u001b[0m\u001b[0mcommand_executor\u001b[0m\u001b[1;33m.\u001b[0m\u001b[0mexecute\u001b[0m\u001b[1;33m(\u001b[0m\u001b[0mdriver_command\u001b[0m\u001b[1;33m,\u001b[0m \u001b[0mparams\u001b[0m\u001b[1;33m)\u001b[0m\u001b[1;33m\u001b[0m\u001b[1;33m\u001b[0m\u001b[0m\n\u001b[0;32m    320\u001b[0m         \u001b[1;32mif\u001b[0m \u001b[0mresponse\u001b[0m\u001b[1;33m:\u001b[0m\u001b[1;33m\u001b[0m\u001b[1;33m\u001b[0m\u001b[0m\n\u001b[1;32m--> 321\u001b[1;33m             \u001b[0mself\u001b[0m\u001b[1;33m.\u001b[0m\u001b[0merror_handler\u001b[0m\u001b[1;33m.\u001b[0m\u001b[0mcheck_response\u001b[0m\u001b[1;33m(\u001b[0m\u001b[0mresponse\u001b[0m\u001b[1;33m)\u001b[0m\u001b[1;33m\u001b[0m\u001b[1;33m\u001b[0m\u001b[0m\n\u001b[0m\u001b[0;32m    322\u001b[0m             response['value'] = self._unwrap_value(\n\u001b[0;32m    323\u001b[0m                 response.get('value', None))\n",
      "\u001b[1;32m~\\anaconda3\\lib\\site-packages\\selenium\\webdriver\\remote\\errorhandler.py\u001b[0m in \u001b[0;36mcheck_response\u001b[1;34m(self, response)\u001b[0m\n\u001b[0;32m    240\u001b[0m                 \u001b[0malert_text\u001b[0m \u001b[1;33m=\u001b[0m \u001b[0mvalue\u001b[0m\u001b[1;33m[\u001b[0m\u001b[1;34m'alert'\u001b[0m\u001b[1;33m]\u001b[0m\u001b[1;33m.\u001b[0m\u001b[0mget\u001b[0m\u001b[1;33m(\u001b[0m\u001b[1;34m'text'\u001b[0m\u001b[1;33m)\u001b[0m\u001b[1;33m\u001b[0m\u001b[1;33m\u001b[0m\u001b[0m\n\u001b[0;32m    241\u001b[0m             \u001b[1;32mraise\u001b[0m \u001b[0mexception_class\u001b[0m\u001b[1;33m(\u001b[0m\u001b[0mmessage\u001b[0m\u001b[1;33m,\u001b[0m \u001b[0mscreen\u001b[0m\u001b[1;33m,\u001b[0m \u001b[0mstacktrace\u001b[0m\u001b[1;33m,\u001b[0m \u001b[0malert_text\u001b[0m\u001b[1;33m)\u001b[0m\u001b[1;33m\u001b[0m\u001b[1;33m\u001b[0m\u001b[0m\n\u001b[1;32m--> 242\u001b[1;33m         \u001b[1;32mraise\u001b[0m \u001b[0mexception_class\u001b[0m\u001b[1;33m(\u001b[0m\u001b[0mmessage\u001b[0m\u001b[1;33m,\u001b[0m \u001b[0mscreen\u001b[0m\u001b[1;33m,\u001b[0m \u001b[0mstacktrace\u001b[0m\u001b[1;33m)\u001b[0m\u001b[1;33m\u001b[0m\u001b[1;33m\u001b[0m\u001b[0m\n\u001b[0m\u001b[0;32m    243\u001b[0m \u001b[1;33m\u001b[0m\u001b[0m\n\u001b[0;32m    244\u001b[0m     \u001b[1;32mdef\u001b[0m \u001b[0m_value_or_default\u001b[0m\u001b[1;33m(\u001b[0m\u001b[0mself\u001b[0m\u001b[1;33m,\u001b[0m \u001b[0mobj\u001b[0m\u001b[1;33m,\u001b[0m \u001b[0mkey\u001b[0m\u001b[1;33m,\u001b[0m \u001b[0mdefault\u001b[0m\u001b[1;33m)\u001b[0m\u001b[1;33m:\u001b[0m\u001b[1;33m\u001b[0m\u001b[1;33m\u001b[0m\u001b[0m\n",
      "\u001b[1;31mNoSuchElementException\u001b[0m: Message: no such element: Unable to locate element: {\"method\":\"css selector\",\"selector\":\"[name=\"Trending\"]\"}\n  (Session info: chrome=87.0.4280.141)\n"
     ]
    }
   ],
   "source": [
    "s = driver.find_element_by_name('Trending')"
   ]
  },
  {
   "cell_type": "code",
   "execution_count": 14,
   "metadata": {},
   "outputs": [],
   "source": [
    "driver.quit()"
   ]
  },
  {
   "cell_type": "code",
   "execution_count": 15,
   "metadata": {},
   "outputs": [],
   "source": [
    "driver = webdriver.Chrome(executable_path = r'C:\\Users\\VAQUAR\\Desktop\\chromedriver.exe')"
   ]
  },
  {
   "cell_type": "code",
   "execution_count": 17,
   "metadata": {},
   "outputs": [],
   "source": [
    "driver.get('https://www.youtube.com/')"
   ]
  },
  {
   "cell_type": "code",
   "execution_count": 18,
   "metadata": {},
   "outputs": [
    {
     "data": {
      "text/plain": [
       "<selenium.webdriver.remote.webelement.WebElement (session=\"b62eb30157ae3e369fcb01d50464ef75\", element=\"552f1799-203d-4f56-88bb-351699bbbdf2\")>"
      ]
     },
     "execution_count": 18,
     "metadata": {},
     "output_type": "execute_result"
    }
   ],
   "source": [
    "s = driver.find_element_by_link_text('Trending')\n",
    "s"
   ]
  },
  {
   "cell_type": "code",
   "execution_count": 19,
   "metadata": {},
   "outputs": [],
   "source": [
    "s.click()"
   ]
  },
  {
   "cell_type": "code",
   "execution_count": 21,
   "metadata": {},
   "outputs": [],
   "source": [
    "driver.back()"
   ]
  },
  {
   "cell_type": "code",
   "execution_count": 22,
   "metadata": {},
   "outputs": [],
   "source": [
    "driver.back()"
   ]
  },
  {
   "cell_type": "code",
   "execution_count": 23,
   "metadata": {},
   "outputs": [],
   "source": [
    "driver.refresh()"
   ]
  },
  {
   "cell_type": "code",
   "execution_count": 24,
   "metadata": {},
   "outputs": [],
   "source": [
    "driver.back()"
   ]
  },
  {
   "cell_type": "code",
   "execution_count": 25,
   "metadata": {},
   "outputs": [],
   "source": [
    "driver.forward()"
   ]
  },
  {
   "cell_type": "code",
   "execution_count": 27,
   "metadata": {},
   "outputs": [],
   "source": [
    "s = driver.find_element_by_link_text('Trending')\n",
    "s.click()"
   ]
  },
  {
   "cell_type": "code",
   "execution_count": 31,
   "metadata": {},
   "outputs": [],
   "source": [
    "ss = driver.find_element_by_id('video-title')"
   ]
  },
  {
   "cell_type": "code",
   "execution_count": 32,
   "metadata": {},
   "outputs": [
    {
     "ename": "ElementNotInteractableException",
     "evalue": "Message: element not interactable\n  (Session info: chrome=87.0.4280.141)\n",
     "output_type": "error",
     "traceback": [
      "\u001b[1;31m---------------------------------------------------------------------------\u001b[0m",
      "\u001b[1;31mElementNotInteractableException\u001b[0m           Traceback (most recent call last)",
      "\u001b[1;32m<ipython-input-32-e4613bef209c>\u001b[0m in \u001b[0;36m<module>\u001b[1;34m\u001b[0m\n\u001b[1;32m----> 1\u001b[1;33m \u001b[0mss\u001b[0m\u001b[1;33m.\u001b[0m\u001b[0mclick\u001b[0m\u001b[1;33m(\u001b[0m\u001b[1;33m)\u001b[0m\u001b[1;33m\u001b[0m\u001b[1;33m\u001b[0m\u001b[0m\n\u001b[0m",
      "\u001b[1;32m~\\anaconda3\\lib\\site-packages\\selenium\\webdriver\\remote\\webelement.py\u001b[0m in \u001b[0;36mclick\u001b[1;34m(self)\u001b[0m\n\u001b[0;32m     78\u001b[0m     \u001b[1;32mdef\u001b[0m \u001b[0mclick\u001b[0m\u001b[1;33m(\u001b[0m\u001b[0mself\u001b[0m\u001b[1;33m)\u001b[0m\u001b[1;33m:\u001b[0m\u001b[1;33m\u001b[0m\u001b[1;33m\u001b[0m\u001b[0m\n\u001b[0;32m     79\u001b[0m         \u001b[1;34m\"\"\"Clicks the element.\"\"\"\u001b[0m\u001b[1;33m\u001b[0m\u001b[1;33m\u001b[0m\u001b[0m\n\u001b[1;32m---> 80\u001b[1;33m         \u001b[0mself\u001b[0m\u001b[1;33m.\u001b[0m\u001b[0m_execute\u001b[0m\u001b[1;33m(\u001b[0m\u001b[0mCommand\u001b[0m\u001b[1;33m.\u001b[0m\u001b[0mCLICK_ELEMENT\u001b[0m\u001b[1;33m)\u001b[0m\u001b[1;33m\u001b[0m\u001b[1;33m\u001b[0m\u001b[0m\n\u001b[0m\u001b[0;32m     81\u001b[0m \u001b[1;33m\u001b[0m\u001b[0m\n\u001b[0;32m     82\u001b[0m     \u001b[1;32mdef\u001b[0m \u001b[0msubmit\u001b[0m\u001b[1;33m(\u001b[0m\u001b[0mself\u001b[0m\u001b[1;33m)\u001b[0m\u001b[1;33m:\u001b[0m\u001b[1;33m\u001b[0m\u001b[1;33m\u001b[0m\u001b[0m\n",
      "\u001b[1;32m~\\anaconda3\\lib\\site-packages\\selenium\\webdriver\\remote\\webelement.py\u001b[0m in \u001b[0;36m_execute\u001b[1;34m(self, command, params)\u001b[0m\n\u001b[0;32m    631\u001b[0m             \u001b[0mparams\u001b[0m \u001b[1;33m=\u001b[0m \u001b[1;33m{\u001b[0m\u001b[1;33m}\u001b[0m\u001b[1;33m\u001b[0m\u001b[1;33m\u001b[0m\u001b[0m\n\u001b[0;32m    632\u001b[0m         \u001b[0mparams\u001b[0m\u001b[1;33m[\u001b[0m\u001b[1;34m'id'\u001b[0m\u001b[1;33m]\u001b[0m \u001b[1;33m=\u001b[0m \u001b[0mself\u001b[0m\u001b[1;33m.\u001b[0m\u001b[0m_id\u001b[0m\u001b[1;33m\u001b[0m\u001b[1;33m\u001b[0m\u001b[0m\n\u001b[1;32m--> 633\u001b[1;33m         \u001b[1;32mreturn\u001b[0m \u001b[0mself\u001b[0m\u001b[1;33m.\u001b[0m\u001b[0m_parent\u001b[0m\u001b[1;33m.\u001b[0m\u001b[0mexecute\u001b[0m\u001b[1;33m(\u001b[0m\u001b[0mcommand\u001b[0m\u001b[1;33m,\u001b[0m \u001b[0mparams\u001b[0m\u001b[1;33m)\u001b[0m\u001b[1;33m\u001b[0m\u001b[1;33m\u001b[0m\u001b[0m\n\u001b[0m\u001b[0;32m    634\u001b[0m \u001b[1;33m\u001b[0m\u001b[0m\n\u001b[0;32m    635\u001b[0m     \u001b[1;32mdef\u001b[0m \u001b[0mfind_element\u001b[0m\u001b[1;33m(\u001b[0m\u001b[0mself\u001b[0m\u001b[1;33m,\u001b[0m \u001b[0mby\u001b[0m\u001b[1;33m=\u001b[0m\u001b[0mBy\u001b[0m\u001b[1;33m.\u001b[0m\u001b[0mID\u001b[0m\u001b[1;33m,\u001b[0m \u001b[0mvalue\u001b[0m\u001b[1;33m=\u001b[0m\u001b[1;32mNone\u001b[0m\u001b[1;33m)\u001b[0m\u001b[1;33m:\u001b[0m\u001b[1;33m\u001b[0m\u001b[1;33m\u001b[0m\u001b[0m\n",
      "\u001b[1;32m~\\anaconda3\\lib\\site-packages\\selenium\\webdriver\\remote\\webdriver.py\u001b[0m in \u001b[0;36mexecute\u001b[1;34m(self, driver_command, params)\u001b[0m\n\u001b[0;32m    319\u001b[0m         \u001b[0mresponse\u001b[0m \u001b[1;33m=\u001b[0m \u001b[0mself\u001b[0m\u001b[1;33m.\u001b[0m\u001b[0mcommand_executor\u001b[0m\u001b[1;33m.\u001b[0m\u001b[0mexecute\u001b[0m\u001b[1;33m(\u001b[0m\u001b[0mdriver_command\u001b[0m\u001b[1;33m,\u001b[0m \u001b[0mparams\u001b[0m\u001b[1;33m)\u001b[0m\u001b[1;33m\u001b[0m\u001b[1;33m\u001b[0m\u001b[0m\n\u001b[0;32m    320\u001b[0m         \u001b[1;32mif\u001b[0m \u001b[0mresponse\u001b[0m\u001b[1;33m:\u001b[0m\u001b[1;33m\u001b[0m\u001b[1;33m\u001b[0m\u001b[0m\n\u001b[1;32m--> 321\u001b[1;33m             \u001b[0mself\u001b[0m\u001b[1;33m.\u001b[0m\u001b[0merror_handler\u001b[0m\u001b[1;33m.\u001b[0m\u001b[0mcheck_response\u001b[0m\u001b[1;33m(\u001b[0m\u001b[0mresponse\u001b[0m\u001b[1;33m)\u001b[0m\u001b[1;33m\u001b[0m\u001b[1;33m\u001b[0m\u001b[0m\n\u001b[0m\u001b[0;32m    322\u001b[0m             response['value'] = self._unwrap_value(\n\u001b[0;32m    323\u001b[0m                 response.get('value', None))\n",
      "\u001b[1;32m~\\anaconda3\\lib\\site-packages\\selenium\\webdriver\\remote\\errorhandler.py\u001b[0m in \u001b[0;36mcheck_response\u001b[1;34m(self, response)\u001b[0m\n\u001b[0;32m    240\u001b[0m                 \u001b[0malert_text\u001b[0m \u001b[1;33m=\u001b[0m \u001b[0mvalue\u001b[0m\u001b[1;33m[\u001b[0m\u001b[1;34m'alert'\u001b[0m\u001b[1;33m]\u001b[0m\u001b[1;33m.\u001b[0m\u001b[0mget\u001b[0m\u001b[1;33m(\u001b[0m\u001b[1;34m'text'\u001b[0m\u001b[1;33m)\u001b[0m\u001b[1;33m\u001b[0m\u001b[1;33m\u001b[0m\u001b[0m\n\u001b[0;32m    241\u001b[0m             \u001b[1;32mraise\u001b[0m \u001b[0mexception_class\u001b[0m\u001b[1;33m(\u001b[0m\u001b[0mmessage\u001b[0m\u001b[1;33m,\u001b[0m \u001b[0mscreen\u001b[0m\u001b[1;33m,\u001b[0m \u001b[0mstacktrace\u001b[0m\u001b[1;33m,\u001b[0m \u001b[0malert_text\u001b[0m\u001b[1;33m)\u001b[0m\u001b[1;33m\u001b[0m\u001b[1;33m\u001b[0m\u001b[0m\n\u001b[1;32m--> 242\u001b[1;33m         \u001b[1;32mraise\u001b[0m \u001b[0mexception_class\u001b[0m\u001b[1;33m(\u001b[0m\u001b[0mmessage\u001b[0m\u001b[1;33m,\u001b[0m \u001b[0mscreen\u001b[0m\u001b[1;33m,\u001b[0m \u001b[0mstacktrace\u001b[0m\u001b[1;33m)\u001b[0m\u001b[1;33m\u001b[0m\u001b[1;33m\u001b[0m\u001b[0m\n\u001b[0m\u001b[0;32m    243\u001b[0m \u001b[1;33m\u001b[0m\u001b[0m\n\u001b[0;32m    244\u001b[0m     \u001b[1;32mdef\u001b[0m \u001b[0m_value_or_default\u001b[0m\u001b[1;33m(\u001b[0m\u001b[0mself\u001b[0m\u001b[1;33m,\u001b[0m \u001b[0mobj\u001b[0m\u001b[1;33m,\u001b[0m \u001b[0mkey\u001b[0m\u001b[1;33m,\u001b[0m \u001b[0mdefault\u001b[0m\u001b[1;33m)\u001b[0m\u001b[1;33m:\u001b[0m\u001b[1;33m\u001b[0m\u001b[1;33m\u001b[0m\u001b[0m\n",
      "\u001b[1;31mElementNotInteractableException\u001b[0m: Message: element not interactable\n  (Session info: chrome=87.0.4280.141)\n"
     ]
    }
   ],
   "source": [
    "ss.click()"
   ]
  },
  {
   "cell_type": "code",
   "execution_count": 36,
   "metadata": {},
   "outputs": [],
   "source": [
    "s = driver.find_element_by_partial_link_text('India')"
   ]
  },
  {
   "cell_type": "code",
   "execution_count": 37,
   "metadata": {},
   "outputs": [],
   "source": [
    "s.click()"
   ]
  },
  {
   "cell_type": "code",
   "execution_count": 38,
   "metadata": {},
   "outputs": [],
   "source": [
    "driver.back()"
   ]
  },
  {
   "cell_type": "code",
   "execution_count": 39,
   "metadata": {},
   "outputs": [],
   "source": [
    "s = driver.find_element_by_partial_link_text('VARDAAN')"
   ]
  },
  {
   "cell_type": "code",
   "execution_count": 40,
   "metadata": {},
   "outputs": [],
   "source": [
    "s.click()"
   ]
  },
  {
   "cell_type": "code",
   "execution_count": 44,
   "metadata": {},
   "outputs": [],
   "source": [
    "s = driver.find_element_by_class_name('style-scope ytd-toggle-button-renderer')"
   ]
  },
  {
   "cell_type": "code",
   "execution_count": 45,
   "metadata": {},
   "outputs": [],
   "source": [
    "s.click()"
   ]
  },
  {
   "cell_type": "code",
   "execution_count": 3,
   "metadata": {},
   "outputs": [],
   "source": [
    "driver.get('https://www.google.com/')"
   ]
  },
  {
   "cell_type": "code",
   "execution_count": 4,
   "metadata": {},
   "outputs": [
    {
     "data": {
      "text/plain": [
       "<selenium.webdriver.remote.webelement.WebElement (session=\"08d83fd2f2e87b9b22042738c4a60f60\", element=\"ada0f0a9-6d0e-4d83-b0e4-d89dee9464e7\")>"
      ]
     },
     "execution_count": 4,
     "metadata": {},
     "output_type": "execute_result"
    }
   ],
   "source": [
    "text_box = driver.find_element_by_name('q')\n",
    "text_box"
   ]
  },
  {
   "cell_type": "code",
   "execution_count": 5,
   "metadata": {},
   "outputs": [],
   "source": [
    "text_box.send_keys('Books to scrape')"
   ]
  },
  {
   "cell_type": "code",
   "execution_count": 6,
   "metadata": {},
   "outputs": [],
   "source": [
    "text_box.submit()"
   ]
  },
  {
   "cell_type": "code",
   "execution_count": 9,
   "metadata": {},
   "outputs": [],
   "source": [
    "s = driver.find_element_by_partial_link_text('All products')"
   ]
  },
  {
   "cell_type": "code",
   "execution_count": 10,
   "metadata": {},
   "outputs": [],
   "source": [
    "s.click()"
   ]
  },
  {
   "cell_type": "code",
   "execution_count": 11,
   "metadata": {},
   "outputs": [],
   "source": [
    "from bs4 import BeautifulSoup as bs"
   ]
  },
  {
   "cell_type": "code",
   "execution_count": 12,
   "metadata": {},
   "outputs": [],
   "source": [
    "import pandas as pd "
   ]
  },
  {
   "cell_type": "code",
   "execution_count": 15,
   "metadata": {},
   "outputs": [],
   "source": [
    "link = driver.find_element_by_class_name('product_pod')"
   ]
  },
  {
   "cell_type": "code",
   "execution_count": 19,
   "metadata": {},
   "outputs": [
    {
     "data": {
      "text/plain": [
       "<selenium.webdriver.remote.webelement.WebElement (session=\"08d83fd2f2e87b9b22042738c4a60f60\", element=\"600ee781-167e-4ca3-8fed-3b7cdee76091\")>"
      ]
     },
     "execution_count": 19,
     "metadata": {},
     "output_type": "execute_result"
    }
   ],
   "source": [
    "link"
   ]
  },
  {
   "cell_type": "code",
   "execution_count": 24,
   "metadata": {},
   "outputs": [],
   "source": [
    "ss = driver.find_element_by_class_name('image_container')"
   ]
  },
  {
   "cell_type": "code",
   "execution_count": 25,
   "metadata": {},
   "outputs": [],
   "source": [
    "ss.click()"
   ]
  },
  {
   "cell_type": "code",
   "execution_count": 26,
   "metadata": {},
   "outputs": [
    {
     "name": "stdout",
     "output_type": "stream",
     "text": [
      "<html class=\"no-js\" lang=\"en-us\">\n",
      " <!--<![endif]-->\n",
      " <head>\n",
      "  <title>\n",
      "   A Light in the Attic | Books to Scrape - Sandbox\n",
      "  </title>\n",
      "  <meta content=\"text/html; charset=utf-8\" http-equiv=\"content-type\"/>\n",
      "  <meta content=\"24th Jun 2016 09:29\" name=\"created\"/>\n",
      "  <meta content=\"\n",
      "    It's hard to imagine a world without A Light in the Attic. This now-classic collection of poetry and drawings from Shel Silverstein celebrates its 20th anniversary with this special edition. Silverstein's humorous and creative verse can amuse the dowdiest of readers. Lemon-faced adults and fidgety kids sit still and read these rhythmic words and laugh and smile and love th It's hard to imagine a world without A Light in the Attic. This now-classic collection of poetry and drawings from Shel Silverstein celebrates its 20th anniversary with this special edition. Silverstein's humorous and creative verse can amuse the dowdiest of readers. Lemon-faced adults and fidgety kids sit still and read these rhythmic words and laugh and smile and love that Silverstein. Need proof of his genius? RockabyeRockabye baby, in the treetopDon't you know a treetopIs no safe place to rock?And who put you up there,And your cradle, too?Baby, I think someone down here'sGot it in for you. Shel, you never sounded so good. ...more\n",
      "\" name=\"description\"/>\n",
      "  <meta content=\"width=device-width\" name=\"viewport\"/>\n",
      "  <meta content=\"NOARCHIVE,NOCACHE\" name=\"robots\"/>\n",
      "  <!-- Le HTML5 shim, for IE6-8 support of HTML elements -->\n",
      "  <!--[if lt IE 9]>\n",
      "        <script src=\"//html5shim.googlecode.com/svn/trunk/html5.js\"></script>\n",
      "        <![endif]-->\n",
      "  <link href=\"../../static/oscar/favicon.ico\" rel=\"shortcut icon\"/>\n",
      "  <link href=\"../../static/oscar/css/styles.css\" rel=\"stylesheet\" type=\"text/css\"/>\n",
      "  <link href=\"../../static/oscar/js/bootstrap-datetimepicker/bootstrap-datetimepicker.css\" rel=\"stylesheet\"/>\n",
      "  <link href=\"../../static/oscar/css/datetimepicker.css\" rel=\"stylesheet\" type=\"text/css\"/>\n",
      " </head>\n",
      " <body class=\"default\" id=\"default\">\n",
      "  <header class=\"header container-fluid\">\n",
      "   <div class=\"page_inner\">\n",
      "    <div class=\"row\">\n",
      "     <div class=\"col-sm-8 h1\">\n",
      "      <a href=\"../../index.html\">\n",
      "       Books to Scrape\n",
      "      </a>\n",
      "      <small>\n",
      "       We love being scraped!\n",
      "      </small>\n",
      "     </div>\n",
      "    </div>\n",
      "   </div>\n",
      "  </header>\n",
      "  <div class=\"container-fluid page\">\n",
      "   <div class=\"page_inner\">\n",
      "    <ul class=\"breadcrumb\">\n",
      "     <li>\n",
      "      <a href=\"../../index.html\">\n",
      "       Home\n",
      "      </a>\n",
      "     </li>\n",
      "     <li>\n",
      "      <a href=\"../category/books_1/index.html\">\n",
      "       Books\n",
      "      </a>\n",
      "     </li>\n",
      "     <li>\n",
      "      <a href=\"../category/books/poetry_23/index.html\">\n",
      "       Poetry\n",
      "      </a>\n",
      "     </li>\n",
      "     <li class=\"active\">\n",
      "      A Light in the Attic\n",
      "     </li>\n",
      "    </ul>\n",
      "    <div id=\"messages\">\n",
      "    </div>\n",
      "    <div class=\"content\">\n",
      "     <div id=\"promotions\">\n",
      "     </div>\n",
      "     <div id=\"content_inner\">\n",
      "      <article class=\"product_page\">\n",
      "       <!-- Start of product page -->\n",
      "       <div class=\"row\">\n",
      "        <div class=\"col-sm-6\">\n",
      "         <div class=\"carousel\" id=\"product_gallery\">\n",
      "          <div class=\"thumbnail\">\n",
      "           <div class=\"carousel-inner\">\n",
      "            <div class=\"item active\">\n",
      "             <img alt=\"A Light in the Attic\" src=\"../../media/cache/fe/72/fe72f0532301ec28892ae79a629a293c.jpg\"/>\n",
      "            </div>\n",
      "           </div>\n",
      "          </div>\n",
      "         </div>\n",
      "        </div>\n",
      "        <div class=\"col-sm-6 product_main\">\n",
      "         <h1>\n",
      "          A Light in the Attic\n",
      "         </h1>\n",
      "         <p class=\"price_color\">\n",
      "          £51.77\n",
      "         </p>\n",
      "         <p class=\"instock availability\">\n",
      "          <i class=\"icon-ok\">\n",
      "          </i>\n",
      "          In stock (22 available)\n",
      "         </p>\n",
      "         <p class=\"star-rating Three\">\n",
      "          <i class=\"icon-star\">\n",
      "          </i>\n",
      "          <i class=\"icon-star\">\n",
      "          </i>\n",
      "          <i class=\"icon-star\">\n",
      "          </i>\n",
      "          <i class=\"icon-star\">\n",
      "          </i>\n",
      "          <i class=\"icon-star\">\n",
      "          </i>\n",
      "          <!-- <small><a href=\"/catalogue/a-light-in-the-attic_1000/reviews/\">\n",
      "        \n",
      "                \n",
      "                    0 customer reviews\n",
      "                \n",
      "        </a></small>\n",
      "         -->\n",
      "          <!-- \n",
      "    <a id=\"write_review\" href=\"/catalogue/a-light-in-the-attic_1000/reviews/add/#addreview\" class=\"btn btn-success btn-sm\">\n",
      "        Write a review\n",
      "    </a>\n",
      "\n",
      " -->\n",
      "         </p>\n",
      "         <hr/>\n",
      "         <div class=\"alert alert-warning\" role=\"alert\">\n",
      "          <strong>\n",
      "           Warning!\n",
      "          </strong>\n",
      "          This is a demo website for web scraping purposes. Prices and ratings here were randomly assigned and have no real meaning.\n",
      "         </div>\n",
      "        </div>\n",
      "        <!-- /col-sm-6 -->\n",
      "       </div>\n",
      "       <!-- /row -->\n",
      "       <div class=\"sub-header\" id=\"product_description\">\n",
      "        <h2>\n",
      "         Product Description\n",
      "        </h2>\n",
      "       </div>\n",
      "       <p>\n",
      "        It's hard to imagine a world without A Light in the Attic. This now-classic collection of poetry and drawings from Shel Silverstein celebrates its 20th anniversary with this special edition. Silverstein's humorous and creative verse can amuse the dowdiest of readers. Lemon-faced adults and fidgety kids sit still and read these rhythmic words and laugh and smile and love th It's hard to imagine a world without A Light in the Attic. This now-classic collection of poetry and drawings from Shel Silverstein celebrates its 20th anniversary with this special edition. Silverstein's humorous and creative verse can amuse the dowdiest of readers. Lemon-faced adults and fidgety kids sit still and read these rhythmic words and laugh and smile and love that Silverstein. Need proof of his genius? RockabyeRockabye baby, in the treetopDon't you know a treetopIs no safe place to rock?And who put you up there,And your cradle, too?Baby, I think someone down here'sGot it in for you. Shel, you never sounded so good. ...more\n",
      "       </p>\n",
      "       <div class=\"sub-header\">\n",
      "        <h2>\n",
      "         Product Information\n",
      "        </h2>\n",
      "       </div>\n",
      "       <table class=\"table table-striped\">\n",
      "        <tbody>\n",
      "         <tr>\n",
      "          <th>\n",
      "           UPC\n",
      "          </th>\n",
      "          <td>\n",
      "           a897fe39b1053632\n",
      "          </td>\n",
      "         </tr>\n",
      "         <tr>\n",
      "          <th>\n",
      "           Product Type\n",
      "          </th>\n",
      "          <td>\n",
      "           Books\n",
      "          </td>\n",
      "         </tr>\n",
      "         <tr>\n",
      "          <th>\n",
      "           Price (excl. tax)\n",
      "          </th>\n",
      "          <td>\n",
      "           £51.77\n",
      "          </td>\n",
      "         </tr>\n",
      "         <tr>\n",
      "          <th>\n",
      "           Price (incl. tax)\n",
      "          </th>\n",
      "          <td>\n",
      "           £51.77\n",
      "          </td>\n",
      "         </tr>\n",
      "         <tr>\n",
      "          <th>\n",
      "           Tax\n",
      "          </th>\n",
      "          <td>\n",
      "           £0.00\n",
      "          </td>\n",
      "         </tr>\n",
      "         <tr>\n",
      "          <th>\n",
      "           Availability\n",
      "          </th>\n",
      "          <td>\n",
      "           In stock (22 available)\n",
      "          </td>\n",
      "         </tr>\n",
      "         <tr>\n",
      "          <th>\n",
      "           Number of reviews\n",
      "          </th>\n",
      "          <td>\n",
      "           0\n",
      "          </td>\n",
      "         </tr>\n",
      "        </tbody>\n",
      "       </table>\n",
      "       <section>\n",
      "        <div class=\"sub-header\" id=\"reviews\">\n",
      "        </div>\n",
      "       </section>\n",
      "      </article>\n",
      "      <!-- End of product page -->\n",
      "     </div>\n",
      "    </div>\n",
      "   </div>\n",
      "  </div>\n",
      "  <footer class=\"footer container-fluid\">\n",
      "  </footer>\n",
      "  <!-- jQuery -->\n",
      "  <script src=\"http://ajax.googleapis.com/ajax/libs/jquery/1.9.1/jquery.min.js\">\n",
      "  </script>\n",
      "  <script>\n",
      "   window.jQuery || document.write('<script src=\"../../static/oscar/js/jquery/jquery-1.9.1.min.js\"><\\/script>')\n",
      "  </script>\n",
      "  <script src=\"../../static/oscar/js/jquery/jquery-1.9.1.min.js\">\n",
      "  </script>\n",
      "  <!-- Twitter Bootstrap -->\n",
      "  <script src=\"../../static/oscar/js/bootstrap3/bootstrap.min.js\" type=\"text/javascript\">\n",
      "  </script>\n",
      "  <!-- Oscar -->\n",
      "  <script charset=\"utf-8\" src=\"../../static/oscar/js/oscar/ui.js\" type=\"text/javascript\">\n",
      "  </script>\n",
      "  <script charset=\"utf-8\" src=\"../../static/oscar/js/bootstrap-datetimepicker/bootstrap-datetimepicker.js\" type=\"text/javascript\">\n",
      "  </script>\n",
      "  <script charset=\"utf-8\" src=\"../../static/oscar/js/bootstrap-datetimepicker/locales/bootstrap-datetimepicker.all.js\" type=\"text/javascript\">\n",
      "  </script>\n",
      "  <script type=\"text/javascript\">\n",
      "   $(function() {\n",
      "                \n",
      "    \n",
      "    oscar.init();\n",
      "\n",
      "            });\n",
      "  </script>\n",
      "  <!-- Version: N/A -->\n",
      " </body>\n",
      "</html>\n"
     ]
    }
   ],
   "source": [
    "data = bs(driver.page_source , 'lxml')\n",
    "print(data.prettify())"
   ]
  },
  {
   "cell_type": "code",
   "execution_count": 27,
   "metadata": {},
   "outputs": [],
   "source": [
    "ta = data.table()"
   ]
  },
  {
   "cell_type": "code",
   "execution_count": 28,
   "metadata": {},
   "outputs": [
    {
     "data": {
      "text/plain": [
       "[<tbody><tr>\n",
       " <th>UPC</th><td>a897fe39b1053632</td>\n",
       " </tr>\n",
       " <tr>\n",
       " <th>Product Type</th><td>Books</td>\n",
       " </tr>\n",
       " <tr>\n",
       " <th>Price (excl. tax)</th><td>£51.77</td>\n",
       " </tr>\n",
       " <tr>\n",
       " <th>Price (incl. tax)</th><td>£51.77</td>\n",
       " </tr>\n",
       " <tr>\n",
       " <th>Tax</th><td>£0.00</td>\n",
       " </tr>\n",
       " <tr>\n",
       " <th>Availability</th>\n",
       " <td>In stock (22 available)</td>\n",
       " </tr>\n",
       " <tr>\n",
       " <th>Number of reviews</th>\n",
       " <td>0</td>\n",
       " </tr>\n",
       " </tbody>,\n",
       " <tr>\n",
       " <th>UPC</th><td>a897fe39b1053632</td>\n",
       " </tr>,\n",
       " <th>UPC</th>,\n",
       " <td>a897fe39b1053632</td>,\n",
       " <tr>\n",
       " <th>Product Type</th><td>Books</td>\n",
       " </tr>,\n",
       " <th>Product Type</th>,\n",
       " <td>Books</td>,\n",
       " <tr>\n",
       " <th>Price (excl. tax)</th><td>£51.77</td>\n",
       " </tr>,\n",
       " <th>Price (excl. tax)</th>,\n",
       " <td>£51.77</td>,\n",
       " <tr>\n",
       " <th>Price (incl. tax)</th><td>£51.77</td>\n",
       " </tr>,\n",
       " <th>Price (incl. tax)</th>,\n",
       " <td>£51.77</td>,\n",
       " <tr>\n",
       " <th>Tax</th><td>£0.00</td>\n",
       " </tr>,\n",
       " <th>Tax</th>,\n",
       " <td>£0.00</td>,\n",
       " <tr>\n",
       " <th>Availability</th>\n",
       " <td>In stock (22 available)</td>\n",
       " </tr>,\n",
       " <th>Availability</th>,\n",
       " <td>In stock (22 available)</td>,\n",
       " <tr>\n",
       " <th>Number of reviews</th>\n",
       " <td>0</td>\n",
       " </tr>,\n",
       " <th>Number of reviews</th>,\n",
       " <td>0</td>]"
      ]
     },
     "execution_count": 28,
     "metadata": {},
     "output_type": "execute_result"
    }
   ],
   "source": [
    "ta"
   ]
  },
  {
   "cell_type": "code",
   "execution_count": 30,
   "metadata": {},
   "outputs": [
    {
     "ename": "ValueError",
     "evalue": "No tables found",
     "output_type": "error",
     "traceback": [
      "\u001b[1;31m---------------------------------------------------------------------------\u001b[0m",
      "\u001b[1;31mValueError\u001b[0m                                Traceback (most recent call last)",
      "\u001b[1;32m<ipython-input-30-b8f48a1d7a34>\u001b[0m in \u001b[0;36m<module>\u001b[1;34m\u001b[0m\n\u001b[1;32m----> 1\u001b[1;33m \u001b[0mdf\u001b[0m \u001b[1;33m=\u001b[0m \u001b[0mpd\u001b[0m\u001b[1;33m.\u001b[0m\u001b[0mread_html\u001b[0m\u001b[1;33m(\u001b[0m\u001b[0mstr\u001b[0m\u001b[1;33m(\u001b[0m\u001b[0mta\u001b[0m\u001b[1;33m)\u001b[0m \u001b[1;33m,\u001b[0m \u001b[0mheader\u001b[0m \u001b[1;33m=\u001b[0m \u001b[1;36m0\u001b[0m\u001b[1;33m)\u001b[0m\u001b[1;33m\u001b[0m\u001b[1;33m\u001b[0m\u001b[0m\n\u001b[0m\u001b[0;32m      2\u001b[0m \u001b[0mdf\u001b[0m\u001b[1;33m\u001b[0m\u001b[1;33m\u001b[0m\u001b[0m\n",
      "\u001b[1;32m~\\anaconda3\\lib\\site-packages\\pandas\\io\\html.py\u001b[0m in \u001b[0;36mread_html\u001b[1;34m(io, match, flavor, header, index_col, skiprows, attrs, parse_dates, thousands, encoding, decimal, converters, na_values, keep_default_na, displayed_only)\u001b[0m\n\u001b[0;32m   1083\u001b[0m         )\n\u001b[0;32m   1084\u001b[0m     \u001b[0mvalidate_header_arg\u001b[0m\u001b[1;33m(\u001b[0m\u001b[0mheader\u001b[0m\u001b[1;33m)\u001b[0m\u001b[1;33m\u001b[0m\u001b[1;33m\u001b[0m\u001b[0m\n\u001b[1;32m-> 1085\u001b[1;33m     return _parse(\n\u001b[0m\u001b[0;32m   1086\u001b[0m         \u001b[0mflavor\u001b[0m\u001b[1;33m=\u001b[0m\u001b[0mflavor\u001b[0m\u001b[1;33m,\u001b[0m\u001b[1;33m\u001b[0m\u001b[1;33m\u001b[0m\u001b[0m\n\u001b[0;32m   1087\u001b[0m         \u001b[0mio\u001b[0m\u001b[1;33m=\u001b[0m\u001b[0mio\u001b[0m\u001b[1;33m,\u001b[0m\u001b[1;33m\u001b[0m\u001b[1;33m\u001b[0m\u001b[0m\n",
      "\u001b[1;32m~\\anaconda3\\lib\\site-packages\\pandas\\io\\html.py\u001b[0m in \u001b[0;36m_parse\u001b[1;34m(flavor, io, match, attrs, encoding, displayed_only, **kwargs)\u001b[0m\n\u001b[0;32m    913\u001b[0m             \u001b[1;32mbreak\u001b[0m\u001b[1;33m\u001b[0m\u001b[1;33m\u001b[0m\u001b[0m\n\u001b[0;32m    914\u001b[0m     \u001b[1;32melse\u001b[0m\u001b[1;33m:\u001b[0m\u001b[1;33m\u001b[0m\u001b[1;33m\u001b[0m\u001b[0m\n\u001b[1;32m--> 915\u001b[1;33m         \u001b[1;32mraise\u001b[0m \u001b[0mretained\u001b[0m\u001b[1;33m\u001b[0m\u001b[1;33m\u001b[0m\u001b[0m\n\u001b[0m\u001b[0;32m    916\u001b[0m \u001b[1;33m\u001b[0m\u001b[0m\n\u001b[0;32m    917\u001b[0m     \u001b[0mret\u001b[0m \u001b[1;33m=\u001b[0m \u001b[1;33m[\u001b[0m\u001b[1;33m]\u001b[0m\u001b[1;33m\u001b[0m\u001b[1;33m\u001b[0m\u001b[0m\n",
      "\u001b[1;32m~\\anaconda3\\lib\\site-packages\\pandas\\io\\html.py\u001b[0m in \u001b[0;36m_parse\u001b[1;34m(flavor, io, match, attrs, encoding, displayed_only, **kwargs)\u001b[0m\n\u001b[0;32m    893\u001b[0m \u001b[1;33m\u001b[0m\u001b[0m\n\u001b[0;32m    894\u001b[0m         \u001b[1;32mtry\u001b[0m\u001b[1;33m:\u001b[0m\u001b[1;33m\u001b[0m\u001b[1;33m\u001b[0m\u001b[0m\n\u001b[1;32m--> 895\u001b[1;33m             \u001b[0mtables\u001b[0m \u001b[1;33m=\u001b[0m \u001b[0mp\u001b[0m\u001b[1;33m.\u001b[0m\u001b[0mparse_tables\u001b[0m\u001b[1;33m(\u001b[0m\u001b[1;33m)\u001b[0m\u001b[1;33m\u001b[0m\u001b[1;33m\u001b[0m\u001b[0m\n\u001b[0m\u001b[0;32m    896\u001b[0m         \u001b[1;32mexcept\u001b[0m \u001b[0mValueError\u001b[0m \u001b[1;32mas\u001b[0m \u001b[0mcaught\u001b[0m\u001b[1;33m:\u001b[0m\u001b[1;33m\u001b[0m\u001b[1;33m\u001b[0m\u001b[0m\n\u001b[0;32m    897\u001b[0m             \u001b[1;31m# if `io` is an io-like object, check if it's seekable\u001b[0m\u001b[1;33m\u001b[0m\u001b[1;33m\u001b[0m\u001b[1;33m\u001b[0m\u001b[0m\n",
      "\u001b[1;32m~\\anaconda3\\lib\\site-packages\\pandas\\io\\html.py\u001b[0m in \u001b[0;36mparse_tables\u001b[1;34m(self)\u001b[0m\n\u001b[0;32m    211\u001b[0m         \u001b[0mlist\u001b[0m \u001b[0mof\u001b[0m \u001b[0mparsed\u001b[0m \u001b[1;33m(\u001b[0m\u001b[0mheader\u001b[0m\u001b[1;33m,\u001b[0m \u001b[0mbody\u001b[0m\u001b[1;33m,\u001b[0m \u001b[0mfooter\u001b[0m\u001b[1;33m)\u001b[0m \u001b[0mtuples\u001b[0m \u001b[1;32mfrom\u001b[0m \u001b[0mtables\u001b[0m\u001b[1;33m.\u001b[0m\u001b[1;33m\u001b[0m\u001b[1;33m\u001b[0m\u001b[0m\n\u001b[0;32m    212\u001b[0m         \"\"\"\n\u001b[1;32m--> 213\u001b[1;33m         \u001b[0mtables\u001b[0m \u001b[1;33m=\u001b[0m \u001b[0mself\u001b[0m\u001b[1;33m.\u001b[0m\u001b[0m_parse_tables\u001b[0m\u001b[1;33m(\u001b[0m\u001b[0mself\u001b[0m\u001b[1;33m.\u001b[0m\u001b[0m_build_doc\u001b[0m\u001b[1;33m(\u001b[0m\u001b[1;33m)\u001b[0m\u001b[1;33m,\u001b[0m \u001b[0mself\u001b[0m\u001b[1;33m.\u001b[0m\u001b[0mmatch\u001b[0m\u001b[1;33m,\u001b[0m \u001b[0mself\u001b[0m\u001b[1;33m.\u001b[0m\u001b[0mattrs\u001b[0m\u001b[1;33m)\u001b[0m\u001b[1;33m\u001b[0m\u001b[1;33m\u001b[0m\u001b[0m\n\u001b[0m\u001b[0;32m    214\u001b[0m         \u001b[1;32mreturn\u001b[0m \u001b[1;33m(\u001b[0m\u001b[0mself\u001b[0m\u001b[1;33m.\u001b[0m\u001b[0m_parse_thead_tbody_tfoot\u001b[0m\u001b[1;33m(\u001b[0m\u001b[0mtable\u001b[0m\u001b[1;33m)\u001b[0m \u001b[1;32mfor\u001b[0m \u001b[0mtable\u001b[0m \u001b[1;32min\u001b[0m \u001b[0mtables\u001b[0m\u001b[1;33m)\u001b[0m\u001b[1;33m\u001b[0m\u001b[1;33m\u001b[0m\u001b[0m\n\u001b[0;32m    215\u001b[0m \u001b[1;33m\u001b[0m\u001b[0m\n",
      "\u001b[1;32m~\\anaconda3\\lib\\site-packages\\pandas\\io\\html.py\u001b[0m in \u001b[0;36m_parse_tables\u001b[1;34m(self, doc, match, attrs)\u001b[0m\n\u001b[0;32m    543\u001b[0m \u001b[1;33m\u001b[0m\u001b[0m\n\u001b[0;32m    544\u001b[0m         \u001b[1;32mif\u001b[0m \u001b[1;32mnot\u001b[0m \u001b[0mtables\u001b[0m\u001b[1;33m:\u001b[0m\u001b[1;33m\u001b[0m\u001b[1;33m\u001b[0m\u001b[0m\n\u001b[1;32m--> 545\u001b[1;33m             \u001b[1;32mraise\u001b[0m \u001b[0mValueError\u001b[0m\u001b[1;33m(\u001b[0m\u001b[1;34m\"No tables found\"\u001b[0m\u001b[1;33m)\u001b[0m\u001b[1;33m\u001b[0m\u001b[1;33m\u001b[0m\u001b[0m\n\u001b[0m\u001b[0;32m    546\u001b[0m \u001b[1;33m\u001b[0m\u001b[0m\n\u001b[0;32m    547\u001b[0m         \u001b[0mresult\u001b[0m \u001b[1;33m=\u001b[0m \u001b[1;33m[\u001b[0m\u001b[1;33m]\u001b[0m\u001b[1;33m\u001b[0m\u001b[1;33m\u001b[0m\u001b[0m\n",
      "\u001b[1;31mValueError\u001b[0m: No tables found"
     ]
    }
   ],
   "source": [
    "df = pd.read_html(str(ta) , header = 0)\n",
    "df"
   ]
  },
  {
   "cell_type": "code",
   "execution_count": 31,
   "metadata": {},
   "outputs": [],
   "source": [
    "driver.back()"
   ]
  },
  {
   "cell_type": "code",
   "execution_count": 54,
   "metadata": {},
   "outputs": [],
   "source": [
    "driver.get('https://www.google.com/')"
   ]
  },
  {
   "cell_type": "code",
   "execution_count": 51,
   "metadata": {},
   "outputs": [],
   "source": [
    "t = driver.find_element_by_name('q')\n",
    "t.send_keys('time and date')\n",
    "t.submit()"
   ]
  },
  {
   "cell_type": "code",
   "execution_count": 52,
   "metadata": {},
   "outputs": [],
   "source": [
    "s = driver.find_element_by_partial_link_text('Time and Date')\n",
    "s.click()"
   ]
  },
  {
   "cell_type": "code",
   "execution_count": 37,
   "metadata": {},
   "outputs": [
    {
     "name": "stdout",
     "output_type": "stream",
     "text": [
      "https://www.timeanddate.com/\n"
     ]
    }
   ],
   "source": [
    "print(driver.current_url)"
   ]
  },
  {
   "cell_type": "code",
   "execution_count": 53,
   "metadata": {},
   "outputs": [],
   "source": [
    "ss = driver.find_element_by_partial_link_text('World Clock')\n",
    "ss.click()"
   ]
  },
  {
   "cell_type": "code",
   "execution_count": 39,
   "metadata": {},
   "outputs": [],
   "source": [
    "data = bs(driver.page_source , 'lxml')"
   ]
  },
  {
   "cell_type": "code",
   "execution_count": 40,
   "metadata": {},
   "outputs": [
    {
     "data": {
      "text/plain": [
       "<html lang=\"en\"><head><meta content=\"text/html; charset=utf-8\" http-equiv=\"Content-Type\"/><title>The World Clock — Worldwide</title><meta content=\"World time and date for cities in all time zones. International time right now. Takes into account all DST clock changes.\" name=\"description\"/><meta content=\"world clock, time, time zone, time zones, world time, daylight saving time, DST, DLS, current time, clock, international, savings, zone, change, changes, forward, backward, hour, hours, 60 minutes, time in, what is the time in, what time is it in, night, day, local time, sunset, sunrise, moonset, moonrise, weather, weather forecast\" name=\"keywords\"/><meta content=\"https://www.timeanddate.com/scripts/worldclock_og.php?h1=World%20Clock&amp;h2=Local%20Time%20Around%20the%20World\" property=\"og:image\"/><meta content=\"1200\" property=\"og:image:width\"/><meta content=\"630\" property=\"og:image:height\"/><meta content=\"website\" property=\"og:type\"/><style>\n",
       "@font-face{font-family:iconfont;src:url(\"/common/fonts/iconfont.woff2?v7\") format(\"woff2\"),url(\"/common/fonts/iconfont.woff?v7\") format(\"woff\"),url(\"/common/fonts/iconfont.ttf?v7\") format(\"truetype\"),url(\"/common/fonts/iconfont.svg?v7#iconfont\") format(\"svg\");font-weight:400;font-style:normal}\n",
       "</style>\n",
       "<link as=\"font\" crossorigin=\"\" href=\"/common/fonts/iconfont.woff2?v7\" rel=\"preload\" type=\"font/woff2\"/>\n",
       "<link crossorigin=\"\" href=\"https://c.tadst.com\" rel=\"preconnect\"/>\n",
       "<link href=\"https://www.timeanddate.de/uhrzeit/\" hreflang=\"de\" rel=\"alternate\"/>\n",
       "<link href=\"https://www.timeanddate.no/klokka/\" hreflang=\"no\" rel=\"alternate\"/>\n",
       "<link as=\"script\" href=\"/common/prebidtaddesk_9.js\" rel=\"preload\"/>\n",
       "<script async=\"async\" src=\"https://securepubads.g.doubleclick.net/tag/js/gpt.js\"></script>\n",
       "<script async=\"async\" src=\"//timeanddate-d.openx.net/w/1.0/jstag?nc=1004254-timeanddate\"></script>\n",
       "<script>\n",
       "var hbbids={},adUnits=[{code:'div-gpt-com-728x90',mediaTypes:{banner:{sizes:[[728,90]]}},bids:[{bidder:'appnexus',params:{placementId:11439172}},{bidder:'aol',params:{dcn:'8a96958f01707087f9589c40e2820046',pos:'728x90_atf'}},{bidder:'ix',params:{siteId:'189917',size:[728,90]}},{bidder:'rubicon',params:{accountId:'16448',siteId:'127484',zoneId:'601634'}},{bidder:'emx_digital',params:{tagid:'66298'}}]},{code:'div-gpt-com-300x250',mediaTypes:{banner:{sizes:[[300,250]]}},bids:[{bidder:'appnexus',params:{placementId:11439174}},{bidder:'aol',params:{dcn:'8a96958f01707087f9589c40e2820046',pos:'300x250'}},{bidder:'ix',params:{siteId:'189919',size:[300,250]}},{bidder:'rubicon',params:{accountId:'16448',siteId:'127484',zoneId:'601640'}},{bidder:'emx_digital',params:{tagid:'66302'}}]}];\n",
       ";\n",
       "var pbjs=pbjs||{};pbjs.que=pbjs.que||[];\n",
       "var googletag=googletag||{};\n",
       "googletag.cmd=googletag.cmd||[];\n",
       "googletag.cmd.push(function(){googletag.pubads().disableInitialLoad();});\n",
       "pbjs.que.push(function(){\n",
       "pbjs.setConfig({\n",
       "debug:false,\n",
       "userSync:{userIds:[{name:\"criteo\"},{name:\"sharedId\",storage:{name:\"sharedid\",type:\"cookie\",expires: 28}},{name:\"pubCommonId\",params:{enableSharedId:true},storage:{type:\"cookie\",name:\"_pubcid\",expires:365}}]},\n",
       "priceGranularity:{\"buckets\":[{\"min\":0,\"max\":20,\"increment\":0.01},{\"min\":20,\"max\":30,\"increment\":0.10},{\"min\":30,\"max\":50,\"increment\":0.25},{\"min\":50,\"max\":100,\"increment\":1}]},\n",
       "enableSendAllBids:true,\n",
       "bidderTimeout:1000,\n",
       "publisherDomain: \"https://www.timeanddate.com\"\n",
       "});\n",
       "pbjs.addAdUnits(adUnits);\n",
       "pbjs.requestBids({bidsBackHandler:prebidDone});\n",
       "});\n",
       "function prebidDone(){\n",
       "hbbids.prebid=1;\n",
       "if(hbbids.ox){sendAdserverRequest()}\n",
       "}\n",
       "function oxDone(){hbbids.ox=1;if(hbbids.prebid){sendAdserverRequest()}};\n",
       "\n",
       "function sendAdserverRequest(){\n",
       "if(pbjs.adserverRequestSent)return;\n",
       "var isLog=0;\n",
       "function logAds(){\n",
       "if(isLog){return;}\n",
       "if(!window.jcb || !window.TADhba){\n",
       "setTimeout(logAds,1000);\n",
       "return;\n",
       "}\n",
       "isLog=1;\n",
       "jcb(\"/scripts/logads.php?d=d\"+\"&\"+TADhba(),function(){});\n",
       "}\n",
       "setTimeout(logAds,1000);\n",
       "pbjs.adserverRequestSent=true;\n",
       "googletag.cmd.push(function(){\n",
       "pbjs.que.push(function(){\n",
       "var c=0,a,b,r=pbjs.getBidResponses();\n",
       "var ox=window.OX;if(ox&&ox.dfp_bidder){ox.dfp_bidder.setOxTargeting();try{var pm=ox.dfp_bidder.getPriceMap();for(i=0;i<pm.length;i++){if(pm[i].price){c++}}}catch(e){};}\n",
       "pbjs.setTargetingForGPTAsync();\n",
       "for(a in r){\n",
       "if(r.hasOwnProperty(a)){\n",
       "b=r[a].bids;for(var i=0;i<b.length;i++){if(b[i].cpm){c++;}}\n",
       "}\n",
       "}\n",
       "if(window.pbv){googletag.pubads().setTargeting(\"pbv\",window.pbv);}\n",
       "googletag.pubads().setTargeting(\"tadbid\",\"\"+c).refresh();\n",
       "});\n",
       "});\n",
       "}\n",
       "setTimeout(function(){\n",
       "sendAdserverRequest();\n",
       "},3000);\n",
       "var OX_dfp_options={prefetch:true};\n",
       "var OX_dfp_ads=[[\"/1004254/com728\",[\"728x90\"],\"div-gpt-com-728x90\"],[\"/1004254/com_300\",[\"300x250\"],\"div-gpt-com-300x250\"]];\n",
       "\n",
       "var googletag=googletag||{};\n",
       "googletag.cmd=googletag.cmd||[];\n",
       "googletag.cmd.push(function() {googletag.defineSlot('/1004254/com728',[728,90],'div-gpt-com-728x90').setTargeting('pf','053').addService(googletag.pubads());\n",
       "googletag.defineSlot('/1004254/com_300',[300,250],'div-gpt-com-300x250').setTargeting('pf','053').addService(googletag.pubads());\n",
       "googletag.pubads().setTargeting('ab','b').setTargeting('art','3203').setTargeting('hr','11').setTargeting('tadhb','12').setTargeting('pf','055').setTargeting('gdpr','na').enableSingleRequest();googletag.enableServices();});\n",
       "</script>\n",
       "<script async=\"\" src=\"/common/prebidtaddesk_9.js\"></script>\n",
       "<link as=\"script\" href=\"/common/prebidtaddesk_9.js\" rel=\"preload\"/>\n",
       "<script async=\"async\" src=\"https://securepubads.g.doubleclick.net/tag/js/gpt.js\"></script>\n",
       "<script async=\"async\" src=\"//timeanddate-d.openx.net/w/1.0/jstag?nc=1004254-timeanddate\"></script><link href=\"/site.webmanifest\" rel=\"manifest\"/><link href=\"/favicon-48x48.png\" rel=\"icon\" sizes=\"48x48\" type=\"image/png\"/><link href=\"/favicon-16x16.png\" rel=\"icon\" sizes=\"16x16\" type=\"image/png\"/><link href=\"/favicon-32x32.png\" rel=\"icon\" sizes=\"32x32\" type=\"image/png\"/><link href=\"/common/global_116.css\" rel=\"stylesheet\" type=\"text/css\"/><link href=\"/common/worldclock_lists_8.css\" rel=\"stylesheet\" type=\"text/css\"/><style>\n",
       "#ad300{margin-bottom:0px;}\n",
       ".bn-header--worldclock{\n",
       "background:#176DB3 url(//c.tadst.com/gfx/n/citybg-map.png) 50% 5% no-repeat;\n",
       "background-attachment: fixed;\n",
       "}\n",
       "#ad-wrap{background:#176DB3}\n",
       "/* OTHER V1 STUFF */\n",
       ".my-city__header:before{\n",
       "content:'';\n",
       "}\n",
       ".tb-theme label{\n",
       "color:#fff;\n",
       "}\n",
       ".tb-theme select{\n",
       "color:#454545;\n",
       "font-weight:normal;\n",
       "}\n",
       "button.tb-conf{\n",
       "background-color: #b31760;\n",
       "}\n",
       ".tb-quick-change{\n",
       "margin-bottom:6px;\n",
       "color:#777;\n",
       "line-height:1.4;\n",
       "}\n",
       ".tb-header{\n",
       "float:left;\n",
       "}\n",
       ".tb-show{\n",
       "float:right;\n",
       "margin-left:12px;\n",
       "}\n",
       ".tb-scroll{\n",
       "padding-top:0px;\n",
       "}\n",
       "@media only screen and (max-width: 64em){\n",
       ".tb-header{\n",
       "float:none;\n",
       "}\n",
       ".tb-show{\n",
       "float:left;\n",
       "}\n",
       "button.tb-conf {\n",
       "margin-right: 0px;\n",
       "}\n",
       ".tb-scroll{\n",
       "clear:both; \n",
       "}\n",
       "}\n",
       "@media only screen and (max-width: 37.438em){\n",
       ".tb-header{\n",
       "float:none;\n",
       "}\n",
       ".tb-show{\n",
       "float:none;\n",
       "margin:0px 0px 6px 0px;\n",
       "}\n",
       "button.tb-conf {\n",
       "margin-right: 12px;\n",
       "}\n",
       "}\n",
       ".my-city__more {\n",
       "z-index: 100;\n",
       "top: 0;\n",
       "}\n",
       "@media only screen and (max-width: 50em) {\n",
       ".my-city__more {\n",
       "display: none;\n",
       "}\n",
       "}\n",
       "</style><meta content=\"A2shzsdPO+RKe83bUqT9oVkYwGZN6j9O7nrcOASNFPuQz8HefgVYb9qAqn6coNCSDIRtXoi6ybCrjEsYh3caFgIAAAB7eyJvcmlnaW4iOiJodHRwczovL2RvdWJsZWNsaWNrLm5ldDo0NDMiLCJmZWF0dXJlIjoiVHJ1c3RUb2tlbnMiLCJleHBpcnkiOjE2MTM0OTU4NjgsImlzU3ViZG9tYWluIjp0cnVlLCJpc1RoaXJkUGFydHkiOnRydWV9\" http-equiv=\"origin-trial\"/><script async=\"\" src=\"https://securepubads.g.doubleclick.net/gpt/pubads_impl_2021011203.js\"></script><script id=\"ox_acj_9184515065\" src=\"https://timeanddate-d.openx.net/w/1.0/acj?ai=6a14e9d6-7e1a-4424-9444-8746a3958a7d&amp;o=9184515065&amp;callback=OX_9184515065&amp;ju=https%3A//www.timeanddate.com/worldclock/&amp;jr=https%3A//www.timeanddate.com/&amp;be=1&amp;bc=hb_1api&amp;bt=2500&amp;auid=538561727&amp;aus=728x90&amp;dims=1036x374&amp;adxy=290%2C10&amp;res=1536x864x24&amp;plg=pm&amp;ch=UTF-8&amp;tz=-330&amp;ws=1036x374&amp;ifr=0&amp;tws=1036x374&amp;sd=2&amp;nl=222&amp;ul=357\" type=\"text/javascript\"></script><script id=\"ox_acj_3414699934\" src=\"https://timeanddate-d.openx.net/w/1.0/acj?ai=6a14e9d6-7e1a-4424-9444-8746a3958a7d&amp;o=3414699934&amp;callback=OX_3414699934&amp;ju=https%3A//www.timeanddate.com/worldclock/&amp;jr=https%3A//www.timeanddate.com/&amp;be=1&amp;bc=hb_1api&amp;bt=2500&amp;auid=538561727&amp;aus=300x250&amp;res=1536x864x24&amp;plg=pm&amp;ch=UTF-8&amp;tz=-330&amp;ws=1036x374&amp;ifr=0&amp;tws=1036x374&amp;sd=2&amp;nl=222&amp;ul=357\" type=\"text/javascript\"></script><link as=\"script\" href=\"https://adservice.google.co.in/adsid/integrator.js?domain=www.timeanddate.com\" rel=\"preload\"/><script src=\"https://adservice.google.co.in/adsid/integrator.js?domain=www.timeanddate.com\" type=\"text/javascript\"></script><link as=\"script\" href=\"https://adservice.google.com/adsid/integrator.js?domain=www.timeanddate.com\" rel=\"preload\"/><script src=\"https://adservice.google.com/adsid/integrator.js?domain=www.timeanddate.com\" type=\"text/javascript\"></script><link href=\"https://a4448bfb51d281fd996e8ebf965373d3.safeframe.googlesyndication.com/safeframe/1-0-37/html/container.html\" rel=\"prefetch\"/><link href=\"https://tpc.googlesyndication.com/safeframe/1-0-37/html/container.html\" rel=\"prefetch\"/></head><body class=\"tpl-fluid\"><div class=\"header__wrapper\" id=\"header__wrapper\"><div class=\"header__inner\" id=\"header__inner\" style=\"top: -110px; transition: none 0s ease 0s;\"><div class=\"banner\" id=\"header\"><div class=\"fixed\"><div id=\"logo\"><a href=\"/\" rel=\"home\"><img alt=\"timeanddate.com\" src=\"//c.tadst.com/gfx/n/tad-logo-com3.png\" title=\"Home page timeanddate.com\"/></a></div></div></div><div id=\"ad-wrap\"><div class=\"fixed\" id=\"ad-wrap2\"><div id=\"ad7\"><div data-google-query-id=\"CJ_9-uK4qu4CFc5_fQodcXoBtA\" id=\"div-gpt-com-728x90\" style=\"width:728px;height:90px;\">\n",
       "<div id=\"google_ads_iframe_/1004254/com728_0__container__\" style=\"border: 0pt none;\"><iframe data-google-container-id=\"1\" data-load-complete=\"true\" frameborder=\"0\" height=\"90\" id=\"google_ads_iframe_/1004254/com728_0\" marginheight=\"0\" marginwidth=\"0\" name=\"google_ads_iframe_/1004254/com728_0\" sandbox=\"allow-forms allow-popups allow-popups-to-escape-sandbox allow-same-origin allow-scripts allow-top-navigation-by-user-activation\" scrolling=\"no\" srcdoc=\"\" style=\"border: 0px; vertical-align: bottom;\" title=\"3rd party ad content\" width=\"728\"></iframe></div></div></div></div></div><nav class=\"site-nav-bar\" id=\"nav\"><div class=\"site-nav-bar__inner fixed\"><button aria-label=\"Menu\" class=\"site-nav-bar__button site-nav-bar__button--menu\" id=\"site-nav-menu\" title=\"Menu\"><i class=\"i-font i-menu\"></i></button><div class=\"site-nav-bar__logo\"><a href=\"/\" rel=\"home\" title=\"Home page timeanddate.com\"><img alt=\"timeanddate.com\" loading=\"lazy\" src=\"//c.tadst.com/gfx/n/logo-mobile--com.svg\"/></a></div><button aria-label=\"Share\" class=\"site-nav-bar__button\" onclick=\"modpop('/custom/shareframe.php', null, 'Share...')\" title=\"Share\"><i class=\"i-font i-share\"></i></button><form action=\"/search/results.html\" class=\"site-nav-bar__search-form\"><input aria-label=\"Search\" class=\"site-nav-bar__search\" id=\"site-nav-search\" name=\"query\" placeholder=\"Search...\" title=\"Search\"/><button aria-label=\"Search\" class=\"site-nav-bar__button site-nav-bar__button--search\" id=\"site-nav-search-btn\"><div class=\"site-nav-bar__search-inner\"><i class=\"i-font i-search\"></i></div></button></form><div class=\"site-nav-bar__menu-wrap\"><div class=\"site-nav__header\"><button class=\"site-nav__login\" id=\"site-nav-login\">Sign in</button><button class=\"site-nav__close\" id=\"site-nav-close\"><i class=\"i-font i-close\"></i></button></div><ul class=\"site-nav\" id=\"site-nav\"><li class=\"site-nav__menu\"><a class=\"site-nav__title\" href=\"/\">Home</a><ul class=\"site-nav__sub-menu\"><li class=\"site-nav__item site-nav__item--divider site-nav__item--mob\"><a class=\"site-nav__link\" href=\"/\">Home Page</a></li><li class=\"site-nav__item\"><a class=\"site-nav__link\" href=\"/newsletter/\">Newsletter</a></li><li class=\"site-nav__item\"><a class=\"site-nav__link\" href=\"/information/\">About Us</a></li><li class=\"site-nav__item site-nav__item--divider\"><a class=\"site-nav__link\" href=\"/information/feedback.html\">Contact Us</a></li><li class=\"site-nav__item\"><a class=\"site-nav__link\" href=\"/sitemap.html\">Site Map</a></li><li class=\"site-nav__item site-nav__item--divider\"><a class=\"site-nav__link\" href=\"/topics/\">Our Articles</a></li><li class=\"site-nav__item\"><a class=\"site-nav__link\" href=\"/custom/\">Account/Settings</a></li></ul></li><li class=\"site-nav__menu active\"><a class=\"site-nav__title\" href=\"/worldclock/\">World Clock</a><ul class=\"site-nav__sub-menu\"><li class=\"site-nav__item\"><a class=\"site-nav__link\" href=\"/worldclock/\">Main World Clock</a></li><li class=\"site-nav__item\"><a class=\"site-nav__link\" href=\"/worldclock/full.html\">Extended World Clock</a></li><li class=\"site-nav__item site-nav__item--divider\"><a class=\"site-nav__link\" href=\"/worldclock/personal.html\">Personal World Clock</a></li><li class=\"site-nav__item\"><a class=\"site-nav__link\" href=\"/worldclock/search.html\">World Time Lookup </a></li><li class=\"site-nav__item\"><a class=\"site-nav__link\" href=\"/worldclock/timezone/utc\">UTC Time</a></li></ul></li><li class=\"site-nav__menu\"><a class=\"site-nav__title\" href=\"/time/\">Time Zones</a><ul class=\"site-nav__sub-menu\"><li class=\"site-nav__item site-nav__item--divider site-nav__item--mob\"><a class=\"site-nav__link\" href=\"/time\">Time Zones Home</a></li><li class=\"site-nav__item\"><a class=\"site-nav__link\" href=\"/worldclock/converter.html\">Time Zone Converter</a></li><li class=\"site-nav__item\"><a class=\"site-nav__link\" href=\"/worldclock/meeting.html\">International Meeting Planner</a></li><li class=\"site-nav__item site-nav__item--divider\"><a class=\"site-nav__link\" href=\"/worldclock/fixedform.html\">Event Time Announcer</a></li><li class=\"site-nav__item\"><a class=\"site-nav__link\" href=\"/time/map/\">Time Zone Map</a></li><li class=\"site-nav__item site-nav__item--divider\"><a class=\"site-nav__link\" href=\"/time/zones/\">Time Zone Abbreviations</a></li><li class=\"site-nav__item\"><a class=\"site-nav__link\" href=\"/time/dst/\">Daylight Saving Time</a></li><li class=\"site-nav__item\"><a class=\"site-nav__link\" href=\"/time/change/\">Time Changes Worldwide</a></li><li class=\"site-nav__item\"><a class=\"site-nav__link\" href=\"/time/difference/\">Time Difference</a></li><li class=\"site-nav__item\"><a class=\"site-nav__link\" href=\"/news/time/\">Time Zone News</a></li></ul></li><li class=\"site-nav__menu\"><a class=\"site-nav__title\" href=\"/calendar/\">Calendar</a><ul class=\"site-nav__sub-menu\"><li class=\"site-nav__item site-nav__item--divider site-nav__item--mob\"><a class=\"site-nav__link\" href=\"/calendar/info.html\">Calendars Home</a></li><li class=\"site-nav__item\"><a class=\"site-nav__link\" href=\"/calendar/\">Calendar 2021</a></li><li class=\"site-nav__item\"><a class=\"site-nav__link\" href=\"/calendar/?year=2022\">Calendar 2022</a></li><li class=\"site-nav__item site-nav__item--divider\"><a class=\"site-nav__link\" href=\"/calendar/monthly.html\">Monthly Calendar</a></li><li class=\"site-nav__item\"><a class=\"site-nav__link\" href=\"/calendar/create.html\">Printable Calendar (PDF)</a></li><li class=\"site-nav__item site-nav__item--divider\"><a class=\"site-nav__link\" href=\"/calendar/events/\">Add Your Own Calendar Events</a></li><li class=\"site-nav__item\"><a class=\"site-nav__link\" href=\"/calendar/basic.html\">Calendar Creator</a></li><li class=\"site-nav__item site-nav__item--divider\"><a class=\"site-nav__link\" href=\"/calendar/custommenu.html\">Advanced Calendar Creator</a></li><li class=\"site-nav__item\"><a class=\"site-nav__link\" href=\"/holidays/\">Holidays Worldwide</a></li><li class=\"site-nav__item site-nav__item--divider\"><a class=\"site-nav__link\" href=\"/on-this-day/\">On This Day in History</a></li><li class=\"site-nav__item\"><a class=\"site-nav__link\" href=\"/calendar/months/\">Months of the Year</a></li><li class=\"site-nav__item\"><a class=\"site-nav__link\" href=\"/calendar/days/\">Days of the Week</a></li><li class=\"site-nav__item\"><a class=\"site-nav__link\" href=\"/date/leapyear.html\">About Leap Years</a></li></ul></li><li class=\"site-nav__menu\"><a class=\"site-nav__title\" href=\"/weather/\">Weather</a><ul class=\"site-nav__sub-menu\"><li class=\"site-nav__item\"><a class=\"site-nav__link\" href=\"/weather/\">Worldwide</a></li><li class=\"site-nav__item\"><a class=\"site-nav__link\" href=\"/scripts/go.php\">Local Weather</a></li><li class=\"site-nav__item site-nav__item--divider\"><a class=\"site-nav__link\" href=\"/scripts/go.php?type=hourly\">Hour-by-Hour</a></li><li class=\"site-nav__item\"><a class=\"site-nav__link\" href=\"/scripts/goweather.php?type=ext\">2-Week Forecast</a></li><li class=\"site-nav__item\"><a class=\"site-nav__link\" href=\"/scripts/go.php?type=historic\">Past Week</a></li><li class=\"site-nav__item\"><a class=\"site-nav__link\" href=\"/scripts/go.php?type=climate\">Climate</a></li></ul></li><li class=\"site-nav__menu\"><a class=\"site-nav__title\" href=\"/astronomy/\">Sun &amp; Moon</a><ul class=\"site-nav__sub-menu\"><li class=\"site-nav__item site-nav__item--divider site-nav__item--mob\"><a class=\"site-nav__link\" href=\"/astronomy\">Sun &amp; Moon Home</a></li><li class=\"site-nav__item\"><a class=\"site-nav__link\" href=\"/sun/\">Sun Calculator</a></li><li class=\"site-nav__item\"><a class=\"site-nav__link\" href=\"/moon/\">Moon Calculator</a></li><li class=\"site-nav__item site-nav__item--divider\"><a class=\"site-nav__link\" href=\"/moon/phases/\">Moon Phases</a></li><li class=\"site-nav__item\"><a class=\"site-nav__link\" href=\"/astronomy/night/\">Night Sky</a></li><li class=\"site-nav__item site-nav__item--divider\"><a class=\"site-nav__link\" href=\"/astronomy/meteor-shower/\">Meteor Showers</a></li><li class=\"site-nav__item\"><a class=\"site-nav__link\" href=\"/worldclock/sunearth.html\">Day and Night Map</a></li><li class=\"site-nav__item site-nav__item--divider\"><a class=\"site-nav__link\" href=\"/astronomy/moon/light.html\">Moon Light World Map</a></li><li class=\"site-nav__item\"><a class=\"site-nav__link\" href=\"/eclipse/\">Eclipses</a></li><li class=\"site-nav__item site-nav__item--divider\"><a class=\"site-nav__link\" href=\"/live/\">Live Streams</a></li><li class=\"site-nav__item\"><a class=\"site-nav__link\" href=\"/calendar/seasons.html\">Seasons</a></li></ul></li><li class=\"site-nav__menu\"><a class=\"site-nav__title\" href=\"/counters/\">Timers</a><ul class=\"site-nav__sub-menu\"><li class=\"site-nav__item site-nav__item--mob\"><a class=\"site-nav__link\" href=\"/counters\">Timers Home</a></li><li class=\"site-nav__item\"><a class=\"site-nav__link\" href=\"/stopwatch/\">Stopwatch</a></li><li class=\"site-nav__item site-nav__item--divider\"><a class=\"site-nav__link\" href=\"/timer/\">Timer</a></li><li class=\"site-nav__item site-nav__item--divider\"><a class=\"site-nav__link\" href=\"/countdown/create\">Countdown to Any Date</a></li><li class=\"site-nav__item\"><a class=\"site-nav__link\" href=\"/countdown/newyear\">New Year Countdown</a></li></ul></li><li class=\"site-nav__menu\"><a class=\"site-nav__title\" href=\"/date/\">Calculators</a><ul class=\"site-nav__sub-menu\"><li class=\"site-nav__item site-nav__item--divider site-nav__item--mob\"><a class=\"site-nav__link\" href=\"/date/\">Calculators Home</a></li><li class=\"site-nav__item\"><a class=\"site-nav__link\" href=\"/date/duration.html\">Date to Date Calculator (duration)</a></li><li class=\"site-nav__item\"><a class=\"site-nav__link\" href=\"/date/workdays.html\">Business Date to Date (exclude holidays)</a></li><li class=\"site-nav__item\"><a class=\"site-nav__link\" href=\"/date/dateadd.html\">Date Calculator (add / subtract)</a></li><li class=\"site-nav__item site-nav__item--divider\"><a class=\"site-nav__link\" href=\"/date/weekdayadd.html\">Business Date (exclude holidays)</a></li><li class=\"site-nav__item\"><a class=\"site-nav__link\" href=\"/date/weekday.html\">Weekday Calculator</a></li><li class=\"site-nav__item site-nav__item--divider\"><a class=\"site-nav__link\" href=\"/date/weeknumber.html\">Week Number Calculator</a></li><li class=\"site-nav__item\"><a class=\"site-nav__link\" href=\"/worldclock/dialing.html\">International Dialing Codes</a></li><li class=\"site-nav__item site-nav__item--divider\"><a class=\"site-nav__link\" href=\"/time/travel.html\">Travel Time Calculator</a></li><li class=\"site-nav__item\"><a class=\"site-nav__link\" href=\"/worldclock/distance.html\">Distance Calculator</a></li><li class=\"site-nav__item\"><a class=\"site-nav__link\" href=\"/worldclock/distances.html\">Distance Signpost</a></li></ul></li><li class=\"site-nav__menu\"><a class=\"site-nav__title\" href=\"/extra/\">Apps &amp; API</a><ul class=\"site-nav__sub-menu\"><li class=\"site-nav__item\"><a class=\"site-nav__link\" href=\"/ios/\">iOS Apps</a></li><li class=\"site-nav__item\"><a class=\"site-nav__link\" href=\"/android/\">Android Apps</a></li><li class=\"site-nav__item site-nav__item--divider\"><a class=\"site-nav__link\" href=\"/windows/\">Windows App</a></li><li class=\"site-nav__item\"><a class=\"site-nav__link\" href=\"/clocks/free.html\">Free Clock</a></li><li class=\"site-nav__item site-nav__item--divider\"><a class=\"site-nav__link\" href=\"/clocks/freecountdown.html\">Free Countdown</a></li><li class=\"site-nav__item\"><a class=\"site-nav__link\" href=\"/services/api/\">API for Developers</a></li></ul></li><li class=\"site-nav__menu\"><a class=\"site-nav__title\" href=\"/fun/\">Free Fun</a><ul class=\"site-nav__sub-menu\"><li class=\"site-nav__item site-nav__item--divider site-nav__item--mob\"><a class=\"site-nav__link\" href=\"/fun\">Free &amp; Fun Home</a></li><li class=\"site-nav__item\"><a class=\"site-nav__link\" href=\"/clocks/free.html\">Free Clock for Your Site</a></li><li class=\"site-nav__item\"><a class=\"site-nav__link\" href=\"/clocks/freecountdown.html\">Free Countdown for Your Site</a></li><li class=\"site-nav__item\"><a class=\"site-nav__link\" href=\"/wordclock/\">Word Clock</a></li><li class=\"site-nav__item\"><a class=\"site-nav__link\" href=\"/holidays/fun/\">Fun Holidays</a></li><li class=\"site-nav__item\"><a class=\"site-nav__link\" href=\"/date/birthday.html\">Alternative Age Calculator</a></li><li class=\"site-nav__item\"><a class=\"site-nav__link\" href=\"/date/pattern.html\">Date Pattern Calculator</a></li><li class=\"site-nav__item\"><a class=\"site-nav__link\" href=\"/topics/fun\">Fun Fact Articles</a></li></ul></li><li class=\"site-nav__menu site-nav__menu--my-account\"><a class=\"site-nav__title\" href=\"/custom/\"><span class=\"site-nav__mob-title\">My Account</span><i class=\"i-font i-account_circle site-nav__desktop-title\"></i></a><ul class=\"site-nav__sub-menu\"><li class=\"site-nav__item site-nav__item--divider site-nav__item--mob\"><a class=\"site-nav__link\" href=\"/custom\">My Account</a></li><li class=\"site-nav__item\"><a class=\"site-nav__link\" href=\"/custom/location.html\" id=\"popchi\">My Location</a></li><li class=\"site-nav__item\"><a class=\"site-nav__link\" href=\"/custom/site.html\">My Units</a></li><li class=\"site-nav__item\"><a class=\"site-nav__link\" href=\"/calendar/events/\">My Events</a></li><li class=\"site-nav__item\"><a class=\"site-nav__link\" href=\"/worldclock/personal.html\">My World Clock</a></li><li class=\"site-nav__item site-nav__item--divider\"><a class=\"site-nav__link\" href=\"/custom/privacy.html\">My Privacy</a></li><li class=\"site-nav__item\"><a class=\"site-nav__link\" href=\"/services/\">Paid Services</a></li><li class=\"site-nav__item\"><a class=\"site-nav__link\" href=\"/custom/login.html\" id=\"poplogin\">Sign in</a></li><li class=\"site-nav__item\"><a class=\"site-nav__link\" href=\"/custom/create.html\" id=\"popreg\">Register</a></li></ul></li></ul> </div><div class=\"site-nav-bar__blur\" id=\"site-nav-blur\"></div></div></nav></div></div><div class=\"po\" id=\"po1\"></div><div id=\"mpo\"></div><div class=\"alert-notice__wrap\" id=\"anw\"></div><div class=\"dn\" id=\"privacybanner\"></div><div class=\"main-content-div\"><script>\n",
       "window.TAD=window.TAD||{};TAD.abtest='b';\n",
       "</script><div class=\"fixed\"></div><header class=\"bn-header bn-header--worldclock\"><div class=\"row socrow\"><div class=\"fixed\" id=\"bc\"><div id=\"bct\"><a class=\"fx\" href=\"/\" target=\"_top\">Home</a>   <a class=\"fx\" href=\"/time/\" target=\"_top\">Time Zones</a>   World Clock</div></div></div><div class=\"fixed\"><div class=\"bn-header__title-flex\"><div class=\"bn-header__title-wrap\"><h1 class=\"bn-header__title\">The World Clock — Worldwide</h1><p class=\"bn-header__brief\">Find current time, weather, sun, moon, and much more...</p></div><form action=\"/worldclock/\" class=\"bn-header__searchbox picker-city noprint\"><input autocomplete=\"off\" class=\"picker-city__input\" name=\"query\" onfocus=\"ifc(this,'ci',1,1,{&quot;pre&quot;:&quot;/worldclock/&quot;})\" placeholder=\"Search for city or place…\" type=\"search\"/><button class=\"picker-city__button\" title=\"Search\" type=\"submit\"><i class=\"i-font i-search\"></i></button></form></div></div></header><section class=\"bg--grey pdflexi-t--small\"><div class=\"fixed\"><header class=\"fixed\">\n",
       "</header><div class=\"fixed\"><div class=\"my-city__clocks\"><h3 class=\"my-city__header\">My Cities (Personal World Clock) ... <a href=\"/worldclock/personal.html\" title=\"Go to Personal World Clock\">edit</a></h3><div class=\"my-city__items\"><div class=\"my-city__item\"><a href=\"/worldclock/india/solapur\" title=\"Solapur\"><div class=\"my-city__analogClock\" data-clock-night=\"false\" data-clock-showseconds=\"false\" id=\"c1675clk\"><div class=\"hour\" style=\"transform: rotate(161.058deg) translateZ(0px);\"></div><div class=\"min\" style=\"transform: rotate(132.7deg) translateZ(0px);\"></div><div class=\"sec\" style=\"transform: rotate(42deg) translateZ(0px);\"></div><div class=\"dot\"></div><div class=\"time clk-tm\"><span></span><span class=\"block small\"></span></div></div></a><a class=\"my-city__title\" href=\"/worldclock/india/solapur\"><img class=\"my-city__flag\" src=\"//c.tadst.com/gfx/n/fl/32/in.png\"/><span class=\"my-city__city\">Solapur</span></a><span class=\"my-city__time-wrap\"><span class=\"my-city__digitalClock\"><i class=\"i-font soft\"></i><span class=\"my-city__date\" id=\"c1675dat\">Wed</span> <span id=\"c1675\">17:22</span><span class=\"my-city__secondsDivider\">:</span><span class=\"my-city__seconds\" id=\"c1675sec\">07</span><span class=\"my-city__ampm\" id=\"c1675ampm\"></span></span></span></div><div class=\"my-city__item\"><a href=\"/worldclock/usa/new-york\" title=\"New York\"><div class=\"my-city__analogClock\" data-clock-night=\"false\" data-clock-showseconds=\"false\" id=\"c179clk\"><div class=\"hour\" style=\"transform: rotate(206.058deg) translateZ(0px);\"></div><div class=\"min\" style=\"transform: rotate(312.7deg) translateZ(0px);\"></div><div class=\"sec\" style=\"transform: rotate(42deg) translateZ(0px);\"></div><div class=\"dot\"></div><div class=\"time clk-tm\"><span></span><span class=\"block small\"></span></div></div></a><a class=\"my-city__title\" href=\"/worldclock/usa/new-york\"><img class=\"my-city__flag\" src=\"//c.tadst.com/gfx/n/fl/32/us.png\"/><span class=\"my-city__city\">New York</span></a><span class=\"my-city__time-wrap\"><span class=\"my-city__digitalClock\"><span class=\"my-city__date\" id=\"c179dat\">Wed</span> <span id=\"c179\">06:52</span><span class=\"my-city__secondsDivider\">:</span><span class=\"my-city__seconds\" id=\"c179sec\">07</span><span class=\"my-city__ampm\" id=\"c179ampm\"></span></span></span></div><div class=\"my-city__item\"><a href=\"/worldclock/uk/london\" title=\"London\"><div class=\"my-city__analogClock\" data-clock-night=\"false\" data-clock-showseconds=\"false\" id=\"c136clk\"><div class=\"hour\" style=\"transform: rotate(356.058deg) translateZ(0px);\"></div><div class=\"min\" style=\"transform: rotate(312.7deg) translateZ(0px);\"></div><div class=\"sec\" style=\"transform: rotate(42deg) translateZ(0px);\"></div><div class=\"dot\"></div><div class=\"time clk-tm\"><span></span><span class=\"block small\"></span></div></div></a><a class=\"my-city__title\" href=\"/worldclock/uk/london\"><img class=\"my-city__flag\" src=\"//c.tadst.com/gfx/n/fl/32/gb.png\"/><span class=\"my-city__city\">London</span></a><span class=\"my-city__time-wrap\"><span class=\"my-city__digitalClock\"><span class=\"my-city__date\" id=\"c136dat\">Wed</span> <span id=\"c136\">11:52</span><span class=\"my-city__secondsDivider\">:</span><span class=\"my-city__seconds\" id=\"c136sec\">07</span><span class=\"my-city__ampm\" id=\"c136ampm\"></span></span></span></div><div class=\"my-city__item\"><a href=\"/worldclock/japan/tokyo\" title=\"Tokyo\"><div class=\"my-city__analogClock night\" data-clock-night=\"false\" data-clock-showseconds=\"false\" id=\"c248clk\"><div class=\"hour\" style=\"transform: rotate(266.058deg) translateZ(0px);\"></div><div class=\"min\" style=\"transform: rotate(312.7deg) translateZ(0px);\"></div><div class=\"sec\" style=\"transform: rotate(42deg) translateZ(0px);\"></div><div class=\"dot\"></div><div class=\"time clk-tm\"><span></span><span class=\"block small\"></span></div></div></a><a class=\"my-city__title\" href=\"/worldclock/japan/tokyo\"><img class=\"my-city__flag\" src=\"//c.tadst.com/gfx/n/fl/32/jp.png\"/><span class=\"my-city__city\">Tokyo</span></a><span class=\"my-city__time-wrap\"><span class=\"my-city__digitalClock\"><span class=\"my-city__date\" id=\"c248dat\">Wed</span> <span id=\"c248\">20:52</span><span class=\"my-city__secondsDivider\">:</span><span class=\"my-city__seconds\" id=\"c248sec\">07</span><span class=\"my-city__ampm\" id=\"c248ampm\"></span></span></span></div></div></div><div id=\"ad300\">Advertising<br/><div data-google-query-id=\"CKD9-uK4qu4CFc5_fQodcXoBtA\" id=\"div-gpt-com-300x250\" style=\"width:300px;height:250px;\">\n",
       "<div id=\"google_ads_iframe_/1004254/com_300_0__container__\" style=\"border: 0pt none;\"><iframe data-google-container-id=\"2\" data-load-complete=\"true\" frameborder=\"0\" height=\"250\" id=\"google_ads_iframe_/1004254/com_300_0\" marginheight=\"0\" marginwidth=\"0\" name=\"google_ads_iframe_/1004254/com_300_0\" sandbox=\"allow-forms allow-popups allow-popups-to-escape-sandbox allow-same-origin allow-scripts allow-top-navigation-by-user-activation\" scrolling=\"no\" srcdoc=\"\" style=\"border: 0px; vertical-align: bottom;\" title=\"3rd party ad content\" width=\"300\"></iframe></div></div></div>\n",
       "</div><nav class=\"tb-quick-change\"><strong>Popular Lists: </strong><a href=\"/worldclock/?continent=africa\">Africa</a> | <a href=\"/worldclock/?continent=namerica\">North America</a> | <a href=\"/worldclock/?continent=samerica\">South America</a> | <a href=\"/worldclock/?continent=asia\">Asia</a> | <a href=\"/worldclock/?continent=australasia\">Australia/Pacific</a> | <a href=\"/worldclock/?continent=europe\">Europe</a> | <a href=\"/worldclock/?sort=1&amp;low=c\">Capitals</a><br/></nav>\n",
       "<section class=\"fixed\"><button aria-hidden=\"true\" class=\"tb-conf\" href=\"/custom/site.html\" onclick=\"return modpop('/scripts/tzq.php?cb=4025438&amp;type=wc',null,'Customize Table');\" title=\"Configure table settings\" type=\"button\"> </button><div class=\"row\"><div class=\"tb-scroll\"><table class=\"zebra fw tb-theme\"><thead><tr><th colspan=\"8\"><h3 class=\"tb-header\">Current Local Times  Around the World </h3><div class=\"tb-show\"><form action=\"/scripts/gowc.php\" aria-hidden=\"true\" class=\"inline\" id=\"wc-sort\" method=\"get\" name=\"wc-sort\"><label for=\"sort\">Sort By: </label><select id=\"sort\" name=\"sort\" onchange=\"this.form.submit()\"><option selected=\"\" value=\"0\">City</option><option value=\"1\">Country</option><option value=\"2\">Time</option></select><input name=\"url\" type=\"hidden\" value=\"/worldclock/\"/><input name=\"args\" type=\"hidden\" value=\"\"/></form></div><div class=\"tb-show mgr10\"><form action=\"/scripts/gowc.php\" aria-hidden=\"true\" class=\"inline\" id=\"wc-shown\" method=\"get\" name=\"wc-shown\"><label for=\"pop\">Cities Shown: </label><select id=\"pop\" name=\"low\" onchange=\"this.form.submit();\"><option value=\"c\">Capitals (215)</option><option selected=\"\" value=\"6\">Most Popular (143)</option><option value=\"5\">Popular (356)</option><option value=\"4\">Somewhat Popular (469)</option><option value=\"e\">Extended List</option></select><input name=\"url\" type=\"hidden\" value=\"/worldclock/\"/><input name=\"args\" type=\"hidden\" value=\"\"/></form></div></th></tr></thead><tbody><tr><td><a href=\"/worldclock/ghana/accra\">Accra</a><span class=\"wds\" id=\"p0s\"></span></td><td class=\"rbi\" id=\"p0\">Wed 11:52</td><td><a href=\"/worldclock/morocco/casablanca\">Casablanca</a><span class=\"wds\" id=\"p36s\"> *</span></td><td class=\"rbi\" id=\"p36\">Wed 12:52</td><td><a href=\"/worldclock/india/kolkata\">Kolkata</a><span class=\"wds\" id=\"p72s\"></span></td><td class=\"rbi\" id=\"p72\">Wed 17:22</td><td><a href=\"/worldclock/iceland/reykjavik\">Reykjavik</a><span class=\"wds\" id=\"p108s\"></span></td><td class=\"rbi\" id=\"p108\">Wed 11:52</td></tr><tr><td><a href=\"/worldclock/ethiopia/addis-ababa\">Addis Ababa</a><span class=\"wds\" id=\"p1s\"></span></td><td class=\"rbi\" id=\"p1\">Wed 14:52</td><td><a href=\"/worldclock/usa/chicago\">Chicago</a><span class=\"wds\" id=\"p37s\"></span></td><td class=\"rbi\" id=\"p37\">Wed 05:52</td><td><a href=\"/worldclock/malaysia/kuala-lumpur\">Kuala Lumpur</a><span class=\"wds\" id=\"p73s\"></span></td><td class=\"rbi\" id=\"p73\">Wed 19:52</td><td><a href=\"/worldclock/brazil/rio-de-janeiro\">Rio de Janeiro</a><span class=\"wds\" id=\"p109s\"></span></td><td class=\"rbi\" id=\"p109\">Wed 08:52</td></tr><tr><td><a href=\"/worldclock/australia/adelaide\">Adelaide</a><span class=\"wds\" id=\"p2s\"> *</span></td><td class=\"rbi\" id=\"p2\">Wed 22:22</td><td><a href=\"/worldclock/denmark/copenhagen\">Copenhagen</a><span class=\"wds\" id=\"p38s\"></span></td><td class=\"rbi\" id=\"p38\">Wed 12:52</td><td><a href=\"/worldclock/kuwait/kuwait-city\">Kuwait City</a><span class=\"wds\" id=\"p74s\"></span></td><td class=\"rbi\" id=\"p74\">Wed 14:52</td><td><a href=\"/worldclock/saudi-arabia/riyadh\">Riyadh</a><span class=\"wds\" id=\"p110s\"></span></td><td class=\"rbi\" id=\"p110\">Wed 14:52</td></tr><tr><td><a href=\"/worldclock/algeria/algiers\">Algiers</a><span class=\"wds\" id=\"p3s\"></span></td><td class=\"rbi\" id=\"p3\">Wed 12:52</td><td><a href=\"/worldclock/usa/dallas\">Dallas</a><span class=\"wds\" id=\"p39s\"></span></td><td class=\"rbi\" id=\"p39\">Wed 05:52</td><td><a href=\"/worldclock/ukraine/kyiv\">Kyiv</a><span class=\"wds\" id=\"p75s\"></span></td><td class=\"rbi\" id=\"p75\">Wed 13:52</td><td><a href=\"/worldclock/italy/rome\">Rome</a><span class=\"wds\" id=\"p111s\"></span></td><td class=\"rbi\" id=\"p111\">Wed 12:52</td></tr><tr><td><a href=\"/worldclock/kazakstan/almaty\">Almaty</a><span class=\"wds\" id=\"p4s\"></span></td><td class=\"rbi\" id=\"p4\">Wed 17:52</td><td><a href=\"/worldclock/tanzania/dar-es-salaam\">Dar es Salaam</a><span class=\"wds\" id=\"p40s\"></span></td><td class=\"rbi\" id=\"p40\">Wed 14:52</td><td><a href=\"/worldclock/bolivia/la-paz\">La Paz</a><span class=\"wds\" id=\"p76s\"></span></td><td class=\"rbi\" id=\"p76\">Wed 07:52</td><td><a href=\"/worldclock/usa/salt-lake-city\">Salt Lake City</a><span class=\"wds\" id=\"p112s\"></span></td><td class=\"rbi\" id=\"p112\">Wed 04:52</td></tr><tr><td><a href=\"/worldclock/jordan/amman\">Amman</a><span class=\"wds\" id=\"p5s\"></span></td><td class=\"rbi\" id=\"p5\">Wed 13:52</td><td><a href=\"/worldclock/australia/darwin\">Darwin</a><span class=\"wds\" id=\"p41s\"></span></td><td class=\"rbi\" id=\"p41\">Wed 21:22</td><td><a href=\"/worldclock/nigeria/lagos\">Lagos</a><span class=\"wds\" id=\"p77s\"></span></td><td class=\"rbi\" id=\"p77\">Wed 12:52</td><td><a href=\"/worldclock/usa/san-francisco\">San Francisco</a><span class=\"wds\" id=\"p113s\"></span></td><td class=\"rbi\" id=\"p113\">Wed 03:52</td></tr><tr><td><a href=\"/worldclock/netherlands/amsterdam\">Amsterdam</a><span class=\"wds\" id=\"p6s\"></span></td><td class=\"rbi\" id=\"p6\">Wed 12:52</td><td><a href=\"/worldclock/usa/denver\">Denver</a><span class=\"wds\" id=\"p42s\"></span></td><td class=\"rbi\" id=\"p42\">Wed 04:52</td><td><a href=\"/worldclock/pakistan/lahore\">Lahore</a><span class=\"wds\" id=\"p78s\"></span></td><td class=\"rbi\" id=\"p78\">Wed 16:52</td><td><a href=\"/worldclock/puerto-rico/san-juan\">San Juan</a><span class=\"wds\" id=\"p114s\"></span></td><td class=\"rbi\" id=\"p114\">Wed 07:52</td></tr><tr><td><a href=\"/worldclock/russia/anadyr\">Anadyr</a><span class=\"wds\" id=\"p7s\"></span></td><td class=\"rbi\" id=\"p7\">Wed 23:52</td><td><a href=\"/worldclock/usa/detroit\">Detroit</a><span class=\"wds\" id=\"p43s\"></span></td><td class=\"rbi\" id=\"p43\">Wed 06:52</td><td><a href=\"/worldclock/usa/las-vegas\">Las Vegas</a><span class=\"wds\" id=\"p79s\"></span></td><td class=\"rbi\" id=\"p79\">Wed 03:52</td><td><a href=\"/worldclock/el-salvador/san-salvador\">San Salvador</a><span class=\"wds\" id=\"p115s\"></span></td><td class=\"rbi\" id=\"p115\">Wed 05:52</td></tr><tr><td><a href=\"/worldclock/usa/anchorage\">Anchorage</a><span class=\"wds\" id=\"p8s\"></span></td><td class=\"rbi\" id=\"p8\">Wed 02:52</td><td><a href=\"/worldclock/bangladesh/dhaka\">Dhaka</a><span class=\"wds\" id=\"p44s\"></span></td><td class=\"rbi\" id=\"p44\">Wed 17:52</td><td><a href=\"/worldclock/peru/lima\">Lima</a><span class=\"wds\" id=\"p80s\"></span></td><td class=\"rbi\" id=\"p80\">Wed 06:52</td><td><a href=\"/worldclock/chile/santiago\">Santiago</a><span class=\"wds\" id=\"p116s\"> *</span></td><td class=\"rbi\" id=\"p116\">Wed 08:52</td></tr><tr><td><a href=\"/worldclock/turkey/ankara\">Ankara</a><span class=\"wds\" id=\"p9s\"></span></td><td class=\"rbi\" id=\"p9\">Wed 14:52</td><td><a href=\"/worldclock/qatar/doha\">Doha</a><span class=\"wds\" id=\"p45s\"></span></td><td class=\"rbi\" id=\"p45\">Wed 14:52</td><td><a href=\"/worldclock/portugal/lisbon\">Lisbon</a><span class=\"wds\" id=\"p81s\"></span></td><td class=\"rbi\" id=\"p81\">Wed 11:52</td><td><a href=\"/worldclock/dominican-republic/santo-domingo\">Santo Domingo</a><span class=\"wds\" id=\"p117s\"></span></td><td class=\"rbi\" id=\"p117\">Wed 07:52</td></tr><tr><td><a href=\"/worldclock/madagascar/antananarivo\">Antananarivo</a><span class=\"wds\" id=\"p10s\"></span></td><td class=\"rbi\" id=\"p10\">Wed 14:52</td><td><a href=\"/worldclock/united-arab-emirates/dubai\">Dubai</a><span class=\"wds\" id=\"p46s\"></span></td><td class=\"rbi\" id=\"p46\">Wed 15:52</td><td><a href=\"/worldclock/uk/london\">London</a><span class=\"wds\" id=\"p82s\"></span></td><td class=\"rbi\" id=\"p82\">Wed 11:52</td><td><a href=\"/worldclock/brazil/sao-paulo\">São Paulo</a><span class=\"wds\" id=\"p118s\"></span></td><td class=\"rbi\" id=\"p118\">Wed 08:52</td></tr><tr><td><a href=\"/worldclock/paraguay/asuncion\">Asuncion</a><span class=\"wds\" id=\"p11s\"> *</span></td><td class=\"rbi\" id=\"p11\">Wed 08:52</td><td><a href=\"/worldclock/ireland/dublin\">Dublin</a><span class=\"wds\" id=\"p47s\"></span></td><td class=\"rbi\" id=\"p47\">Wed 11:52</td><td><a href=\"/worldclock/usa/los-angeles\">Los Angeles</a><span class=\"wds\" id=\"p83s\"></span></td><td class=\"rbi\" id=\"p83\">Wed 03:52</td><td><a href=\"/worldclock/usa/seattle\">Seattle</a><span class=\"wds\" id=\"p119s\"></span></td><td class=\"rbi\" id=\"p119\">Wed 03:52</td></tr><tr><td><a href=\"/worldclock/greece/athens\">Athens</a><span class=\"wds\" id=\"p12s\"></span></td><td class=\"rbi\" id=\"p12\">Wed 13:52</td><td><a href=\"/worldclock/canada/edmonton\">Edmonton</a><span class=\"wds\" id=\"p48s\"></span></td><td class=\"rbi\" id=\"p48\">Wed 04:52</td><td><a href=\"/worldclock/spain/madrid\">Madrid</a><span class=\"wds\" id=\"p84s\"></span></td><td class=\"rbi\" id=\"p84\">Wed 12:52</td><td><a href=\"/worldclock/south-korea/seoul\">Seoul</a><span class=\"wds\" id=\"p120s\"></span></td><td class=\"rbi\" id=\"p120\">Wed 20:52</td></tr><tr><td><a href=\"/worldclock/usa/atlanta\">Atlanta</a><span class=\"wds\" id=\"p13s\"></span></td><td class=\"rbi\" id=\"p13\">Wed 06:52</td><td><a href=\"/worldclock/germany/frankfurt\">Frankfurt</a><span class=\"wds\" id=\"p49s\"></span></td><td class=\"rbi\" id=\"p49\">Wed 12:52</td><td><a href=\"/worldclock/nicaragua/managua\">Managua</a><span class=\"wds\" id=\"p85s\"></span></td><td class=\"rbi\" id=\"p85\">Wed 05:52</td><td><a href=\"/worldclock/china/shanghai\">Shanghai</a><span class=\"wds\" id=\"p121s\"></span></td><td class=\"rbi\" id=\"p121\">Wed 19:52</td></tr><tr><td><a href=\"/worldclock/new-zealand/auckland\">Auckland</a><span class=\"wds\" id=\"p14s\"> *</span></td><td class=\"rbi\" id=\"p14\">Thu 00:52</td><td><a href=\"/worldclock/guatemala/guatemala\">Guatemala City</a><span class=\"wds\" id=\"p50s\"></span></td><td class=\"rbi\" id=\"p50\">Wed 05:52</td><td><a href=\"/worldclock/philippines/manila\">Manila</a><span class=\"wds\" id=\"p86s\"></span></td><td class=\"rbi\" id=\"p86\">Wed 19:52</td><td><a href=\"/worldclock/singapore/singapore\">Singapore</a><span class=\"wds\" id=\"p122s\"></span></td><td class=\"rbi\" id=\"p122\">Wed 19:52</td></tr><tr><td><a href=\"/worldclock/iraq/baghdad\">Baghdad</a><span class=\"wds\" id=\"p15s\"></span></td><td class=\"rbi\" id=\"p15\">Wed 14:52</td><td><a href=\"/worldclock/canada/halifax\">Halifax</a><span class=\"wds\" id=\"p51s\"></span></td><td class=\"rbi\" id=\"p51\">Wed 07:52</td><td><a href=\"/worldclock/australia/melbourne\">Melbourne</a><span class=\"wds\" id=\"p87s\"> *</span></td><td class=\"rbi\" id=\"p87\">Wed 22:52</td><td><a href=\"/worldclock/bulgaria/sofia\">Sofia</a><span class=\"wds\" id=\"p123s\"></span></td><td class=\"rbi\" id=\"p123\">Wed 13:52</td></tr><tr><td><a href=\"/worldclock/india/bangalore\">Bangalore</a><span class=\"wds\" id=\"p16s\"></span></td><td class=\"rbi\" id=\"p16\">Wed 17:22</td><td><a href=\"/worldclock/vietnam/hanoi\">Hanoi</a><span class=\"wds\" id=\"p52s\"></span></td><td class=\"rbi\" id=\"p52\">Wed 18:52</td><td><a href=\"/worldclock/mexico/mexico-city\">Mexico City</a><span class=\"wds\" id=\"p88s\"></span></td><td class=\"rbi\" id=\"p88\">Wed 05:52</td><td><a href=\"/worldclock/canada/st-johns\">St. John's</a><span class=\"wds\" id=\"p124s\"></span></td><td class=\"rbi\" id=\"p124\">Wed 08:22</td></tr><tr><td><a href=\"/worldclock/thailand/bangkok\">Bangkok</a><span class=\"wds\" id=\"p17s\"></span></td><td class=\"rbi\" id=\"p17\">Wed 18:52</td><td><a href=\"/worldclock/zimbabwe/harare\">Harare</a><span class=\"wds\" id=\"p53s\"></span></td><td class=\"rbi\" id=\"p53\">Wed 13:52</td><td><a href=\"/worldclock/usa/miami\">Miami</a><span class=\"wds\" id=\"p89s\"></span></td><td class=\"rbi\" id=\"p89\">Wed 06:52</td><td><a href=\"/worldclock/sweden/stockholm\">Stockholm</a><span class=\"wds\" id=\"p125s\"></span></td><td class=\"rbi\" id=\"p125\">Wed 12:52</td></tr><tr><td><a href=\"/worldclock/spain/barcelona\">Barcelona</a><span class=\"wds\" id=\"p18s\"></span></td><td class=\"rbi\" id=\"p18\">Wed 12:52</td><td><a href=\"/worldclock/cuba/havana\">Havana</a><span class=\"wds\" id=\"p54s\"></span></td><td class=\"rbi\" id=\"p54\">Wed 06:52</td><td><a href=\"/worldclock/usa/minneapolis\">Minneapolis</a><span class=\"wds\" id=\"p90s\"></span></td><td class=\"rbi\" id=\"p90\">Wed 05:52</td><td><a href=\"/worldclock/fiji/suva\">Suva</a><span class=\"wds\" id=\"p126s\"></span></td><td class=\"rbi\" id=\"p126\">Wed 23:52</td></tr><tr><td><a href=\"/worldclock/china/beijing\">Beijing</a><span class=\"wds\" id=\"p19s\"></span></td><td class=\"rbi\" id=\"p19\">Wed 19:52</td><td><a href=\"/worldclock/finland/helsinki\">Helsinki</a><span class=\"wds\" id=\"p55s\"></span></td><td class=\"rbi\" id=\"p55\">Wed 13:52</td><td><a href=\"/worldclock/belarus/minsk\">Minsk</a><span class=\"wds\" id=\"p91s\"></span></td><td class=\"rbi\" id=\"p91\">Wed 14:52</td><td><a href=\"/worldclock/australia/sydney\">Sydney</a><span class=\"wds\" id=\"p127s\"> *</span></td><td class=\"rbi\" id=\"p127\">Wed 22:52</td></tr><tr><td><a href=\"/worldclock/lebanon/beirut\">Beirut</a><span class=\"wds\" id=\"p20s\"></span></td><td class=\"rbi\" id=\"p20\">Wed 13:52</td><td><a href=\"/worldclock/hong-kong/hong-kong\">Hong Kong</a><span class=\"wds\" id=\"p56s\"></span></td><td class=\"rbi\" id=\"p56\">Wed 19:52</td><td><a href=\"/worldclock/uruguay/montevideo\">Montevideo</a><span class=\"wds\" id=\"p92s\"></span></td><td class=\"rbi\" id=\"p92\">Wed 08:52</td><td><a href=\"/worldclock/taiwan/taipei\">Taipei</a><span class=\"wds\" id=\"p128s\"></span></td><td class=\"rbi\" id=\"p128\">Wed 19:52</td></tr><tr><td><a href=\"/worldclock/serbia/belgrade\">Belgrade</a><span class=\"wds\" id=\"p21s\"></span></td><td class=\"rbi\" id=\"p21\">Wed 12:52</td><td><a href=\"/worldclock/usa/honolulu\">Honolulu</a><span class=\"wds\" id=\"p57s\"></span></td><td class=\"rbi\" id=\"p57\">Wed 01:52</td><td><a href=\"/worldclock/canada/montreal\">Montréal</a><span class=\"wds\" id=\"p93s\"></span></td><td class=\"rbi\" id=\"p93\">Wed 06:52</td><td><a href=\"/worldclock/estonia/tallinn\">Tallinn</a><span class=\"wds\" id=\"p129s\"></span></td><td class=\"rbi\" id=\"p129\">Wed 13:52</td></tr><tr><td><a href=\"/worldclock/germany/berlin\">Berlin</a><span class=\"wds\" id=\"p22s\"></span></td><td class=\"rbi\" id=\"p22\">Wed 12:52</td><td><a href=\"/worldclock/usa/houston\">Houston</a><span class=\"wds\" id=\"p58s\"></span></td><td class=\"rbi\" id=\"p58\">Wed 05:52</td><td><a href=\"/worldclock/russia/moscow\">Moscow</a><span class=\"wds\" id=\"p94s\"></span></td><td class=\"rbi\" id=\"p94\">Wed 14:52</td><td><a href=\"/worldclock/uzbekistan/tashkent\">Tashkent</a><span class=\"wds\" id=\"p130s\"></span></td><td class=\"rbi\" id=\"p130\">Wed 16:52</td></tr><tr><td><a href=\"/worldclock/colombia/bogota\">Bogota</a><span class=\"wds\" id=\"p23s\"></span></td><td class=\"rbi\" id=\"p23\">Wed 06:52</td><td><a href=\"/worldclock/usa/indianapolis\">Indianapolis</a><span class=\"wds\" id=\"p59s\"></span></td><td class=\"rbi\" id=\"p59\">Wed 06:52</td><td><a href=\"/worldclock/india/mumbai\">Mumbai</a><span class=\"wds\" id=\"p95s\"></span></td><td class=\"rbi\" id=\"p95\">Wed 17:22</td><td><a href=\"/worldclock/honduras/tegucigalpa\">Tegucigalpa</a><span class=\"wds\" id=\"p131s\"></span></td><td class=\"rbi\" id=\"p131\">Wed 05:52</td></tr><tr><td><a href=\"/worldclock/usa/boston\">Boston</a><span class=\"wds\" id=\"p24s\"></span></td><td class=\"rbi\" id=\"p24\">Wed 06:52</td><td><a href=\"/worldclock/pakistan/islamabad\">Islamabad</a><span class=\"wds\" id=\"p60s\"></span></td><td class=\"rbi\" id=\"p60\">Wed 16:52</td><td><a href=\"/worldclock/kenya/nairobi\">Nairobi</a><span class=\"wds\" id=\"p96s\"></span></td><td class=\"rbi\" id=\"p96\">Wed 14:52</td><td><a href=\"/worldclock/iran/tehran\">Tehran</a><span class=\"wds\" id=\"p132s\"></span></td><td class=\"rbi\" id=\"p132\">Wed 15:22</td></tr><tr><td><a href=\"/worldclock/brazil/brasilia\">Brasilia</a><span class=\"wds\" id=\"p25s\"></span></td><td class=\"rbi\" id=\"p25\">Wed 08:52</td><td><a href=\"/worldclock/turkey/istanbul\">Istanbul</a><span class=\"wds\" id=\"p61s\"></span></td><td class=\"rbi\" id=\"p61\">Wed 14:52</td><td><a href=\"/worldclock/bahamas/nassau\">Nassau</a><span class=\"wds\" id=\"p97s\"></span></td><td class=\"rbi\" id=\"p97\">Wed 06:52</td><td><a href=\"/worldclock/japan/tokyo\">Tokyo</a><span class=\"wds\" id=\"p133s\"></span></td><td class=\"rbi\" id=\"p133\">Wed 20:52</td></tr><tr><td><a href=\"/worldclock/australia/brisbane\">Brisbane</a><span class=\"wds\" id=\"p26s\"></span></td><td class=\"rbi\" id=\"p26\">Wed 21:52</td><td><a href=\"/worldclock/indonesia/jakarta\">Jakarta</a><span class=\"wds\" id=\"p62s\"></span></td><td class=\"rbi\" id=\"p62\">Wed 18:52</td><td><a href=\"/worldclock/india/new-delhi\">New Delhi</a><span class=\"wds\" id=\"p98s\"></span></td><td class=\"rbi\" id=\"p98\">Wed 17:22</td><td><a href=\"/worldclock/canada/toronto\">Toronto</a><span class=\"wds\" id=\"p134s\"></span></td><td class=\"rbi\" id=\"p134\">Wed 06:52</td></tr><tr><td><a href=\"/worldclock/belgium/brussels\">Brussels</a><span class=\"wds\" id=\"p27s\"></span></td><td class=\"rbi\" id=\"p27\">Wed 12:52</td><td><a href=\"/worldclock/israel/jerusalem\">Jerusalem</a><span class=\"wds\" id=\"p63s\"></span></td><td class=\"rbi\" id=\"p63\">Wed 13:52</td><td><a href=\"/worldclock/usa/new-orleans\">New Orleans</a><span class=\"wds\" id=\"p99s\"></span></td><td class=\"rbi\" id=\"p99\">Wed 05:52</td><td><a href=\"/worldclock/canada/vancouver\">Vancouver</a><span class=\"wds\" id=\"p135s\"></span></td><td class=\"rbi\" id=\"p135\">Wed 03:52</td></tr><tr><td><a href=\"/worldclock/romania/bucharest\">Bucharest</a><span class=\"wds\" id=\"p28s\"></span></td><td class=\"rbi\" id=\"p28\">Wed 13:52</td><td><a href=\"/worldclock/south-africa/johannesburg\">Johannesburg</a><span class=\"wds\" id=\"p64s\"></span></td><td class=\"rbi\" id=\"p64\">Wed 13:52</td><td><a href=\"/worldclock/usa/new-york\">New York</a><span class=\"wds\" id=\"p100s\"></span></td><td class=\"rbi\" id=\"p100\">Wed 06:52</td><td><a href=\"/worldclock/austria/vienna\">Vienna</a><span class=\"wds\" id=\"p136s\"></span></td><td class=\"rbi\" id=\"p136\">Wed 12:52</td></tr><tr><td><a href=\"/worldclock/hungary/budapest\">Budapest</a><span class=\"wds\" id=\"p29s\"></span></td><td class=\"rbi\" id=\"p29\">Wed 12:52</td><td><a href=\"/worldclock/afghanistan/kabul\">Kabul</a><span class=\"wds\" id=\"p65s\"></span></td><td class=\"rbi\" id=\"p65\">Wed 16:22</td><td><a href=\"/worldclock/norway/oslo\">Oslo</a><span class=\"wds\" id=\"p101s\"></span></td><td class=\"rbi\" id=\"p101\">Wed 12:52</td><td><a href=\"/worldclock/poland/warsaw\">Warsaw</a><span class=\"wds\" id=\"p137s\"></span></td><td class=\"rbi\" id=\"p137\">Wed 12:52</td></tr><tr><td><a href=\"/worldclock/argentina/buenos-aires\">Buenos Aires</a><span class=\"wds\" id=\"p30s\"></span></td><td class=\"rbi\" id=\"p30\">Wed 08:52</td><td><a href=\"/worldclock/pakistan/karachi\">Karachi</a><span class=\"wds\" id=\"p66s\"></span></td><td class=\"rbi\" id=\"p66\">Wed 16:52</td><td><a href=\"/worldclock/canada/ottawa\">Ottawa</a><span class=\"wds\" id=\"p102s\"></span></td><td class=\"rbi\" id=\"p102\">Wed 06:52</td><td><a href=\"/worldclock/usa/washington-dc\">Washington DC</a><span class=\"wds\" id=\"p138s\"></span></td><td class=\"rbi\" id=\"p138\">Wed 06:52</td></tr><tr><td><a href=\"/worldclock/egypt/cairo\">Cairo</a><span class=\"wds\" id=\"p31s\"></span></td><td class=\"rbi\" id=\"p31\">Wed 13:52</td><td><a href=\"/worldclock/nepal/kathmandu\">Kathmandu</a><span class=\"wds\" id=\"p67s\"></span></td><td class=\"rbi\" id=\"p67\">Wed 17:37</td><td><a href=\"/worldclock/france/paris\">Paris</a><span class=\"wds\" id=\"p103s\"></span></td><td class=\"rbi\" id=\"p103\">Wed 12:52</td><td><a href=\"/worldclock/canada/winnipeg\">Winnipeg</a><span class=\"wds\" id=\"p139s\"></span></td><td class=\"rbi\" id=\"p139\">Wed 05:52</td></tr><tr><td><a href=\"/worldclock/canada/calgary\">Calgary</a><span class=\"wds\" id=\"p32s\"></span></td><td class=\"rbi\" id=\"p32\">Wed 04:52</td><td><a href=\"/worldclock/sudan/khartoum\">Khartoum</a><span class=\"wds\" id=\"p68s\"></span></td><td class=\"rbi\" id=\"p68\">Wed 13:52</td><td><a href=\"/worldclock/australia/perth\">Perth</a><span class=\"wds\" id=\"p104s\"></span></td><td class=\"rbi\" id=\"p104\">Wed 19:52</td><td><a href=\"/worldclock/myanmar/yangon\">Yangon</a><span class=\"wds\" id=\"p140s\"></span></td><td class=\"rbi\" id=\"p140\">Wed 18:22</td></tr><tr><td><a href=\"/worldclock/australia/canberra\">Canberra</a><span class=\"wds\" id=\"p33s\"> *</span></td><td class=\"rbi\" id=\"p33\">Wed 22:52</td><td><a href=\"/worldclock/jamaica/kingston\">Kingston</a><span class=\"wds\" id=\"p69s\"></span></td><td class=\"rbi\" id=\"p69\">Wed 06:52</td><td><a href=\"/worldclock/usa/philadelphia\">Philadelphia</a><span class=\"wds\" id=\"p105s\"></span></td><td class=\"rbi\" id=\"p105\">Wed 06:52</td><td><a href=\"/worldclock/croatia/zagreb\">Zagreb</a><span class=\"wds\" id=\"p141s\"></span></td><td class=\"rbi\" id=\"p141\">Wed 12:52</td></tr><tr><td><a href=\"/worldclock/south-africa/cape-town\">Cape Town</a><span class=\"wds\" id=\"p34s\"></span></td><td class=\"rbi\" id=\"p34\">Wed 13:52</td><td><a href=\"/worldclock/congo-demrep/kinshasa\">Kinshasa</a><span class=\"wds\" id=\"p70s\"></span></td><td class=\"rbi\" id=\"p70\">Wed 12:52</td><td><a href=\"/worldclock/usa/phoenix\">Phoenix</a><span class=\"wds\" id=\"p106s\"></span></td><td class=\"rbi\" id=\"p106\">Wed 04:52</td><td><a href=\"/worldclock/switzerland/zurich\">Zürich</a><span class=\"wds\" id=\"p142s\"></span></td><td class=\"rbi\" id=\"p142\">Wed 12:52</td></tr><tr><td><a href=\"/worldclock/venezuela/caracas\">Caracas</a><span class=\"wds\" id=\"p35s\"></span></td><td class=\"rbi\" id=\"p35\">Wed 07:52</td><td><a href=\"/worldclock/kiribati/kiritimati\">Kiritimati</a><span class=\"wds\" id=\"p71s\"></span></td><td class=\"rbi\" id=\"p71\">Thu 01:52</td><td><a href=\"/worldclock/czech-republic/prague\">Prague</a><span class=\"wds\" id=\"p107s\"></span></td><td class=\"rbi\" id=\"p107\">Wed 12:52</td><td></td><td></td></tr></tbody></table></div></div><div class=\"row\" id=\"tb-foot\"><div class=\"six columns\"><p><strong><span class=\"wds\"> *</span></strong>  Adjusted for <a href=\"/time/dst/\">Daylight Saving Time</a> <span id=\"smwi7\"> (8 places).</span></p><p><strong>Wed</strong> = Wednesday, 20 January 2021 <span id=\"smwi3\"> (141 places).</span><br/><strong>Thu</strong> = Thursday, 21 January 2021 <span id=\"smwi4\"> (2 places).</span><br/></p></div><div class=\"six columns\"><p><strong>UTC</strong> (GMT/Zulu)-time: <strong id=\"ctu\">Wednesday, 20 January 2021, 11:52:07</strong></p><p><span class=\"small\">UTC is <a href=\"/time/aboututc.html\">Coordinated Universal Time</a>, GMT is <a href=\"/time/gmt-utc-time.html\">Greenwich Mean Time</a>.</span></p></div></div></section><script type=\"text/javascript\">\n",
       "et=1611315170;\n",
       "function f0(d){return TAD.ld[d.getUTCDay()]+', '+d.getUTCDate()+' '+TAD.lm[d.getUTCMonth()]+' '+d.getUTCFullYear()+', '+p2(d.getUTCHours())+':'+p2(d.getUTCMinutes())+':'+p2(d.getUTCSeconds());}\n",
       "function f1(d){return p2(d.getUTCHours())+':'+p2(d.getUTCMinutes());}\n",
       "function f2(d){return '';}\n",
       "function f3(d){return ''+p2(d.getUTCSeconds());}\n",
       "function f4(d){return TAD.sd1[d.getUTCDay()];}\n",
       "function f5(d){return TAD.sd1[d.getUTCDay()]+' '+p2(d.getUTCHours())+':'+p2(d.getUTCMinutes());}\n",
       "cks={\"ctu\":{\"t\":[{\"t\":0,\"o\":0,\"a\":\"UTC\"}],\"f\":f0},\"c1675\":{\"t\":[{\"o\":19800,\"a\":\"<a href=\\\"\\/time\\/zones\\/ist\\\" title=\\\"India Standard Time\\\">IST<\\/a>\",\"af\":\"India Standard Time\"}],\"f\":f1,\"g\":{\"t\":2},\"fx\":[{\"n\":\"ampm\",\"f\":f2},{\"n\":\"sec\",\"f\":f3},{\"n\":\"dat\",\"f\":f4}]},\"c179\":{\"t\":[{\"o\":-18000,\"a\":\"<a href=\\\"\\/time\\/zones\\/est\\\" title=\\\"Eastern Standard Time\\\">EST<\\/a>\",\"af\":\"Eastern Standard Time\"}],\"f\":f1,\"g\":{\"t\":2},\"fx\":[{\"n\":\"ampm\",\"f\":f2},{\"n\":\"sec\",\"f\":f3},{\"n\":\"dat\",\"f\":f4}]},\"c136\":{\"t\":[{\"o\":0,\"a\":\"<a href=\\\"\\/time\\/zones\\/gmt\\\" title=\\\"Greenwich Mean Time\\\">GMT<\\/a>\",\"af\":\"Greenwich Mean Time\"}],\"f\":f1,\"g\":{\"t\":2},\"fx\":[{\"n\":\"ampm\",\"f\":f2},{\"n\":\"sec\",\"f\":f3},{\"n\":\"dat\",\"f\":f4}]},\"c248\":{\"t\":[{\"o\":32400,\"a\":\"<a href=\\\"\\/time\\/zones\\/jst\\\" title=\\\"Japan Standard Time\\\">JST<\\/a>\",\"af\":\"Japan Standard Time\"}],\"f\":f1,\"g\":{\"t\":2},\"fx\":[{\"n\":\"ampm\",\"f\":f2},{\"n\":\"sec\",\"f\":f3},{\"n\":\"dat\",\"f\":f4}]},\"p0\":{\"t\":[{\"o\":0}],\"f\":f5,\"e\":\"108,81,82,47\"},\"p36\":{\"t\":[{\"o\":3600,\"d\":1}],\"f\":f5},\"p72\":{\"t\":[{\"o\":19800}],\"f\":f5,\"e\":\"16,95,98\"},\"p1\":{\"t\":[{\"o\":10800}],\"f\":f5,\"e\":\"74,110,40,9,45,10,15,91,94,96,61\"},\"p37\":{\"t\":[{\"o\":-21600}],\"f\":f5,\"e\":\"39,115,85,50,88,90,58,131,99,139\"},\"p73\":{\"t\":[{\"o\":28800}],\"f\":f5,\"e\":\"121,86,122,19,56,128,104\"},\"p109\":{\"t\":[{\"o\":-10800}],\"f\":f5,\"e\":\"118,92,25,30\"},\"p2\":{\"t\":[{\"o\":37800,\"d\":1}],\"f\":f5},\"p38\":{\"t\":[{\"o\":3600}],\"f\":f5,\"e\":\"3,111,77,6,84,49,125,18,21,22,27,136,29,101,137,103,141,70,142,107\"},\"p75\":{\"t\":[{\"o\":7200}],\"f\":f5,\"e\":\"5,12,123,53,55,20,129,63,28,64,31,68,34\"},\"p4\":{\"t\":[{\"o\":21600}],\"f\":f5,\"e\":\"44\"},\"p76\":{\"t\":[{\"o\":-14400}],\"f\":f5,\"e\":\"114,117,51,35\"},\"p112\":{\"t\":[{\"o\":-25200}],\"f\":f5,\"e\":\"42,48,32,106\"},\"p41\":{\"t\":[{\"o\":34200}],\"f\":f5},\"p113\":{\"t\":[{\"o\":-28800}],\"f\":f5,\"e\":\"79,83,119,135\"},\"p78\":{\"t\":[{\"o\":18000}],\"f\":f5,\"e\":\"130,60,66\"},\"p7\":{\"t\":[{\"o\":43200}],\"f\":f5,\"e\":\"126\"},\"p43\":{\"t\":[{\"o\":-18000}],\"f\":f5,\"e\":\"80,13,89,54,93,23,59,24,97,134,100,102,138,69,105\"},\"p8\":{\"t\":[{\"o\":-32400}],\"f\":f5},\"p116\":{\"t\":[{\"o\":-10800,\"d\":1}],\"f\":f5,\"e\":\"11\"},\"p46\":{\"t\":[{\"o\":14400}],\"f\":f5},\"p120\":{\"t\":[{\"o\":32400}],\"f\":f5,\"e\":\"133\"},\"p14\":{\"t\":[{\"o\":46800,\"d\":1}],\"f\":f5},\"p87\":{\"t\":[{\"o\":39600,\"d\":1}],\"f\":f5,\"e\":\"127,33\"},\"p52\":{\"t\":[{\"o\":25200}],\"f\":f5,\"e\":\"17,62\"},\"p124\":{\"t\":[{\"o\":-12600}],\"f\":f5},\"p57\":{\"t\":[{\"o\":-36000}],\"f\":f5},\"p132\":{\"t\":[{\"o\":12600}],\"f\":f5},\"p26\":{\"t\":[{\"o\":36000}],\"f\":f5},\"p65\":{\"t\":[{\"o\":16200}],\"f\":f5},\"p67\":{\"t\":[{\"o\":20700}],\"f\":f5},\"p140\":{\"t\":[{\"o\":23400}],\"f\":f5},\"p71\":{\"t\":[{\"o\":50400}],\"f\":f5}};\n",
       "TAD=window.TAD||{};TAD.lm=[];TAD.lm[0]='January';TAD.ld=[];TAD.ld[3]='Wednesday';TAD.ld[4]='Thursday';TAD.ld[5]='Friday';TAD.sd1=['Sun','Mon','Tue','Wed','Thu','Fri','Sat'];dsts=\" *\";function updwds(n){return '('+n+' '+((n==1)?'place listed':'places listed')+').';}\n",
       "\n",
       "</script><div class=\"fixed\"><p class=\"help-link noprint\"><a href=\"/worldclock/help.html\"> Need some help?</a></p></div></div></section><section class=\"fixed\" id=\"include-extras\"><div class=\"botlnk\"><h2>More Information</h2><ul><li><a href=\"/time/dst/\">Daylight Saving Time</a></li><li><a href=\"/time/zones/\">Time Zone Abbreviations</a></li><li><a href=\"/news/time/\">Time Zone News</a></li><li><a href=\"/time/\">Time Tools Overview</a></li></ul><h2>Related Link</h2><ul><li><a href=\"/services/api/time-api.html\">Time API Services</a></li></ul><h2>Related Time Zone Tools</h2><ul><li><a href=\"/worldclock/search.html\">Search for a City and Find Local Time</a></li><li><a href=\"/worldclock/personal.html\">Personal World Clock</a></li><li><a href=\"/time/map/\">Time Zone Map</a></li><li><a href=\"/worldclock/meeting.html\">Meeting Planner</a> – The best times for your meeting across time zones</li><li><a href=\"/worldclock/fixedform.html\">Event Time Announcer</a> – Show local times worldwide for your event.</li></ul></div></section><script src=\"/common/wcommon_140.js\"></script> </div>\n",
       "<footer class=\"footer\">\n",
       "<section class=\"feedback-bar\">\n",
       "<div class=\"fixed feedback-bar__wrap\">\n",
       "<section class=\"feedback-bar__instant-feedback\" id=\"instant-feedback\">\n",
       "<span class=\"feedback-bar__msg\">How was your experience?</span>\n",
       "<span class=\"feedback-bar__thankyou\">Thank you for your feedback!</span>\n",
       "<a aria-label=\"Vote for having a good experience\" class=\"feedback-bar__thumb feedback-bar__thumb--up\" href=\"#\" onclick=\"return blif(1)\" title=\"Vote Good\"><svg height=\"24\" viewbox=\"0 0 24 24\" width=\"24\" xmlns=\"http://www.w3.org/2000/svg\"><path d=\"M0 0h24v24H0V0z\" fill=\"none\"></path><path d=\"M1 21h4V9H1v12zm22-11c0-1.1-.9-2-2-2h-6.31l.95-4.57.03-.32c0-.41-.17-.79-.44-1.06L14.17 1 7.59 7.59C7.22 7.95 7 8.45 7 9v10c0 1.1.9 2 2 2h9c.83 0 1.54-.5 1.84-1.22l3.02-7.05c.09-.23.14-.47.14-.73v-2z\"></path></svg></a>\n",
       "<a aria-label=\"Vote for having a bad experience\" class=\"feedback-bar__thumb feedback-bar__thumb--down\" href=\"#\" onclick=\"return blif(0)\" title=\"Vote Bad\"><svg height=\"24\" viewbox=\"0 0 24 24\" width=\"24\" xmlns=\"http://www.w3.org/2000/svg\"><path d=\"M0 0h24v24H0z\" fill=\"none\"></path><path d=\"M15 3H6c-.83 0-1.54.5-1.84 1.22l-3.02 7.05c-.09.23-.14.47-.14.73v2c0 1.1.9 2 2 2h6.31l-.95 4.57-.03.32c0 .41.17.79.44 1.06L9.83 23l6.59-6.59c.36-.36.58-.86.58-1.41V5c0-1.1-.9-2-2-2zm4 0v12h4V3h-4z\"></path></svg>\n",
       "</a>\n",
       "</section>\n",
       "<section class=\"feedback-bar__contact\"><a href=\"https://www.timeanddate.com/information/feedback.html?url=/worldclock/\" id=\"bls1\" onclick=\"return bls(this)\">Contact Us \n",
       "<svg height=\"24\" viewbox=\"0 0 24 24\" width=\"24\" xmlns=\"http://www.w3.org/2000/svg\"><path d=\"M20 4H4c-1.1 0-1.99.9-1.99 2L2 18c0 1.1.9 2 2 2h16c1.1 0 2-.9 2-2V6c0-1.1-.9-2-2-2zm0 4l-8 5-8-5V6l8 5 8-5v2z\"></path><path d=\"M0 0h24v24H0z\" fill=\"none\"></path></svg></a></section>\n",
       "</div>\n",
       "</section>\n",
       "<section class=\"fixed footer__wrap\">\n",
       "<section class=\"footer__block footer__block--promo\">\n",
       "<article class=\"footer-card\">\n",
       "<a class=\"footer-card__img-link\" href=\"/services/supporter.html\">\n",
       "<img alt=\"Illustration of a pink shield with a white heart.\" class=\"footer-card__img\" height=\"100\" loading=\"lazy\" src=\"//c.tadst.com/gfx/n/i/service__supporter.svg\" width=\"100\"/>\n",
       "</a>\n",
       "<section class=\"footer-card__content\">\n",
       "<h4 class=\"footer-card__title\">\n",
       "<a href=\"/services/supporter.html\">\n",
       "  Love Our Site? Become a Supporter\n",
       "  </a>\n",
       "</h4>\n",
       "<ul class=\"footer-card__text\">\n",
       "<li>Browse our site <strong>advert free.</strong></li>\n",
       "<li>Sun &amp; Moon times <strong>precise to the second.</strong></li>\n",
       "<li><strong>Exclusive calendar templates</strong> for PDF Calendar.</li>\n",
       "</ul>\n",
       "</section>\n",
       "</article>\n",
       "<section class=\"footer__logo\">\n",
       "<a href=\"/\" rel=\"home\"><img alt=\"The timeanddate logo\" height=\"88\" src=\"//c.tadst.com/gfx/n/tad-logo-com3.png\" width=\"170\"/></a>\n",
       "<p><a href=\"/information/copyright.html\">© Time and Date AS 1995–2021</a></p>\n",
       "</section>\n",
       "</section>\n",
       "<section class=\"footer__block footer__block--links-wrap\">\n",
       "<section class=\"footer__links\">\n",
       "<nav class=\"footer__links-block footer__links-block--company\">\n",
       "<h4>Company</h4>\n",
       "<ul>\n",
       "<li><a href=\"/company/\">About us</a></li>\n",
       "<li><a href=\"/company/jobs\">Careers/Jobs</a></li>\n",
       "<li><a href=\"https://www.timeanddate.com/information/feedback.html?url=/worldclock/\" id=\"bls2\" onclick=\"return bls(this)\">Contact Us</a></li>\n",
       "<li><a href=\"/information/contact.html\">Contact Details</a></li>\n",
       "<li><a href=\"/sitemap.html\">Sitemap</a></li>\n",
       "<li><a href=\"/newsletter/\">Newsletter</a></li>\n",
       "</ul>\n",
       "</nav>\n",
       "<nav class=\"footer__links-block footer__links-block--legal\">\n",
       "<h4>Legal</h4>\n",
       "<ul>\n",
       "<li><a href=\"/information/copyright.html\">Link policy</a></li>\n",
       "<li><a href=\"/information/advertising.html\">Advertising</a></li>\n",
       "<li><a href=\"/information/disclaimer.html\">Disclaimer</a></li>\n",
       "<li><a href=\"/information/terms-conditions.html\">Terms &amp; Conditions</a></li>\n",
       "<li><a href=\"/information/privacy.html\">Privacy Policy</a></li>\n",
       "<li><a href=\"/custom/privacy.html\">My Privacy</a></li>\n",
       "</ul>\n",
       "</nav>\n",
       "<nav class=\"footer__links-block footer__links-block--services\">\n",
       "<h4>Services</h4>\n",
       "<ul>\n",
       "<li><a href=\"/worldclock/\">World Clock</a></li>\n",
       "<li><a href=\"/time/\">Time Zones</a></li>\n",
       "<li><a href=\"/calendar/\">Calendar</a></li>\n",
       "<li><a href=\"/weather/\">Weather</a></li>\n",
       "<li><a href=\"/astronomy/\">Sun &amp; Moon</a></li>\n",
       "<li><a href=\"/counters/\">Timers</a></li>\n",
       "<li><a href=\"/date/\">Calculators</a></li>\n",
       "<li><a href=\"/services/api/\">API</a></li>\n",
       "</ul>\n",
       "</nav>\n",
       "<nav class=\"footer__links-block footer__links-block--sites\">\n",
       "<h4>Sites</h4>\n",
       "<ul>\n",
       "<li><a href=\"https://www.timeanddate.no\">timeanddate.no</a></li>\n",
       "<li><a href=\"https://www.timeanddate.de\">timeanddate.de</a></li>\n",
       "</ul>\n",
       "</nav>\n",
       "<section class=\"footer__social\">\n",
       "<h4>Follow Us</h4>\n",
       "<div class=\"footer__social-icons\">\n",
       "<a href=\"https://www.facebook.com/timeanddate/\"><i class=\"footer__social-icon footer__social-icon--facebook\" title=\"timeanddate.com on Facebook\"></i></a>\n",
       "<a href=\"https://twitter.com/timeanddate\"><i class=\"footer__social-icon footer__social-icon--twitter\" title=\"timeanddate.com on Twitter\"></i></a>\n",
       "<a href=\"https://www.linkedin.com/company/time-and-date-as/about/\"><i class=\"footer__social-icon footer__social-icon--linkedin\" title=\"timeanddate.com on Linkedin\"></i></a>\n",
       "<a href=\"https://www.instagram.com/timeanddatecom/\"><i class=\"footer__social-icon footer__social-icon--instagram\" title=\"timeanddate.com on Instagram\"></i></a>\n",
       "<a href=\"https://www.youtube.com/c/timeanddate\"><i class=\"footer__social-icon footer__social-icon--youtube\" title=\"timeanddate.com on YouTube\"></i></a>\n",
       "</div>\n",
       "</section>\n",
       "</section>\n",
       "<p class=\"footer__copyright\">\n",
       " © Time and Date AS 1995–2020. \n",
       " <a href=\"/information/copyright.html\">Privacy &amp; Terms</a>\n",
       "</p>\n",
       "</section>\n",
       "</section>\n",
       "</footer>\n",
       "<!-- FOOTER END -->\n",
       "<script>\n",
       " \n",
       "bli();main();\n",
       " \n",
       "</script>\n",
       "<div class=\"wfc\" id=\"FBD\" style=\"display:none\"></div>\n",
       "<iframe height=\"0\" src=\"https://jp-u.openx.net/w/1.0/pd?plm=10&amp;ph=fd2884dc-66fe-497c-814e-2f6f845165d1\" style=\"display:none;\" width=\"0\"></iframe><iframe height=\"0\" src=\"https://jp-u.openx.net/w/1.0/pd?plm=10&amp;ph=fd2884dc-66fe-497c-814e-2f6f845165d1\" style=\"display:none;\" width=\"0\"></iframe></body></html>"
      ]
     },
     "execution_count": 40,
     "metadata": {},
     "output_type": "execute_result"
    }
   ],
   "source": [
    "data"
   ]
  },
  {
   "cell_type": "code",
   "execution_count": 41,
   "metadata": {},
   "outputs": [
    {
     "data": {
      "text/plain": [
       "<table class=\"zebra fw tb-theme\"><thead><tr><th colspan=\"8\"><h3 class=\"tb-header\">Current Local Times  Around the World </h3><div class=\"tb-show\"><form action=\"/scripts/gowc.php\" aria-hidden=\"true\" class=\"inline\" id=\"wc-sort\" method=\"get\" name=\"wc-sort\"><label for=\"sort\">Sort By: </label><select id=\"sort\" name=\"sort\" onchange=\"this.form.submit()\"><option selected=\"\" value=\"0\">City</option><option value=\"1\">Country</option><option value=\"2\">Time</option></select><input name=\"url\" type=\"hidden\" value=\"/worldclock/\"/><input name=\"args\" type=\"hidden\" value=\"\"/></form></div><div class=\"tb-show mgr10\"><form action=\"/scripts/gowc.php\" aria-hidden=\"true\" class=\"inline\" id=\"wc-shown\" method=\"get\" name=\"wc-shown\"><label for=\"pop\">Cities Shown: </label><select id=\"pop\" name=\"low\" onchange=\"this.form.submit();\"><option value=\"c\">Capitals (215)</option><option selected=\"\" value=\"6\">Most Popular (143)</option><option value=\"5\">Popular (356)</option><option value=\"4\">Somewhat Popular (469)</option><option value=\"e\">Extended List</option></select><input name=\"url\" type=\"hidden\" value=\"/worldclock/\"/><input name=\"args\" type=\"hidden\" value=\"\"/></form></div></th></tr></thead><tbody><tr><td><a href=\"/worldclock/ghana/accra\">Accra</a><span class=\"wds\" id=\"p0s\"></span></td><td class=\"rbi\" id=\"p0\">Wed 11:52</td><td><a href=\"/worldclock/morocco/casablanca\">Casablanca</a><span class=\"wds\" id=\"p36s\"> *</span></td><td class=\"rbi\" id=\"p36\">Wed 12:52</td><td><a href=\"/worldclock/india/kolkata\">Kolkata</a><span class=\"wds\" id=\"p72s\"></span></td><td class=\"rbi\" id=\"p72\">Wed 17:22</td><td><a href=\"/worldclock/iceland/reykjavik\">Reykjavik</a><span class=\"wds\" id=\"p108s\"></span></td><td class=\"rbi\" id=\"p108\">Wed 11:52</td></tr><tr><td><a href=\"/worldclock/ethiopia/addis-ababa\">Addis Ababa</a><span class=\"wds\" id=\"p1s\"></span></td><td class=\"rbi\" id=\"p1\">Wed 14:52</td><td><a href=\"/worldclock/usa/chicago\">Chicago</a><span class=\"wds\" id=\"p37s\"></span></td><td class=\"rbi\" id=\"p37\">Wed 05:52</td><td><a href=\"/worldclock/malaysia/kuala-lumpur\">Kuala Lumpur</a><span class=\"wds\" id=\"p73s\"></span></td><td class=\"rbi\" id=\"p73\">Wed 19:52</td><td><a href=\"/worldclock/brazil/rio-de-janeiro\">Rio de Janeiro</a><span class=\"wds\" id=\"p109s\"></span></td><td class=\"rbi\" id=\"p109\">Wed 08:52</td></tr><tr><td><a href=\"/worldclock/australia/adelaide\">Adelaide</a><span class=\"wds\" id=\"p2s\"> *</span></td><td class=\"rbi\" id=\"p2\">Wed 22:22</td><td><a href=\"/worldclock/denmark/copenhagen\">Copenhagen</a><span class=\"wds\" id=\"p38s\"></span></td><td class=\"rbi\" id=\"p38\">Wed 12:52</td><td><a href=\"/worldclock/kuwait/kuwait-city\">Kuwait City</a><span class=\"wds\" id=\"p74s\"></span></td><td class=\"rbi\" id=\"p74\">Wed 14:52</td><td><a href=\"/worldclock/saudi-arabia/riyadh\">Riyadh</a><span class=\"wds\" id=\"p110s\"></span></td><td class=\"rbi\" id=\"p110\">Wed 14:52</td></tr><tr><td><a href=\"/worldclock/algeria/algiers\">Algiers</a><span class=\"wds\" id=\"p3s\"></span></td><td class=\"rbi\" id=\"p3\">Wed 12:52</td><td><a href=\"/worldclock/usa/dallas\">Dallas</a><span class=\"wds\" id=\"p39s\"></span></td><td class=\"rbi\" id=\"p39\">Wed 05:52</td><td><a href=\"/worldclock/ukraine/kyiv\">Kyiv</a><span class=\"wds\" id=\"p75s\"></span></td><td class=\"rbi\" id=\"p75\">Wed 13:52</td><td><a href=\"/worldclock/italy/rome\">Rome</a><span class=\"wds\" id=\"p111s\"></span></td><td class=\"rbi\" id=\"p111\">Wed 12:52</td></tr><tr><td><a href=\"/worldclock/kazakstan/almaty\">Almaty</a><span class=\"wds\" id=\"p4s\"></span></td><td class=\"rbi\" id=\"p4\">Wed 17:52</td><td><a href=\"/worldclock/tanzania/dar-es-salaam\">Dar es Salaam</a><span class=\"wds\" id=\"p40s\"></span></td><td class=\"rbi\" id=\"p40\">Wed 14:52</td><td><a href=\"/worldclock/bolivia/la-paz\">La Paz</a><span class=\"wds\" id=\"p76s\"></span></td><td class=\"rbi\" id=\"p76\">Wed 07:52</td><td><a href=\"/worldclock/usa/salt-lake-city\">Salt Lake City</a><span class=\"wds\" id=\"p112s\"></span></td><td class=\"rbi\" id=\"p112\">Wed 04:52</td></tr><tr><td><a href=\"/worldclock/jordan/amman\">Amman</a><span class=\"wds\" id=\"p5s\"></span></td><td class=\"rbi\" id=\"p5\">Wed 13:52</td><td><a href=\"/worldclock/australia/darwin\">Darwin</a><span class=\"wds\" id=\"p41s\"></span></td><td class=\"rbi\" id=\"p41\">Wed 21:22</td><td><a href=\"/worldclock/nigeria/lagos\">Lagos</a><span class=\"wds\" id=\"p77s\"></span></td><td class=\"rbi\" id=\"p77\">Wed 12:52</td><td><a href=\"/worldclock/usa/san-francisco\">San Francisco</a><span class=\"wds\" id=\"p113s\"></span></td><td class=\"rbi\" id=\"p113\">Wed 03:52</td></tr><tr><td><a href=\"/worldclock/netherlands/amsterdam\">Amsterdam</a><span class=\"wds\" id=\"p6s\"></span></td><td class=\"rbi\" id=\"p6\">Wed 12:52</td><td><a href=\"/worldclock/usa/denver\">Denver</a><span class=\"wds\" id=\"p42s\"></span></td><td class=\"rbi\" id=\"p42\">Wed 04:52</td><td><a href=\"/worldclock/pakistan/lahore\">Lahore</a><span class=\"wds\" id=\"p78s\"></span></td><td class=\"rbi\" id=\"p78\">Wed 16:52</td><td><a href=\"/worldclock/puerto-rico/san-juan\">San Juan</a><span class=\"wds\" id=\"p114s\"></span></td><td class=\"rbi\" id=\"p114\">Wed 07:52</td></tr><tr><td><a href=\"/worldclock/russia/anadyr\">Anadyr</a><span class=\"wds\" id=\"p7s\"></span></td><td class=\"rbi\" id=\"p7\">Wed 23:52</td><td><a href=\"/worldclock/usa/detroit\">Detroit</a><span class=\"wds\" id=\"p43s\"></span></td><td class=\"rbi\" id=\"p43\">Wed 06:52</td><td><a href=\"/worldclock/usa/las-vegas\">Las Vegas</a><span class=\"wds\" id=\"p79s\"></span></td><td class=\"rbi\" id=\"p79\">Wed 03:52</td><td><a href=\"/worldclock/el-salvador/san-salvador\">San Salvador</a><span class=\"wds\" id=\"p115s\"></span></td><td class=\"rbi\" id=\"p115\">Wed 05:52</td></tr><tr><td><a href=\"/worldclock/usa/anchorage\">Anchorage</a><span class=\"wds\" id=\"p8s\"></span></td><td class=\"rbi\" id=\"p8\">Wed 02:52</td><td><a href=\"/worldclock/bangladesh/dhaka\">Dhaka</a><span class=\"wds\" id=\"p44s\"></span></td><td class=\"rbi\" id=\"p44\">Wed 17:52</td><td><a href=\"/worldclock/peru/lima\">Lima</a><span class=\"wds\" id=\"p80s\"></span></td><td class=\"rbi\" id=\"p80\">Wed 06:52</td><td><a href=\"/worldclock/chile/santiago\">Santiago</a><span class=\"wds\" id=\"p116s\"> *</span></td><td class=\"rbi\" id=\"p116\">Wed 08:52</td></tr><tr><td><a href=\"/worldclock/turkey/ankara\">Ankara</a><span class=\"wds\" id=\"p9s\"></span></td><td class=\"rbi\" id=\"p9\">Wed 14:52</td><td><a href=\"/worldclock/qatar/doha\">Doha</a><span class=\"wds\" id=\"p45s\"></span></td><td class=\"rbi\" id=\"p45\">Wed 14:52</td><td><a href=\"/worldclock/portugal/lisbon\">Lisbon</a><span class=\"wds\" id=\"p81s\"></span></td><td class=\"rbi\" id=\"p81\">Wed 11:52</td><td><a href=\"/worldclock/dominican-republic/santo-domingo\">Santo Domingo</a><span class=\"wds\" id=\"p117s\"></span></td><td class=\"rbi\" id=\"p117\">Wed 07:52</td></tr><tr><td><a href=\"/worldclock/madagascar/antananarivo\">Antananarivo</a><span class=\"wds\" id=\"p10s\"></span></td><td class=\"rbi\" id=\"p10\">Wed 14:52</td><td><a href=\"/worldclock/united-arab-emirates/dubai\">Dubai</a><span class=\"wds\" id=\"p46s\"></span></td><td class=\"rbi\" id=\"p46\">Wed 15:52</td><td><a href=\"/worldclock/uk/london\">London</a><span class=\"wds\" id=\"p82s\"></span></td><td class=\"rbi\" id=\"p82\">Wed 11:52</td><td><a href=\"/worldclock/brazil/sao-paulo\">São Paulo</a><span class=\"wds\" id=\"p118s\"></span></td><td class=\"rbi\" id=\"p118\">Wed 08:52</td></tr><tr><td><a href=\"/worldclock/paraguay/asuncion\">Asuncion</a><span class=\"wds\" id=\"p11s\"> *</span></td><td class=\"rbi\" id=\"p11\">Wed 08:52</td><td><a href=\"/worldclock/ireland/dublin\">Dublin</a><span class=\"wds\" id=\"p47s\"></span></td><td class=\"rbi\" id=\"p47\">Wed 11:52</td><td><a href=\"/worldclock/usa/los-angeles\">Los Angeles</a><span class=\"wds\" id=\"p83s\"></span></td><td class=\"rbi\" id=\"p83\">Wed 03:52</td><td><a href=\"/worldclock/usa/seattle\">Seattle</a><span class=\"wds\" id=\"p119s\"></span></td><td class=\"rbi\" id=\"p119\">Wed 03:52</td></tr><tr><td><a href=\"/worldclock/greece/athens\">Athens</a><span class=\"wds\" id=\"p12s\"></span></td><td class=\"rbi\" id=\"p12\">Wed 13:52</td><td><a href=\"/worldclock/canada/edmonton\">Edmonton</a><span class=\"wds\" id=\"p48s\"></span></td><td class=\"rbi\" id=\"p48\">Wed 04:52</td><td><a href=\"/worldclock/spain/madrid\">Madrid</a><span class=\"wds\" id=\"p84s\"></span></td><td class=\"rbi\" id=\"p84\">Wed 12:52</td><td><a href=\"/worldclock/south-korea/seoul\">Seoul</a><span class=\"wds\" id=\"p120s\"></span></td><td class=\"rbi\" id=\"p120\">Wed 20:52</td></tr><tr><td><a href=\"/worldclock/usa/atlanta\">Atlanta</a><span class=\"wds\" id=\"p13s\"></span></td><td class=\"rbi\" id=\"p13\">Wed 06:52</td><td><a href=\"/worldclock/germany/frankfurt\">Frankfurt</a><span class=\"wds\" id=\"p49s\"></span></td><td class=\"rbi\" id=\"p49\">Wed 12:52</td><td><a href=\"/worldclock/nicaragua/managua\">Managua</a><span class=\"wds\" id=\"p85s\"></span></td><td class=\"rbi\" id=\"p85\">Wed 05:52</td><td><a href=\"/worldclock/china/shanghai\">Shanghai</a><span class=\"wds\" id=\"p121s\"></span></td><td class=\"rbi\" id=\"p121\">Wed 19:52</td></tr><tr><td><a href=\"/worldclock/new-zealand/auckland\">Auckland</a><span class=\"wds\" id=\"p14s\"> *</span></td><td class=\"rbi\" id=\"p14\">Thu 00:52</td><td><a href=\"/worldclock/guatemala/guatemala\">Guatemala City</a><span class=\"wds\" id=\"p50s\"></span></td><td class=\"rbi\" id=\"p50\">Wed 05:52</td><td><a href=\"/worldclock/philippines/manila\">Manila</a><span class=\"wds\" id=\"p86s\"></span></td><td class=\"rbi\" id=\"p86\">Wed 19:52</td><td><a href=\"/worldclock/singapore/singapore\">Singapore</a><span class=\"wds\" id=\"p122s\"></span></td><td class=\"rbi\" id=\"p122\">Wed 19:52</td></tr><tr><td><a href=\"/worldclock/iraq/baghdad\">Baghdad</a><span class=\"wds\" id=\"p15s\"></span></td><td class=\"rbi\" id=\"p15\">Wed 14:52</td><td><a href=\"/worldclock/canada/halifax\">Halifax</a><span class=\"wds\" id=\"p51s\"></span></td><td class=\"rbi\" id=\"p51\">Wed 07:52</td><td><a href=\"/worldclock/australia/melbourne\">Melbourne</a><span class=\"wds\" id=\"p87s\"> *</span></td><td class=\"rbi\" id=\"p87\">Wed 22:52</td><td><a href=\"/worldclock/bulgaria/sofia\">Sofia</a><span class=\"wds\" id=\"p123s\"></span></td><td class=\"rbi\" id=\"p123\">Wed 13:52</td></tr><tr><td><a href=\"/worldclock/india/bangalore\">Bangalore</a><span class=\"wds\" id=\"p16s\"></span></td><td class=\"rbi\" id=\"p16\">Wed 17:22</td><td><a href=\"/worldclock/vietnam/hanoi\">Hanoi</a><span class=\"wds\" id=\"p52s\"></span></td><td class=\"rbi\" id=\"p52\">Wed 18:52</td><td><a href=\"/worldclock/mexico/mexico-city\">Mexico City</a><span class=\"wds\" id=\"p88s\"></span></td><td class=\"rbi\" id=\"p88\">Wed 05:52</td><td><a href=\"/worldclock/canada/st-johns\">St. John's</a><span class=\"wds\" id=\"p124s\"></span></td><td class=\"rbi\" id=\"p124\">Wed 08:22</td></tr><tr><td><a href=\"/worldclock/thailand/bangkok\">Bangkok</a><span class=\"wds\" id=\"p17s\"></span></td><td class=\"rbi\" id=\"p17\">Wed 18:52</td><td><a href=\"/worldclock/zimbabwe/harare\">Harare</a><span class=\"wds\" id=\"p53s\"></span></td><td class=\"rbi\" id=\"p53\">Wed 13:52</td><td><a href=\"/worldclock/usa/miami\">Miami</a><span class=\"wds\" id=\"p89s\"></span></td><td class=\"rbi\" id=\"p89\">Wed 06:52</td><td><a href=\"/worldclock/sweden/stockholm\">Stockholm</a><span class=\"wds\" id=\"p125s\"></span></td><td class=\"rbi\" id=\"p125\">Wed 12:52</td></tr><tr><td><a href=\"/worldclock/spain/barcelona\">Barcelona</a><span class=\"wds\" id=\"p18s\"></span></td><td class=\"rbi\" id=\"p18\">Wed 12:52</td><td><a href=\"/worldclock/cuba/havana\">Havana</a><span class=\"wds\" id=\"p54s\"></span></td><td class=\"rbi\" id=\"p54\">Wed 06:52</td><td><a href=\"/worldclock/usa/minneapolis\">Minneapolis</a><span class=\"wds\" id=\"p90s\"></span></td><td class=\"rbi\" id=\"p90\">Wed 05:52</td><td><a href=\"/worldclock/fiji/suva\">Suva</a><span class=\"wds\" id=\"p126s\"></span></td><td class=\"rbi\" id=\"p126\">Wed 23:52</td></tr><tr><td><a href=\"/worldclock/china/beijing\">Beijing</a><span class=\"wds\" id=\"p19s\"></span></td><td class=\"rbi\" id=\"p19\">Wed 19:52</td><td><a href=\"/worldclock/finland/helsinki\">Helsinki</a><span class=\"wds\" id=\"p55s\"></span></td><td class=\"rbi\" id=\"p55\">Wed 13:52</td><td><a href=\"/worldclock/belarus/minsk\">Minsk</a><span class=\"wds\" id=\"p91s\"></span></td><td class=\"rbi\" id=\"p91\">Wed 14:52</td><td><a href=\"/worldclock/australia/sydney\">Sydney</a><span class=\"wds\" id=\"p127s\"> *</span></td><td class=\"rbi\" id=\"p127\">Wed 22:52</td></tr><tr><td><a href=\"/worldclock/lebanon/beirut\">Beirut</a><span class=\"wds\" id=\"p20s\"></span></td><td class=\"rbi\" id=\"p20\">Wed 13:52</td><td><a href=\"/worldclock/hong-kong/hong-kong\">Hong Kong</a><span class=\"wds\" id=\"p56s\"></span></td><td class=\"rbi\" id=\"p56\">Wed 19:52</td><td><a href=\"/worldclock/uruguay/montevideo\">Montevideo</a><span class=\"wds\" id=\"p92s\"></span></td><td class=\"rbi\" id=\"p92\">Wed 08:52</td><td><a href=\"/worldclock/taiwan/taipei\">Taipei</a><span class=\"wds\" id=\"p128s\"></span></td><td class=\"rbi\" id=\"p128\">Wed 19:52</td></tr><tr><td><a href=\"/worldclock/serbia/belgrade\">Belgrade</a><span class=\"wds\" id=\"p21s\"></span></td><td class=\"rbi\" id=\"p21\">Wed 12:52</td><td><a href=\"/worldclock/usa/honolulu\">Honolulu</a><span class=\"wds\" id=\"p57s\"></span></td><td class=\"rbi\" id=\"p57\">Wed 01:52</td><td><a href=\"/worldclock/canada/montreal\">Montréal</a><span class=\"wds\" id=\"p93s\"></span></td><td class=\"rbi\" id=\"p93\">Wed 06:52</td><td><a href=\"/worldclock/estonia/tallinn\">Tallinn</a><span class=\"wds\" id=\"p129s\"></span></td><td class=\"rbi\" id=\"p129\">Wed 13:52</td></tr><tr><td><a href=\"/worldclock/germany/berlin\">Berlin</a><span class=\"wds\" id=\"p22s\"></span></td><td class=\"rbi\" id=\"p22\">Wed 12:52</td><td><a href=\"/worldclock/usa/houston\">Houston</a><span class=\"wds\" id=\"p58s\"></span></td><td class=\"rbi\" id=\"p58\">Wed 05:52</td><td><a href=\"/worldclock/russia/moscow\">Moscow</a><span class=\"wds\" id=\"p94s\"></span></td><td class=\"rbi\" id=\"p94\">Wed 14:52</td><td><a href=\"/worldclock/uzbekistan/tashkent\">Tashkent</a><span class=\"wds\" id=\"p130s\"></span></td><td class=\"rbi\" id=\"p130\">Wed 16:52</td></tr><tr><td><a href=\"/worldclock/colombia/bogota\">Bogota</a><span class=\"wds\" id=\"p23s\"></span></td><td class=\"rbi\" id=\"p23\">Wed 06:52</td><td><a href=\"/worldclock/usa/indianapolis\">Indianapolis</a><span class=\"wds\" id=\"p59s\"></span></td><td class=\"rbi\" id=\"p59\">Wed 06:52</td><td><a href=\"/worldclock/india/mumbai\">Mumbai</a><span class=\"wds\" id=\"p95s\"></span></td><td class=\"rbi\" id=\"p95\">Wed 17:22</td><td><a href=\"/worldclock/honduras/tegucigalpa\">Tegucigalpa</a><span class=\"wds\" id=\"p131s\"></span></td><td class=\"rbi\" id=\"p131\">Wed 05:52</td></tr><tr><td><a href=\"/worldclock/usa/boston\">Boston</a><span class=\"wds\" id=\"p24s\"></span></td><td class=\"rbi\" id=\"p24\">Wed 06:52</td><td><a href=\"/worldclock/pakistan/islamabad\">Islamabad</a><span class=\"wds\" id=\"p60s\"></span></td><td class=\"rbi\" id=\"p60\">Wed 16:52</td><td><a href=\"/worldclock/kenya/nairobi\">Nairobi</a><span class=\"wds\" id=\"p96s\"></span></td><td class=\"rbi\" id=\"p96\">Wed 14:52</td><td><a href=\"/worldclock/iran/tehran\">Tehran</a><span class=\"wds\" id=\"p132s\"></span></td><td class=\"rbi\" id=\"p132\">Wed 15:22</td></tr><tr><td><a href=\"/worldclock/brazil/brasilia\">Brasilia</a><span class=\"wds\" id=\"p25s\"></span></td><td class=\"rbi\" id=\"p25\">Wed 08:52</td><td><a href=\"/worldclock/turkey/istanbul\">Istanbul</a><span class=\"wds\" id=\"p61s\"></span></td><td class=\"rbi\" id=\"p61\">Wed 14:52</td><td><a href=\"/worldclock/bahamas/nassau\">Nassau</a><span class=\"wds\" id=\"p97s\"></span></td><td class=\"rbi\" id=\"p97\">Wed 06:52</td><td><a href=\"/worldclock/japan/tokyo\">Tokyo</a><span class=\"wds\" id=\"p133s\"></span></td><td class=\"rbi\" id=\"p133\">Wed 20:52</td></tr><tr><td><a href=\"/worldclock/australia/brisbane\">Brisbane</a><span class=\"wds\" id=\"p26s\"></span></td><td class=\"rbi\" id=\"p26\">Wed 21:52</td><td><a href=\"/worldclock/indonesia/jakarta\">Jakarta</a><span class=\"wds\" id=\"p62s\"></span></td><td class=\"rbi\" id=\"p62\">Wed 18:52</td><td><a href=\"/worldclock/india/new-delhi\">New Delhi</a><span class=\"wds\" id=\"p98s\"></span></td><td class=\"rbi\" id=\"p98\">Wed 17:22</td><td><a href=\"/worldclock/canada/toronto\">Toronto</a><span class=\"wds\" id=\"p134s\"></span></td><td class=\"rbi\" id=\"p134\">Wed 06:52</td></tr><tr><td><a href=\"/worldclock/belgium/brussels\">Brussels</a><span class=\"wds\" id=\"p27s\"></span></td><td class=\"rbi\" id=\"p27\">Wed 12:52</td><td><a href=\"/worldclock/israel/jerusalem\">Jerusalem</a><span class=\"wds\" id=\"p63s\"></span></td><td class=\"rbi\" id=\"p63\">Wed 13:52</td><td><a href=\"/worldclock/usa/new-orleans\">New Orleans</a><span class=\"wds\" id=\"p99s\"></span></td><td class=\"rbi\" id=\"p99\">Wed 05:52</td><td><a href=\"/worldclock/canada/vancouver\">Vancouver</a><span class=\"wds\" id=\"p135s\"></span></td><td class=\"rbi\" id=\"p135\">Wed 03:52</td></tr><tr><td><a href=\"/worldclock/romania/bucharest\">Bucharest</a><span class=\"wds\" id=\"p28s\"></span></td><td class=\"rbi\" id=\"p28\">Wed 13:52</td><td><a href=\"/worldclock/south-africa/johannesburg\">Johannesburg</a><span class=\"wds\" id=\"p64s\"></span></td><td class=\"rbi\" id=\"p64\">Wed 13:52</td><td><a href=\"/worldclock/usa/new-york\">New York</a><span class=\"wds\" id=\"p100s\"></span></td><td class=\"rbi\" id=\"p100\">Wed 06:52</td><td><a href=\"/worldclock/austria/vienna\">Vienna</a><span class=\"wds\" id=\"p136s\"></span></td><td class=\"rbi\" id=\"p136\">Wed 12:52</td></tr><tr><td><a href=\"/worldclock/hungary/budapest\">Budapest</a><span class=\"wds\" id=\"p29s\"></span></td><td class=\"rbi\" id=\"p29\">Wed 12:52</td><td><a href=\"/worldclock/afghanistan/kabul\">Kabul</a><span class=\"wds\" id=\"p65s\"></span></td><td class=\"rbi\" id=\"p65\">Wed 16:22</td><td><a href=\"/worldclock/norway/oslo\">Oslo</a><span class=\"wds\" id=\"p101s\"></span></td><td class=\"rbi\" id=\"p101\">Wed 12:52</td><td><a href=\"/worldclock/poland/warsaw\">Warsaw</a><span class=\"wds\" id=\"p137s\"></span></td><td class=\"rbi\" id=\"p137\">Wed 12:52</td></tr><tr><td><a href=\"/worldclock/argentina/buenos-aires\">Buenos Aires</a><span class=\"wds\" id=\"p30s\"></span></td><td class=\"rbi\" id=\"p30\">Wed 08:52</td><td><a href=\"/worldclock/pakistan/karachi\">Karachi</a><span class=\"wds\" id=\"p66s\"></span></td><td class=\"rbi\" id=\"p66\">Wed 16:52</td><td><a href=\"/worldclock/canada/ottawa\">Ottawa</a><span class=\"wds\" id=\"p102s\"></span></td><td class=\"rbi\" id=\"p102\">Wed 06:52</td><td><a href=\"/worldclock/usa/washington-dc\">Washington DC</a><span class=\"wds\" id=\"p138s\"></span></td><td class=\"rbi\" id=\"p138\">Wed 06:52</td></tr><tr><td><a href=\"/worldclock/egypt/cairo\">Cairo</a><span class=\"wds\" id=\"p31s\"></span></td><td class=\"rbi\" id=\"p31\">Wed 13:52</td><td><a href=\"/worldclock/nepal/kathmandu\">Kathmandu</a><span class=\"wds\" id=\"p67s\"></span></td><td class=\"rbi\" id=\"p67\">Wed 17:37</td><td><a href=\"/worldclock/france/paris\">Paris</a><span class=\"wds\" id=\"p103s\"></span></td><td class=\"rbi\" id=\"p103\">Wed 12:52</td><td><a href=\"/worldclock/canada/winnipeg\">Winnipeg</a><span class=\"wds\" id=\"p139s\"></span></td><td class=\"rbi\" id=\"p139\">Wed 05:52</td></tr><tr><td><a href=\"/worldclock/canada/calgary\">Calgary</a><span class=\"wds\" id=\"p32s\"></span></td><td class=\"rbi\" id=\"p32\">Wed 04:52</td><td><a href=\"/worldclock/sudan/khartoum\">Khartoum</a><span class=\"wds\" id=\"p68s\"></span></td><td class=\"rbi\" id=\"p68\">Wed 13:52</td><td><a href=\"/worldclock/australia/perth\">Perth</a><span class=\"wds\" id=\"p104s\"></span></td><td class=\"rbi\" id=\"p104\">Wed 19:52</td><td><a href=\"/worldclock/myanmar/yangon\">Yangon</a><span class=\"wds\" id=\"p140s\"></span></td><td class=\"rbi\" id=\"p140\">Wed 18:22</td></tr><tr><td><a href=\"/worldclock/australia/canberra\">Canberra</a><span class=\"wds\" id=\"p33s\"> *</span></td><td class=\"rbi\" id=\"p33\">Wed 22:52</td><td><a href=\"/worldclock/jamaica/kingston\">Kingston</a><span class=\"wds\" id=\"p69s\"></span></td><td class=\"rbi\" id=\"p69\">Wed 06:52</td><td><a href=\"/worldclock/usa/philadelphia\">Philadelphia</a><span class=\"wds\" id=\"p105s\"></span></td><td class=\"rbi\" id=\"p105\">Wed 06:52</td><td><a href=\"/worldclock/croatia/zagreb\">Zagreb</a><span class=\"wds\" id=\"p141s\"></span></td><td class=\"rbi\" id=\"p141\">Wed 12:52</td></tr><tr><td><a href=\"/worldclock/south-africa/cape-town\">Cape Town</a><span class=\"wds\" id=\"p34s\"></span></td><td class=\"rbi\" id=\"p34\">Wed 13:52</td><td><a href=\"/worldclock/congo-demrep/kinshasa\">Kinshasa</a><span class=\"wds\" id=\"p70s\"></span></td><td class=\"rbi\" id=\"p70\">Wed 12:52</td><td><a href=\"/worldclock/usa/phoenix\">Phoenix</a><span class=\"wds\" id=\"p106s\"></span></td><td class=\"rbi\" id=\"p106\">Wed 04:52</td><td><a href=\"/worldclock/switzerland/zurich\">Zürich</a><span class=\"wds\" id=\"p142s\"></span></td><td class=\"rbi\" id=\"p142\">Wed 12:52</td></tr><tr><td><a href=\"/worldclock/venezuela/caracas\">Caracas</a><span class=\"wds\" id=\"p35s\"></span></td><td class=\"rbi\" id=\"p35\">Wed 07:52</td><td><a href=\"/worldclock/kiribati/kiritimati\">Kiritimati</a><span class=\"wds\" id=\"p71s\"></span></td><td class=\"rbi\" id=\"p71\">Thu 01:52</td><td><a href=\"/worldclock/czech-republic/prague\">Prague</a><span class=\"wds\" id=\"p107s\"></span></td><td class=\"rbi\" id=\"p107\">Wed 12:52</td><td></td><td></td></tr></tbody></table>"
      ]
     },
     "execution_count": 41,
     "metadata": {},
     "output_type": "execute_result"
    }
   ],
   "source": [
    "tab = data.table\n",
    "tab"
   ]
  },
  {
   "cell_type": "code",
   "execution_count": 42,
   "metadata": {},
   "outputs": [
    {
     "name": "stdout",
     "output_type": "stream",
     "text": [
      "<class 'bs4.element.Tag'>\n"
     ]
    }
   ],
   "source": [
    "print(type(tab))"
   ]
  },
  {
   "cell_type": "code",
   "execution_count": 43,
   "metadata": {},
   "outputs": [
    {
     "data": {
      "text/plain": [
       "[   Current Local Times Around the World Sort By: CityCountryTimeCities Shown: Capitals (215)Most Popular (143)Popular (356)Somewhat Popular (469)Extended List  \\\n",
       " 0                                               Accra                                                                                                            \n",
       " 1                                         Addis Ababa                                                                                                            \n",
       " 2                                          Adelaide *                                                                                                            \n",
       " 3                                             Algiers                                                                                                            \n",
       " 4                                              Almaty                                                                                                            \n",
       " 5                                               Amman                                                                                                            \n",
       " 6                                           Amsterdam                                                                                                            \n",
       " 7                                              Anadyr                                                                                                            \n",
       " 8                                           Anchorage                                                                                                            \n",
       " 9                                              Ankara                                                                                                            \n",
       " 10                                       Antananarivo                                                                                                            \n",
       " 11                                         Asuncion *                                                                                                            \n",
       " 12                                             Athens                                                                                                            \n",
       " 13                                            Atlanta                                                                                                            \n",
       " 14                                         Auckland *                                                                                                            \n",
       " 15                                            Baghdad                                                                                                            \n",
       " 16                                          Bangalore                                                                                                            \n",
       " 17                                            Bangkok                                                                                                            \n",
       " 18                                          Barcelona                                                                                                            \n",
       " 19                                            Beijing                                                                                                            \n",
       " 20                                             Beirut                                                                                                            \n",
       " 21                                           Belgrade                                                                                                            \n",
       " 22                                             Berlin                                                                                                            \n",
       " 23                                             Bogota                                                                                                            \n",
       " 24                                             Boston                                                                                                            \n",
       " 25                                           Brasilia                                                                                                            \n",
       " 26                                           Brisbane                                                                                                            \n",
       " 27                                           Brussels                                                                                                            \n",
       " 28                                          Bucharest                                                                                                            \n",
       " 29                                           Budapest                                                                                                            \n",
       " 30                                       Buenos Aires                                                                                                            \n",
       " 31                                              Cairo                                                                                                            \n",
       " 32                                            Calgary                                                                                                            \n",
       " 33                                         Canberra *                                                                                                            \n",
       " 34                                          Cape Town                                                                                                            \n",
       " 35                                            Caracas                                                                                                            \n",
       " \n",
       "    Current Local Times Around the World Sort By: CityCountryTimeCities Shown: Capitals (215)Most Popular (143)Popular (356)Somewhat Popular (469)Extended List.1  \\\n",
       " 0                                           Wed 11:52                                                                                                              \n",
       " 1                                           Wed 14:52                                                                                                              \n",
       " 2                                           Wed 22:22                                                                                                              \n",
       " 3                                           Wed 12:52                                                                                                              \n",
       " 4                                           Wed 17:52                                                                                                              \n",
       " 5                                           Wed 13:52                                                                                                              \n",
       " 6                                           Wed 12:52                                                                                                              \n",
       " 7                                           Wed 23:52                                                                                                              \n",
       " 8                                           Wed 02:52                                                                                                              \n",
       " 9                                           Wed 14:52                                                                                                              \n",
       " 10                                          Wed 14:52                                                                                                              \n",
       " 11                                          Wed 08:52                                                                                                              \n",
       " 12                                          Wed 13:52                                                                                                              \n",
       " 13                                          Wed 06:52                                                                                                              \n",
       " 14                                          Thu 00:52                                                                                                              \n",
       " 15                                          Wed 14:52                                                                                                              \n",
       " 16                                          Wed 17:22                                                                                                              \n",
       " 17                                          Wed 18:52                                                                                                              \n",
       " 18                                          Wed 12:52                                                                                                              \n",
       " 19                                          Wed 19:52                                                                                                              \n",
       " 20                                          Wed 13:52                                                                                                              \n",
       " 21                                          Wed 12:52                                                                                                              \n",
       " 22                                          Wed 12:52                                                                                                              \n",
       " 23                                          Wed 06:52                                                                                                              \n",
       " 24                                          Wed 06:52                                                                                                              \n",
       " 25                                          Wed 08:52                                                                                                              \n",
       " 26                                          Wed 21:52                                                                                                              \n",
       " 27                                          Wed 12:52                                                                                                              \n",
       " 28                                          Wed 13:52                                                                                                              \n",
       " 29                                          Wed 12:52                                                                                                              \n",
       " 30                                          Wed 08:52                                                                                                              \n",
       " 31                                          Wed 13:52                                                                                                              \n",
       " 32                                          Wed 04:52                                                                                                              \n",
       " 33                                          Wed 22:52                                                                                                              \n",
       " 34                                          Wed 13:52                                                                                                              \n",
       " 35                                          Wed 07:52                                                                                                              \n",
       " \n",
       "    Current Local Times Around the World Sort By: CityCountryTimeCities Shown: Capitals (215)Most Popular (143)Popular (356)Somewhat Popular (469)Extended List.2  \\\n",
       " 0                                        Casablanca *                                                                                                              \n",
       " 1                                             Chicago                                                                                                              \n",
       " 2                                          Copenhagen                                                                                                              \n",
       " 3                                              Dallas                                                                                                              \n",
       " 4                                       Dar es Salaam                                                                                                              \n",
       " 5                                              Darwin                                                                                                              \n",
       " 6                                              Denver                                                                                                              \n",
       " 7                                             Detroit                                                                                                              \n",
       " 8                                               Dhaka                                                                                                              \n",
       " 9                                                Doha                                                                                                              \n",
       " 10                                              Dubai                                                                                                              \n",
       " 11                                             Dublin                                                                                                              \n",
       " 12                                           Edmonton                                                                                                              \n",
       " 13                                          Frankfurt                                                                                                              \n",
       " 14                                     Guatemala City                                                                                                              \n",
       " 15                                            Halifax                                                                                                              \n",
       " 16                                              Hanoi                                                                                                              \n",
       " 17                                             Harare                                                                                                              \n",
       " 18                                             Havana                                                                                                              \n",
       " 19                                           Helsinki                                                                                                              \n",
       " 20                                          Hong Kong                                                                                                              \n",
       " 21                                           Honolulu                                                                                                              \n",
       " 22                                            Houston                                                                                                              \n",
       " 23                                       Indianapolis                                                                                                              \n",
       " 24                                          Islamabad                                                                                                              \n",
       " 25                                           Istanbul                                                                                                              \n",
       " 26                                            Jakarta                                                                                                              \n",
       " 27                                          Jerusalem                                                                                                              \n",
       " 28                                       Johannesburg                                                                                                              \n",
       " 29                                              Kabul                                                                                                              \n",
       " 30                                            Karachi                                                                                                              \n",
       " 31                                          Kathmandu                                                                                                              \n",
       " 32                                           Khartoum                                                                                                              \n",
       " 33                                           Kingston                                                                                                              \n",
       " 34                                           Kinshasa                                                                                                              \n",
       " 35                                         Kiritimati                                                                                                              \n",
       " \n",
       "    Current Local Times Around the World Sort By: CityCountryTimeCities Shown: Capitals (215)Most Popular (143)Popular (356)Somewhat Popular (469)Extended List.3  \\\n",
       " 0                                           Wed 12:52                                                                                                              \n",
       " 1                                           Wed 05:52                                                                                                              \n",
       " 2                                           Wed 12:52                                                                                                              \n",
       " 3                                           Wed 05:52                                                                                                              \n",
       " 4                                           Wed 14:52                                                                                                              \n",
       " 5                                           Wed 21:22                                                                                                              \n",
       " 6                                           Wed 04:52                                                                                                              \n",
       " 7                                           Wed 06:52                                                                                                              \n",
       " 8                                           Wed 17:52                                                                                                              \n",
       " 9                                           Wed 14:52                                                                                                              \n",
       " 10                                          Wed 15:52                                                                                                              \n",
       " 11                                          Wed 11:52                                                                                                              \n",
       " 12                                          Wed 04:52                                                                                                              \n",
       " 13                                          Wed 12:52                                                                                                              \n",
       " 14                                          Wed 05:52                                                                                                              \n",
       " 15                                          Wed 07:52                                                                                                              \n",
       " 16                                          Wed 18:52                                                                                                              \n",
       " 17                                          Wed 13:52                                                                                                              \n",
       " 18                                          Wed 06:52                                                                                                              \n",
       " 19                                          Wed 13:52                                                                                                              \n",
       " 20                                          Wed 19:52                                                                                                              \n",
       " 21                                          Wed 01:52                                                                                                              \n",
       " 22                                          Wed 05:52                                                                                                              \n",
       " 23                                          Wed 06:52                                                                                                              \n",
       " 24                                          Wed 16:52                                                                                                              \n",
       " 25                                          Wed 14:52                                                                                                              \n",
       " 26                                          Wed 18:52                                                                                                              \n",
       " 27                                          Wed 13:52                                                                                                              \n",
       " 28                                          Wed 13:52                                                                                                              \n",
       " 29                                          Wed 16:22                                                                                                              \n",
       " 30                                          Wed 16:52                                                                                                              \n",
       " 31                                          Wed 17:37                                                                                                              \n",
       " 32                                          Wed 13:52                                                                                                              \n",
       " 33                                          Wed 06:52                                                                                                              \n",
       " 34                                          Wed 12:52                                                                                                              \n",
       " 35                                          Thu 01:52                                                                                                              \n",
       " \n",
       "    Current Local Times Around the World Sort By: CityCountryTimeCities Shown: Capitals (215)Most Popular (143)Popular (356)Somewhat Popular (469)Extended List.4  \\\n",
       " 0                                             Kolkata                                                                                                              \n",
       " 1                                        Kuala Lumpur                                                                                                              \n",
       " 2                                         Kuwait City                                                                                                              \n",
       " 3                                                Kyiv                                                                                                              \n",
       " 4                                              La Paz                                                                                                              \n",
       " 5                                               Lagos                                                                                                              \n",
       " 6                                              Lahore                                                                                                              \n",
       " 7                                           Las Vegas                                                                                                              \n",
       " 8                                                Lima                                                                                                              \n",
       " 9                                              Lisbon                                                                                                              \n",
       " 10                                             London                                                                                                              \n",
       " 11                                        Los Angeles                                                                                                              \n",
       " 12                                             Madrid                                                                                                              \n",
       " 13                                            Managua                                                                                                              \n",
       " 14                                             Manila                                                                                                              \n",
       " 15                                        Melbourne *                                                                                                              \n",
       " 16                                        Mexico City                                                                                                              \n",
       " 17                                              Miami                                                                                                              \n",
       " 18                                        Minneapolis                                                                                                              \n",
       " 19                                              Minsk                                                                                                              \n",
       " 20                                         Montevideo                                                                                                              \n",
       " 21                                           Montréal                                                                                                              \n",
       " 22                                             Moscow                                                                                                              \n",
       " 23                                             Mumbai                                                                                                              \n",
       " 24                                            Nairobi                                                                                                              \n",
       " 25                                             Nassau                                                                                                              \n",
       " 26                                          New Delhi                                                                                                              \n",
       " 27                                        New Orleans                                                                                                              \n",
       " 28                                           New York                                                                                                              \n",
       " 29                                               Oslo                                                                                                              \n",
       " 30                                             Ottawa                                                                                                              \n",
       " 31                                              Paris                                                                                                              \n",
       " 32                                              Perth                                                                                                              \n",
       " 33                                       Philadelphia                                                                                                              \n",
       " 34                                            Phoenix                                                                                                              \n",
       " 35                                             Prague                                                                                                              \n",
       " \n",
       "    Current Local Times Around the World Sort By: CityCountryTimeCities Shown: Capitals (215)Most Popular (143)Popular (356)Somewhat Popular (469)Extended List.5  \\\n",
       " 0                                           Wed 17:22                                                                                                              \n",
       " 1                                           Wed 19:52                                                                                                              \n",
       " 2                                           Wed 14:52                                                                                                              \n",
       " 3                                           Wed 13:52                                                                                                              \n",
       " 4                                           Wed 07:52                                                                                                              \n",
       " 5                                           Wed 12:52                                                                                                              \n",
       " 6                                           Wed 16:52                                                                                                              \n",
       " 7                                           Wed 03:52                                                                                                              \n",
       " 8                                           Wed 06:52                                                                                                              \n",
       " 9                                           Wed 11:52                                                                                                              \n",
       " 10                                          Wed 11:52                                                                                                              \n",
       " 11                                          Wed 03:52                                                                                                              \n",
       " 12                                          Wed 12:52                                                                                                              \n",
       " 13                                          Wed 05:52                                                                                                              \n",
       " 14                                          Wed 19:52                                                                                                              \n",
       " 15                                          Wed 22:52                                                                                                              \n",
       " 16                                          Wed 05:52                                                                                                              \n",
       " 17                                          Wed 06:52                                                                                                              \n",
       " 18                                          Wed 05:52                                                                                                              \n",
       " 19                                          Wed 14:52                                                                                                              \n",
       " 20                                          Wed 08:52                                                                                                              \n",
       " 21                                          Wed 06:52                                                                                                              \n",
       " 22                                          Wed 14:52                                                                                                              \n",
       " 23                                          Wed 17:22                                                                                                              \n",
       " 24                                          Wed 14:52                                                                                                              \n",
       " 25                                          Wed 06:52                                                                                                              \n",
       " 26                                          Wed 17:22                                                                                                              \n",
       " 27                                          Wed 05:52                                                                                                              \n",
       " 28                                          Wed 06:52                                                                                                              \n",
       " 29                                          Wed 12:52                                                                                                              \n",
       " 30                                          Wed 06:52                                                                                                              \n",
       " 31                                          Wed 12:52                                                                                                              \n",
       " 32                                          Wed 19:52                                                                                                              \n",
       " 33                                          Wed 06:52                                                                                                              \n",
       " 34                                          Wed 04:52                                                                                                              \n",
       " 35                                          Wed 12:52                                                                                                              \n",
       " \n",
       "    Current Local Times Around the World Sort By: CityCountryTimeCities Shown: Capitals (215)Most Popular (143)Popular (356)Somewhat Popular (469)Extended List.6  \\\n",
       " 0                                           Reykjavik                                                                                                              \n",
       " 1                                      Rio de Janeiro                                                                                                              \n",
       " 2                                              Riyadh                                                                                                              \n",
       " 3                                                Rome                                                                                                              \n",
       " 4                                      Salt Lake City                                                                                                              \n",
       " 5                                       San Francisco                                                                                                              \n",
       " 6                                            San Juan                                                                                                              \n",
       " 7                                        San Salvador                                                                                                              \n",
       " 8                                          Santiago *                                                                                                              \n",
       " 9                                       Santo Domingo                                                                                                              \n",
       " 10                                          São Paulo                                                                                                              \n",
       " 11                                            Seattle                                                                                                              \n",
       " 12                                              Seoul                                                                                                              \n",
       " 13                                           Shanghai                                                                                                              \n",
       " 14                                          Singapore                                                                                                              \n",
       " 15                                              Sofia                                                                                                              \n",
       " 16                                         St. John's                                                                                                              \n",
       " 17                                          Stockholm                                                                                                              \n",
       " 18                                               Suva                                                                                                              \n",
       " 19                                           Sydney *                                                                                                              \n",
       " 20                                             Taipei                                                                                                              \n",
       " 21                                            Tallinn                                                                                                              \n",
       " 22                                           Tashkent                                                                                                              \n",
       " 23                                        Tegucigalpa                                                                                                              \n",
       " 24                                             Tehran                                                                                                              \n",
       " 25                                              Tokyo                                                                                                              \n",
       " 26                                            Toronto                                                                                                              \n",
       " 27                                          Vancouver                                                                                                              \n",
       " 28                                             Vienna                                                                                                              \n",
       " 29                                             Warsaw                                                                                                              \n",
       " 30                                      Washington DC                                                                                                              \n",
       " 31                                           Winnipeg                                                                                                              \n",
       " 32                                             Yangon                                                                                                              \n",
       " 33                                             Zagreb                                                                                                              \n",
       " 34                                             Zürich                                                                                                              \n",
       " 35                                                NaN                                                                                                              \n",
       " \n",
       "    Current Local Times Around the World Sort By: CityCountryTimeCities Shown: Capitals (215)Most Popular (143)Popular (356)Somewhat Popular (469)Extended List.7  \n",
       " 0                                           Wed 11:52                                                                                                             \n",
       " 1                                           Wed 08:52                                                                                                             \n",
       " 2                                           Wed 14:52                                                                                                             \n",
       " 3                                           Wed 12:52                                                                                                             \n",
       " 4                                           Wed 04:52                                                                                                             \n",
       " 5                                           Wed 03:52                                                                                                             \n",
       " 6                                           Wed 07:52                                                                                                             \n",
       " 7                                           Wed 05:52                                                                                                             \n",
       " 8                                           Wed 08:52                                                                                                             \n",
       " 9                                           Wed 07:52                                                                                                             \n",
       " 10                                          Wed 08:52                                                                                                             \n",
       " 11                                          Wed 03:52                                                                                                             \n",
       " 12                                          Wed 20:52                                                                                                             \n",
       " 13                                          Wed 19:52                                                                                                             \n",
       " 14                                          Wed 19:52                                                                                                             \n",
       " 15                                          Wed 13:52                                                                                                             \n",
       " 16                                          Wed 08:22                                                                                                             \n",
       " 17                                          Wed 12:52                                                                                                             \n",
       " 18                                          Wed 23:52                                                                                                             \n",
       " 19                                          Wed 22:52                                                                                                             \n",
       " 20                                          Wed 19:52                                                                                                             \n",
       " 21                                          Wed 13:52                                                                                                             \n",
       " 22                                          Wed 16:52                                                                                                             \n",
       " 23                                          Wed 05:52                                                                                                             \n",
       " 24                                          Wed 15:22                                                                                                             \n",
       " 25                                          Wed 20:52                                                                                                             \n",
       " 26                                          Wed 06:52                                                                                                             \n",
       " 27                                          Wed 03:52                                                                                                             \n",
       " 28                                          Wed 12:52                                                                                                             \n",
       " 29                                          Wed 12:52                                                                                                             \n",
       " 30                                          Wed 06:52                                                                                                             \n",
       " 31                                          Wed 05:52                                                                                                             \n",
       " 32                                          Wed 18:22                                                                                                             \n",
       " 33                                          Wed 12:52                                                                                                             \n",
       " 34                                          Wed 12:52                                                                                                             \n",
       " 35                                                NaN                                                                                                             ]"
      ]
     },
     "execution_count": 43,
     "metadata": {},
     "output_type": "execute_result"
    }
   ],
   "source": [
    "df = pd.read_html(str(tab) , header = 0)\n",
    "df"
   ]
  },
  {
   "cell_type": "code",
   "execution_count": 48,
   "metadata": {},
   "outputs": [],
   "source": [
    "driver.back()"
   ]
  },
  {
   "cell_type": "code",
   "execution_count": 1,
   "metadata": {},
   "outputs": [],
   "source": [
    "from selenium import webdriver\n",
    "from selenium.webdriver.support.ui import WebDriverWait\n",
    "from selenium.webdriver.support import expected_conditions as ec\n",
    "from selenium.webdriver.common.by import By\n",
    "import pandas as pd\n",
    "from bs4 import BeautifulSoup as bs"
   ]
  },
  {
   "cell_type": "code",
   "execution_count": 7,
   "metadata": {},
   "outputs": [
    {
     "data": {
      "text/plain": [
       "[   Current Local Times Around the World Sort By: CityCountryTimeCities Shown: Capitals (215)Most Popular (143)Popular (356)Somewhat Popular (469)Extended List  \\\n",
       " 0                                               Accra                                                                                                            \n",
       " 1                                         Addis Ababa                                                                                                            \n",
       " 2                                          Adelaide *                                                                                                            \n",
       " 3                                             Algiers                                                                                                            \n",
       " 4                                              Almaty                                                                                                            \n",
       " 5                                               Amman                                                                                                            \n",
       " 6                                           Amsterdam                                                                                                            \n",
       " 7                                              Anadyr                                                                                                            \n",
       " 8                                           Anchorage                                                                                                            \n",
       " 9                                              Ankara                                                                                                            \n",
       " 10                                       Antananarivo                                                                                                            \n",
       " 11                                         Asuncion *                                                                                                            \n",
       " 12                                             Athens                                                                                                            \n",
       " 13                                            Atlanta                                                                                                            \n",
       " 14                                         Auckland *                                                                                                            \n",
       " 15                                            Baghdad                                                                                                            \n",
       " 16                                          Bangalore                                                                                                            \n",
       " 17                                            Bangkok                                                                                                            \n",
       " 18                                          Barcelona                                                                                                            \n",
       " 19                                            Beijing                                                                                                            \n",
       " 20                                             Beirut                                                                                                            \n",
       " 21                                           Belgrade                                                                                                            \n",
       " 22                                             Berlin                                                                                                            \n",
       " 23                                             Bogota                                                                                                            \n",
       " 24                                             Boston                                                                                                            \n",
       " 25                                           Brasilia                                                                                                            \n",
       " 26                                           Brisbane                                                                                                            \n",
       " 27                                           Brussels                                                                                                            \n",
       " 28                                          Bucharest                                                                                                            \n",
       " 29                                           Budapest                                                                                                            \n",
       " 30                                       Buenos Aires                                                                                                            \n",
       " 31                                              Cairo                                                                                                            \n",
       " 32                                            Calgary                                                                                                            \n",
       " 33                                         Canberra *                                                                                                            \n",
       " 34                                          Cape Town                                                                                                            \n",
       " 35                                            Caracas                                                                                                            \n",
       " \n",
       "    Current Local Times Around the World Sort By: CityCountryTimeCities Shown: Capitals (215)Most Popular (143)Popular (356)Somewhat Popular (469)Extended List.1  \\\n",
       " 0                                           Wed 17:04                                                                                                              \n",
       " 1                                           Wed 20:04                                                                                                              \n",
       " 2                                           Thu 03:34                                                                                                              \n",
       " 3                                           Wed 18:04                                                                                                              \n",
       " 4                                           Wed 23:04                                                                                                              \n",
       " 5                                           Wed 19:04                                                                                                              \n",
       " 6                                           Wed 18:04                                                                                                              \n",
       " 7                                           Thu 05:04                                                                                                              \n",
       " 8                                           Wed 08:04                                                                                                              \n",
       " 9                                           Wed 20:04                                                                                                              \n",
       " 10                                          Wed 20:04                                                                                                              \n",
       " 11                                          Wed 14:04                                                                                                              \n",
       " 12                                          Wed 19:04                                                                                                              \n",
       " 13                                          Wed 12:04                                                                                                              \n",
       " 14                                          Thu 06:04                                                                                                              \n",
       " 15                                          Wed 20:04                                                                                                              \n",
       " 16                                          Wed 22:34                                                                                                              \n",
       " 17                                          Thu 00:04                                                                                                              \n",
       " 18                                          Wed 18:04                                                                                                              \n",
       " 19                                          Thu 01:04                                                                                                              \n",
       " 20                                          Wed 19:04                                                                                                              \n",
       " 21                                          Wed 18:04                                                                                                              \n",
       " 22                                          Wed 18:04                                                                                                              \n",
       " 23                                          Wed 12:04                                                                                                              \n",
       " 24                                          Wed 12:04                                                                                                              \n",
       " 25                                          Wed 14:04                                                                                                              \n",
       " 26                                          Thu 03:04                                                                                                              \n",
       " 27                                          Wed 18:04                                                                                                              \n",
       " 28                                          Wed 19:04                                                                                                              \n",
       " 29                                          Wed 18:04                                                                                                              \n",
       " 30                                          Wed 14:04                                                                                                              \n",
       " 31                                          Wed 19:04                                                                                                              \n",
       " 32                                          Wed 10:04                                                                                                              \n",
       " 33                                          Thu 04:04                                                                                                              \n",
       " 34                                          Wed 19:04                                                                                                              \n",
       " 35                                          Wed 13:04                                                                                                              \n",
       " \n",
       "    Current Local Times Around the World Sort By: CityCountryTimeCities Shown: Capitals (215)Most Popular (143)Popular (356)Somewhat Popular (469)Extended List.2  \\\n",
       " 0                                        Casablanca *                                                                                                              \n",
       " 1                                             Chicago                                                                                                              \n",
       " 2                                          Copenhagen                                                                                                              \n",
       " 3                                              Dallas                                                                                                              \n",
       " 4                                       Dar es Salaam                                                                                                              \n",
       " 5                                              Darwin                                                                                                              \n",
       " 6                                              Denver                                                                                                              \n",
       " 7                                             Detroit                                                                                                              \n",
       " 8                                               Dhaka                                                                                                              \n",
       " 9                                                Doha                                                                                                              \n",
       " 10                                              Dubai                                                                                                              \n",
       " 11                                             Dublin                                                                                                              \n",
       " 12                                           Edmonton                                                                                                              \n",
       " 13                                          Frankfurt                                                                                                              \n",
       " 14                                     Guatemala City                                                                                                              \n",
       " 15                                            Halifax                                                                                                              \n",
       " 16                                              Hanoi                                                                                                              \n",
       " 17                                             Harare                                                                                                              \n",
       " 18                                             Havana                                                                                                              \n",
       " 19                                           Helsinki                                                                                                              \n",
       " 20                                          Hong Kong                                                                                                              \n",
       " 21                                           Honolulu                                                                                                              \n",
       " 22                                            Houston                                                                                                              \n",
       " 23                                       Indianapolis                                                                                                              \n",
       " 24                                          Islamabad                                                                                                              \n",
       " 25                                           Istanbul                                                                                                              \n",
       " 26                                            Jakarta                                                                                                              \n",
       " 27                                          Jerusalem                                                                                                              \n",
       " 28                                       Johannesburg                                                                                                              \n",
       " 29                                              Kabul                                                                                                              \n",
       " 30                                            Karachi                                                                                                              \n",
       " 31                                          Kathmandu                                                                                                              \n",
       " 32                                           Khartoum                                                                                                              \n",
       " 33                                           Kingston                                                                                                              \n",
       " 34                                           Kinshasa                                                                                                              \n",
       " 35                                         Kiritimati                                                                                                              \n",
       " \n",
       "    Current Local Times Around the World Sort By: CityCountryTimeCities Shown: Capitals (215)Most Popular (143)Popular (356)Somewhat Popular (469)Extended List.3  \\\n",
       " 0                                           Wed 18:04                                                                                                              \n",
       " 1                                           Wed 11:04                                                                                                              \n",
       " 2                                           Wed 18:04                                                                                                              \n",
       " 3                                           Wed 11:04                                                                                                              \n",
       " 4                                           Wed 20:04                                                                                                              \n",
       " 5                                           Thu 02:34                                                                                                              \n",
       " 6                                           Wed 10:04                                                                                                              \n",
       " 7                                           Wed 12:04                                                                                                              \n",
       " 8                                           Wed 23:04                                                                                                              \n",
       " 9                                           Wed 20:04                                                                                                              \n",
       " 10                                          Wed 21:04                                                                                                              \n",
       " 11                                          Wed 17:04                                                                                                              \n",
       " 12                                          Wed 10:04                                                                                                              \n",
       " 13                                          Wed 18:04                                                                                                              \n",
       " 14                                          Wed 11:04                                                                                                              \n",
       " 15                                          Wed 13:04                                                                                                              \n",
       " 16                                          Thu 00:04                                                                                                              \n",
       " 17                                          Wed 19:04                                                                                                              \n",
       " 18                                          Wed 12:04                                                                                                              \n",
       " 19                                          Wed 19:04                                                                                                              \n",
       " 20                                          Thu 01:04                                                                                                              \n",
       " 21                                          Wed 07:04                                                                                                              \n",
       " 22                                          Wed 11:04                                                                                                              \n",
       " 23                                          Wed 12:04                                                                                                              \n",
       " 24                                          Wed 22:04                                                                                                              \n",
       " 25                                          Wed 20:04                                                                                                              \n",
       " 26                                          Thu 00:04                                                                                                              \n",
       " 27                                          Wed 19:04                                                                                                              \n",
       " 28                                          Wed 19:04                                                                                                              \n",
       " 29                                          Wed 21:34                                                                                                              \n",
       " 30                                          Wed 22:04                                                                                                              \n",
       " 31                                          Wed 22:49                                                                                                              \n",
       " 32                                          Wed 19:04                                                                                                              \n",
       " 33                                          Wed 12:04                                                                                                              \n",
       " 34                                          Wed 18:04                                                                                                              \n",
       " 35                                          Thu 07:04                                                                                                              \n",
       " \n",
       "    Current Local Times Around the World Sort By: CityCountryTimeCities Shown: Capitals (215)Most Popular (143)Popular (356)Somewhat Popular (469)Extended List.4  \\\n",
       " 0                                             Kolkata                                                                                                              \n",
       " 1                                        Kuala Lumpur                                                                                                              \n",
       " 2                                         Kuwait City                                                                                                              \n",
       " 3                                                Kyiv                                                                                                              \n",
       " 4                                              La Paz                                                                                                              \n",
       " 5                                               Lagos                                                                                                              \n",
       " 6                                              Lahore                                                                                                              \n",
       " 7                                           Las Vegas                                                                                                              \n",
       " 8                                                Lima                                                                                                              \n",
       " 9                                              Lisbon                                                                                                              \n",
       " 10                                             London                                                                                                              \n",
       " 11                                        Los Angeles                                                                                                              \n",
       " 12                                             Madrid                                                                                                              \n",
       " 13                                            Managua                                                                                                              \n",
       " 14                                             Manila                                                                                                              \n",
       " 15                                        Melbourne *                                                                                                              \n",
       " 16                                        Mexico City                                                                                                              \n",
       " 17                                              Miami                                                                                                              \n",
       " 18                                        Minneapolis                                                                                                              \n",
       " 19                                              Minsk                                                                                                              \n",
       " 20                                         Montevideo                                                                                                              \n",
       " 21                                           Montréal                                                                                                              \n",
       " 22                                             Moscow                                                                                                              \n",
       " 23                                             Mumbai                                                                                                              \n",
       " 24                                            Nairobi                                                                                                              \n",
       " 25                                             Nassau                                                                                                              \n",
       " 26                                          New Delhi                                                                                                              \n",
       " 27                                        New Orleans                                                                                                              \n",
       " 28                                           New York                                                                                                              \n",
       " 29                                               Oslo                                                                                                              \n",
       " 30                                             Ottawa                                                                                                              \n",
       " 31                                              Paris                                                                                                              \n",
       " 32                                              Perth                                                                                                              \n",
       " 33                                       Philadelphia                                                                                                              \n",
       " 34                                            Phoenix                                                                                                              \n",
       " 35                                             Prague                                                                                                              \n",
       " \n",
       "    Current Local Times Around the World Sort By: CityCountryTimeCities Shown: Capitals (215)Most Popular (143)Popular (356)Somewhat Popular (469)Extended List.5  \\\n",
       " 0                                           Wed 22:34                                                                                                              \n",
       " 1                                           Thu 01:04                                                                                                              \n",
       " 2                                           Wed 20:04                                                                                                              \n",
       " 3                                           Wed 19:04                                                                                                              \n",
       " 4                                           Wed 13:04                                                                                                              \n",
       " 5                                           Wed 18:04                                                                                                              \n",
       " 6                                           Wed 22:04                                                                                                              \n",
       " 7                                           Wed 09:04                                                                                                              \n",
       " 8                                           Wed 12:04                                                                                                              \n",
       " 9                                           Wed 17:04                                                                                                              \n",
       " 10                                          Wed 17:04                                                                                                              \n",
       " 11                                          Wed 09:04                                                                                                              \n",
       " 12                                          Wed 18:04                                                                                                              \n",
       " 13                                          Wed 11:04                                                                                                              \n",
       " 14                                          Thu 01:04                                                                                                              \n",
       " 15                                          Thu 04:04                                                                                                              \n",
       " 16                                          Wed 11:04                                                                                                              \n",
       " 17                                          Wed 12:04                                                                                                              \n",
       " 18                                          Wed 11:04                                                                                                              \n",
       " 19                                          Wed 20:04                                                                                                              \n",
       " 20                                          Wed 14:04                                                                                                              \n",
       " 21                                          Wed 12:04                                                                                                              \n",
       " 22                                          Wed 20:04                                                                                                              \n",
       " 23                                          Wed 22:34                                                                                                              \n",
       " 24                                          Wed 20:04                                                                                                              \n",
       " 25                                          Wed 12:04                                                                                                              \n",
       " 26                                          Wed 22:34                                                                                                              \n",
       " 27                                          Wed 11:04                                                                                                              \n",
       " 28                                          Wed 12:04                                                                                                              \n",
       " 29                                          Wed 18:04                                                                                                              \n",
       " 30                                          Wed 12:04                                                                                                              \n",
       " 31                                          Wed 18:04                                                                                                              \n",
       " 32                                          Thu 01:04                                                                                                              \n",
       " 33                                          Wed 12:04                                                                                                              \n",
       " 34                                          Wed 10:04                                                                                                              \n",
       " 35                                          Wed 18:04                                                                                                              \n",
       " \n",
       "    Current Local Times Around the World Sort By: CityCountryTimeCities Shown: Capitals (215)Most Popular (143)Popular (356)Somewhat Popular (469)Extended List.6  \\\n",
       " 0                                           Reykjavik                                                                                                              \n",
       " 1                                      Rio de Janeiro                                                                                                              \n",
       " 2                                              Riyadh                                                                                                              \n",
       " 3                                                Rome                                                                                                              \n",
       " 4                                      Salt Lake City                                                                                                              \n",
       " 5                                       San Francisco                                                                                                              \n",
       " 6                                            San Juan                                                                                                              \n",
       " 7                                        San Salvador                                                                                                              \n",
       " 8                                          Santiago *                                                                                                              \n",
       " 9                                       Santo Domingo                                                                                                              \n",
       " 10                                          São Paulo                                                                                                              \n",
       " 11                                            Seattle                                                                                                              \n",
       " 12                                              Seoul                                                                                                              \n",
       " 13                                           Shanghai                                                                                                              \n",
       " 14                                          Singapore                                                                                                              \n",
       " 15                                              Sofia                                                                                                              \n",
       " 16                                         St. John's                                                                                                              \n",
       " 17                                          Stockholm                                                                                                              \n",
       " 18                                               Suva                                                                                                              \n",
       " 19                                           Sydney *                                                                                                              \n",
       " 20                                             Taipei                                                                                                              \n",
       " 21                                            Tallinn                                                                                                              \n",
       " 22                                           Tashkent                                                                                                              \n",
       " 23                                        Tegucigalpa                                                                                                              \n",
       " 24                                             Tehran                                                                                                              \n",
       " 25                                              Tokyo                                                                                                              \n",
       " 26                                            Toronto                                                                                                              \n",
       " 27                                          Vancouver                                                                                                              \n",
       " 28                                             Vienna                                                                                                              \n",
       " 29                                             Warsaw                                                                                                              \n",
       " 30                                      Washington DC                                                                                                              \n",
       " 31                                           Winnipeg                                                                                                              \n",
       " 32                                             Yangon                                                                                                              \n",
       " 33                                             Zagreb                                                                                                              \n",
       " 34                                             Zürich                                                                                                              \n",
       " 35                                                NaN                                                                                                              \n",
       " \n",
       "    Current Local Times Around the World Sort By: CityCountryTimeCities Shown: Capitals (215)Most Popular (143)Popular (356)Somewhat Popular (469)Extended List.7  \n",
       " 0                                           Wed 17:04                                                                                                             \n",
       " 1                                           Wed 14:04                                                                                                             \n",
       " 2                                           Wed 20:04                                                                                                             \n",
       " 3                                           Wed 18:04                                                                                                             \n",
       " 4                                           Wed 10:04                                                                                                             \n",
       " 5                                           Wed 09:04                                                                                                             \n",
       " 6                                           Wed 13:04                                                                                                             \n",
       " 7                                           Wed 11:04                                                                                                             \n",
       " 8                                           Wed 14:04                                                                                                             \n",
       " 9                                           Wed 13:04                                                                                                             \n",
       " 10                                          Wed 14:04                                                                                                             \n",
       " 11                                          Wed 09:04                                                                                                             \n",
       " 12                                          Thu 02:04                                                                                                             \n",
       " 13                                          Thu 01:04                                                                                                             \n",
       " 14                                          Thu 01:04                                                                                                             \n",
       " 15                                          Wed 19:04                                                                                                             \n",
       " 16                                          Wed 13:34                                                                                                             \n",
       " 17                                          Wed 18:04                                                                                                             \n",
       " 18                                          Thu 05:04                                                                                                             \n",
       " 19                                          Thu 04:04                                                                                                             \n",
       " 20                                          Thu 01:04                                                                                                             \n",
       " 21                                          Wed 19:04                                                                                                             \n",
       " 22                                          Wed 22:04                                                                                                             \n",
       " 23                                          Wed 11:04                                                                                                             \n",
       " 24                                          Wed 20:34                                                                                                             \n",
       " 25                                          Thu 02:04                                                                                                             \n",
       " 26                                          Wed 12:04                                                                                                             \n",
       " 27                                          Wed 09:04                                                                                                             \n",
       " 28                                          Wed 18:04                                                                                                             \n",
       " 29                                          Wed 18:04                                                                                                             \n",
       " 30                                          Wed 12:04                                                                                                             \n",
       " 31                                          Wed 11:04                                                                                                             \n",
       " 32                                          Wed 23:34                                                                                                             \n",
       " 33                                          Wed 18:04                                                                                                             \n",
       " 34                                          Wed 18:04                                                                                                             \n",
       " 35                                                NaN                                                                                                             ]"
      ]
     },
     "execution_count": 7,
     "metadata": {},
     "output_type": "execute_result"
    }
   ],
   "source": [
    "driver = webdriver.Chrome(executable_path = r'C:\\Users\\VAQUAR\\Desktop\\chromedriver.exe')\n",
    "driver.get('https://www.google.com/')\n",
    "\n",
    "t = driver.find_element_by_name('q')\n",
    "t.send_keys('time and date')\n",
    "t.submit()\n",
    "wait = WebDriverWait(driver , 10)\n",
    "b1 = wait.until(ec.presence_of_element_located((By.PARTIAL_LINK_TEXT , 'Time and Date')))\n",
    "\n",
    "b1.click()\n",
    "wait = WebDriverWait(driver , 10)\n",
    "s = wait.until(ec.presence_of_element_located((By.PARTIAL_LINK_TEXT , 'World Clock')))\n",
    "s.click()\n",
    "data = bs(driver.page_source , 'lxml')\n",
    "tab = data.table\n",
    "df = pd.read_html(str(tab) , header = 0)\n",
    "df"
   ]
  },
  {
   "cell_type": "code",
   "execution_count": 8,
   "metadata": {},
   "outputs": [
    {
     "name": "stdout",
     "output_type": "stream",
     "text": [
      "[   Current Local Times Around the World Sort By: CityCountryTimeCities Shown: Capitals (215)Most Popular (143)Popular (356)Somewhat Popular (469)Extended List  \\\n",
      "0                                               Accra                                                                                                            \n",
      "1                                         Addis Ababa                                                                                                            \n",
      "2                                          Adelaide *                                                                                                            \n",
      "3                                             Algiers                                                                                                            \n",
      "4                                              Almaty                                                                                                            \n",
      "5                                               Amman                                                                                                            \n",
      "6                                           Amsterdam                                                                                                            \n",
      "7                                              Anadyr                                                                                                            \n",
      "8                                           Anchorage                                                                                                            \n",
      "9                                              Ankara                                                                                                            \n",
      "10                                       Antananarivo                                                                                                            \n",
      "11                                         Asuncion *                                                                                                            \n",
      "12                                             Athens                                                                                                            \n",
      "13                                            Atlanta                                                                                                            \n",
      "14                                         Auckland *                                                                                                            \n",
      "15                                            Baghdad                                                                                                            \n",
      "16                                          Bangalore                                                                                                            \n",
      "17                                            Bangkok                                                                                                            \n",
      "18                                          Barcelona                                                                                                            \n",
      "19                                            Beijing                                                                                                            \n",
      "20                                             Beirut                                                                                                            \n",
      "21                                           Belgrade                                                                                                            \n",
      "22                                             Berlin                                                                                                            \n",
      "23                                             Bogota                                                                                                            \n",
      "24                                             Boston                                                                                                            \n",
      "25                                           Brasilia                                                                                                            \n",
      "26                                           Brisbane                                                                                                            \n",
      "27                                           Brussels                                                                                                            \n",
      "28                                          Bucharest                                                                                                            \n",
      "29                                           Budapest                                                                                                            \n",
      "30                                       Buenos Aires                                                                                                            \n",
      "31                                              Cairo                                                                                                            \n",
      "32                                            Calgary                                                                                                            \n",
      "33                                         Canberra *                                                                                                            \n",
      "34                                          Cape Town                                                                                                            \n",
      "35                                            Caracas                                                                                                            \n",
      "\n",
      "   Current Local Times Around the World Sort By: CityCountryTimeCities Shown: Capitals (215)Most Popular (143)Popular (356)Somewhat Popular (469)Extended List.1  \\\n",
      "0                                           Wed 17:04                                                                                                              \n",
      "1                                           Wed 20:04                                                                                                              \n",
      "2                                           Thu 03:34                                                                                                              \n",
      "3                                           Wed 18:04                                                                                                              \n",
      "4                                           Wed 23:04                                                                                                              \n",
      "5                                           Wed 19:04                                                                                                              \n",
      "6                                           Wed 18:04                                                                                                              \n",
      "7                                           Thu 05:04                                                                                                              \n",
      "8                                           Wed 08:04                                                                                                              \n",
      "9                                           Wed 20:04                                                                                                              \n",
      "10                                          Wed 20:04                                                                                                              \n",
      "11                                          Wed 14:04                                                                                                              \n",
      "12                                          Wed 19:04                                                                                                              \n",
      "13                                          Wed 12:04                                                                                                              \n",
      "14                                          Thu 06:04                                                                                                              \n",
      "15                                          Wed 20:04                                                                                                              \n",
      "16                                          Wed 22:34                                                                                                              \n",
      "17                                          Thu 00:04                                                                                                              \n",
      "18                                          Wed 18:04                                                                                                              \n",
      "19                                          Thu 01:04                                                                                                              \n",
      "20                                          Wed 19:04                                                                                                              \n",
      "21                                          Wed 18:04                                                                                                              \n",
      "22                                          Wed 18:04                                                                                                              \n",
      "23                                          Wed 12:04                                                                                                              \n",
      "24                                          Wed 12:04                                                                                                              \n",
      "25                                          Wed 14:04                                                                                                              \n",
      "26                                          Thu 03:04                                                                                                              \n",
      "27                                          Wed 18:04                                                                                                              \n",
      "28                                          Wed 19:04                                                                                                              \n",
      "29                                          Wed 18:04                                                                                                              \n",
      "30                                          Wed 14:04                                                                                                              \n",
      "31                                          Wed 19:04                                                                                                              \n",
      "32                                          Wed 10:04                                                                                                              \n",
      "33                                          Thu 04:04                                                                                                              \n",
      "34                                          Wed 19:04                                                                                                              \n",
      "35                                          Wed 13:04                                                                                                              \n",
      "\n",
      "   Current Local Times Around the World Sort By: CityCountryTimeCities Shown: Capitals (215)Most Popular (143)Popular (356)Somewhat Popular (469)Extended List.2  \\\n",
      "0                                        Casablanca *                                                                                                              \n",
      "1                                             Chicago                                                                                                              \n",
      "2                                          Copenhagen                                                                                                              \n",
      "3                                              Dallas                                                                                                              \n",
      "4                                       Dar es Salaam                                                                                                              \n",
      "5                                              Darwin                                                                                                              \n",
      "6                                              Denver                                                                                                              \n",
      "7                                             Detroit                                                                                                              \n",
      "8                                               Dhaka                                                                                                              \n",
      "9                                                Doha                                                                                                              \n",
      "10                                              Dubai                                                                                                              \n",
      "11                                             Dublin                                                                                                              \n",
      "12                                           Edmonton                                                                                                              \n",
      "13                                          Frankfurt                                                                                                              \n",
      "14                                     Guatemala City                                                                                                              \n",
      "15                                            Halifax                                                                                                              \n",
      "16                                              Hanoi                                                                                                              \n",
      "17                                             Harare                                                                                                              \n",
      "18                                             Havana                                                                                                              \n",
      "19                                           Helsinki                                                                                                              \n",
      "20                                          Hong Kong                                                                                                              \n",
      "21                                           Honolulu                                                                                                              \n",
      "22                                            Houston                                                                                                              \n",
      "23                                       Indianapolis                                                                                                              \n",
      "24                                          Islamabad                                                                                                              \n",
      "25                                           Istanbul                                                                                                              \n",
      "26                                            Jakarta                                                                                                              \n",
      "27                                          Jerusalem                                                                                                              \n",
      "28                                       Johannesburg                                                                                                              \n",
      "29                                              Kabul                                                                                                              \n",
      "30                                            Karachi                                                                                                              \n",
      "31                                          Kathmandu                                                                                                              \n",
      "32                                           Khartoum                                                                                                              \n",
      "33                                           Kingston                                                                                                              \n",
      "34                                           Kinshasa                                                                                                              \n",
      "35                                         Kiritimati                                                                                                              \n",
      "\n",
      "   Current Local Times Around the World Sort By: CityCountryTimeCities Shown: Capitals (215)Most Popular (143)Popular (356)Somewhat Popular (469)Extended List.3  \\\n",
      "0                                           Wed 18:04                                                                                                              \n",
      "1                                           Wed 11:04                                                                                                              \n",
      "2                                           Wed 18:04                                                                                                              \n",
      "3                                           Wed 11:04                                                                                                              \n",
      "4                                           Wed 20:04                                                                                                              \n",
      "5                                           Thu 02:34                                                                                                              \n",
      "6                                           Wed 10:04                                                                                                              \n",
      "7                                           Wed 12:04                                                                                                              \n",
      "8                                           Wed 23:04                                                                                                              \n",
      "9                                           Wed 20:04                                                                                                              \n",
      "10                                          Wed 21:04                                                                                                              \n",
      "11                                          Wed 17:04                                                                                                              \n",
      "12                                          Wed 10:04                                                                                                              \n",
      "13                                          Wed 18:04                                                                                                              \n",
      "14                                          Wed 11:04                                                                                                              \n",
      "15                                          Wed 13:04                                                                                                              \n",
      "16                                          Thu 00:04                                                                                                              \n",
      "17                                          Wed 19:04                                                                                                              \n",
      "18                                          Wed 12:04                                                                                                              \n",
      "19                                          Wed 19:04                                                                                                              \n",
      "20                                          Thu 01:04                                                                                                              \n",
      "21                                          Wed 07:04                                                                                                              \n",
      "22                                          Wed 11:04                                                                                                              \n",
      "23                                          Wed 12:04                                                                                                              \n",
      "24                                          Wed 22:04                                                                                                              \n",
      "25                                          Wed 20:04                                                                                                              \n",
      "26                                          Thu 00:04                                                                                                              \n",
      "27                                          Wed 19:04                                                                                                              \n",
      "28                                          Wed 19:04                                                                                                              \n",
      "29                                          Wed 21:34                                                                                                              \n",
      "30                                          Wed 22:04                                                                                                              \n",
      "31                                          Wed 22:49                                                                                                              \n",
      "32                                          Wed 19:04                                                                                                              \n",
      "33                                          Wed 12:04                                                                                                              \n",
      "34                                          Wed 18:04                                                                                                              \n",
      "35                                          Thu 07:04                                                                                                              \n",
      "\n",
      "   Current Local Times Around the World Sort By: CityCountryTimeCities Shown: Capitals (215)Most Popular (143)Popular (356)Somewhat Popular (469)Extended List.4  \\\n",
      "0                                             Kolkata                                                                                                              \n",
      "1                                        Kuala Lumpur                                                                                                              \n",
      "2                                         Kuwait City                                                                                                              \n",
      "3                                                Kyiv                                                                                                              \n",
      "4                                              La Paz                                                                                                              \n",
      "5                                               Lagos                                                                                                              \n",
      "6                                              Lahore                                                                                                              \n",
      "7                                           Las Vegas                                                                                                              \n",
      "8                                                Lima                                                                                                              \n",
      "9                                              Lisbon                                                                                                              \n",
      "10                                             London                                                                                                              \n",
      "11                                        Los Angeles                                                                                                              \n",
      "12                                             Madrid                                                                                                              \n",
      "13                                            Managua                                                                                                              \n",
      "14                                             Manila                                                                                                              \n",
      "15                                        Melbourne *                                                                                                              \n",
      "16                                        Mexico City                                                                                                              \n",
      "17                                              Miami                                                                                                              \n",
      "18                                        Minneapolis                                                                                                              \n",
      "19                                              Minsk                                                                                                              \n",
      "20                                         Montevideo                                                                                                              \n",
      "21                                           Montréal                                                                                                              \n",
      "22                                             Moscow                                                                                                              \n",
      "23                                             Mumbai                                                                                                              \n",
      "24                                            Nairobi                                                                                                              \n",
      "25                                             Nassau                                                                                                              \n",
      "26                                          New Delhi                                                                                                              \n",
      "27                                        New Orleans                                                                                                              \n",
      "28                                           New York                                                                                                              \n",
      "29                                               Oslo                                                                                                              \n",
      "30                                             Ottawa                                                                                                              \n",
      "31                                              Paris                                                                                                              \n",
      "32                                              Perth                                                                                                              \n",
      "33                                       Philadelphia                                                                                                              \n",
      "34                                            Phoenix                                                                                                              \n",
      "35                                             Prague                                                                                                              \n",
      "\n",
      "   Current Local Times Around the World Sort By: CityCountryTimeCities Shown: Capitals (215)Most Popular (143)Popular (356)Somewhat Popular (469)Extended List.5  \\\n",
      "0                                           Wed 22:34                                                                                                              \n",
      "1                                           Thu 01:04                                                                                                              \n",
      "2                                           Wed 20:04                                                                                                              \n",
      "3                                           Wed 19:04                                                                                                              \n",
      "4                                           Wed 13:04                                                                                                              \n",
      "5                                           Wed 18:04                                                                                                              \n",
      "6                                           Wed 22:04                                                                                                              \n",
      "7                                           Wed 09:04                                                                                                              \n",
      "8                                           Wed 12:04                                                                                                              \n",
      "9                                           Wed 17:04                                                                                                              \n",
      "10                                          Wed 17:04                                                                                                              \n",
      "11                                          Wed 09:04                                                                                                              \n",
      "12                                          Wed 18:04                                                                                                              \n",
      "13                                          Wed 11:04                                                                                                              \n",
      "14                                          Thu 01:04                                                                                                              \n",
      "15                                          Thu 04:04                                                                                                              \n",
      "16                                          Wed 11:04                                                                                                              \n",
      "17                                          Wed 12:04                                                                                                              \n",
      "18                                          Wed 11:04                                                                                                              \n",
      "19                                          Wed 20:04                                                                                                              \n",
      "20                                          Wed 14:04                                                                                                              \n",
      "21                                          Wed 12:04                                                                                                              \n",
      "22                                          Wed 20:04                                                                                                              \n",
      "23                                          Wed 22:34                                                                                                              \n",
      "24                                          Wed 20:04                                                                                                              \n",
      "25                                          Wed 12:04                                                                                                              \n",
      "26                                          Wed 22:34                                                                                                              \n",
      "27                                          Wed 11:04                                                                                                              \n",
      "28                                          Wed 12:04                                                                                                              \n",
      "29                                          Wed 18:04                                                                                                              \n",
      "30                                          Wed 12:04                                                                                                              \n",
      "31                                          Wed 18:04                                                                                                              \n",
      "32                                          Thu 01:04                                                                                                              \n",
      "33                                          Wed 12:04                                                                                                              \n",
      "34                                          Wed 10:04                                                                                                              \n",
      "35                                          Wed 18:04                                                                                                              \n",
      "\n",
      "   Current Local Times Around the World Sort By: CityCountryTimeCities Shown: Capitals (215)Most Popular (143)Popular (356)Somewhat Popular (469)Extended List.6  \\\n",
      "0                                           Reykjavik                                                                                                              \n",
      "1                                      Rio de Janeiro                                                                                                              \n",
      "2                                              Riyadh                                                                                                              \n",
      "3                                                Rome                                                                                                              \n",
      "4                                      Salt Lake City                                                                                                              \n",
      "5                                       San Francisco                                                                                                              \n",
      "6                                            San Juan                                                                                                              \n",
      "7                                        San Salvador                                                                                                              \n",
      "8                                          Santiago *                                                                                                              \n",
      "9                                       Santo Domingo                                                                                                              \n",
      "10                                          São Paulo                                                                                                              \n",
      "11                                            Seattle                                                                                                              \n",
      "12                                              Seoul                                                                                                              \n",
      "13                                           Shanghai                                                                                                              \n",
      "14                                          Singapore                                                                                                              \n",
      "15                                              Sofia                                                                                                              \n",
      "16                                         St. John's                                                                                                              \n",
      "17                                          Stockholm                                                                                                              \n",
      "18                                               Suva                                                                                                              \n",
      "19                                           Sydney *                                                                                                              \n",
      "20                                             Taipei                                                                                                              \n",
      "21                                            Tallinn                                                                                                              \n",
      "22                                           Tashkent                                                                                                              \n",
      "23                                        Tegucigalpa                                                                                                              \n",
      "24                                             Tehran                                                                                                              \n",
      "25                                              Tokyo                                                                                                              \n",
      "26                                            Toronto                                                                                                              \n",
      "27                                          Vancouver                                                                                                              \n",
      "28                                             Vienna                                                                                                              \n",
      "29                                             Warsaw                                                                                                              \n",
      "30                                      Washington DC                                                                                                              \n",
      "31                                           Winnipeg                                                                                                              \n",
      "32                                             Yangon                                                                                                              \n",
      "33                                             Zagreb                                                                                                              \n",
      "34                                             Zürich                                                                                                              \n",
      "35                                                NaN                                                                                                              \n",
      "\n",
      "   Current Local Times Around the World Sort By: CityCountryTimeCities Shown: Capitals (215)Most Popular (143)Popular (356)Somewhat Popular (469)Extended List.7  \n",
      "0                                           Wed 17:04                                                                                                             \n",
      "1                                           Wed 14:04                                                                                                             \n",
      "2                                           Wed 20:04                                                                                                             \n",
      "3                                           Wed 18:04                                                                                                             \n",
      "4                                           Wed 10:04                                                                                                             \n",
      "5                                           Wed 09:04                                                                                                             \n",
      "6                                           Wed 13:04                                                                                                             \n",
      "7                                           Wed 11:04                                                                                                             \n",
      "8                                           Wed 14:04                                                                                                             \n",
      "9                                           Wed 13:04                                                                                                             \n",
      "10                                          Wed 14:04                                                                                                             \n",
      "11                                          Wed 09:04                                                                                                             \n",
      "12                                          Thu 02:04                                                                                                             \n",
      "13                                          Thu 01:04                                                                                                             \n",
      "14                                          Thu 01:04                                                                                                             \n",
      "15                                          Wed 19:04                                                                                                             \n",
      "16                                          Wed 13:34                                                                                                             \n",
      "17                                          Wed 18:04                                                                                                             \n",
      "18                                          Thu 05:04                                                                                                             \n",
      "19                                          Thu 04:04                                                                                                             \n",
      "20                                          Thu 01:04                                                                                                             \n",
      "21                                          Wed 19:04                                                                                                             \n",
      "22                                          Wed 22:04                                                                                                             \n",
      "23                                          Wed 11:04                                                                                                             \n",
      "24                                          Wed 20:34                                                                                                             \n",
      "25                                          Thu 02:04                                                                                                             \n",
      "26                                          Wed 12:04                                                                                                             \n",
      "27                                          Wed 09:04                                                                                                             \n",
      "28                                          Wed 18:04                                                                                                             \n",
      "29                                          Wed 18:04                                                                                                             \n",
      "30                                          Wed 12:04                                                                                                             \n",
      "31                                          Wed 11:04                                                                                                             \n",
      "32                                          Wed 23:34                                                                                                             \n",
      "33                                          Wed 18:04                                                                                                             \n",
      "34                                          Wed 18:04                                                                                                             \n",
      "35                                                NaN                                                                                                             ]\n"
     ]
    }
   ],
   "source": [
    "print(df)"
   ]
  },
  {
   "cell_type": "code",
   "execution_count": 13,
   "metadata": {},
   "outputs": [
    {
     "name": "stdout",
     "output_type": "stream",
     "text": [
      "1\n"
     ]
    }
   ],
   "source": [
    "print(len(df))"
   ]
  },
  {
   "cell_type": "code",
   "execution_count": 16,
   "metadata": {},
   "outputs": [
    {
     "name": "stdout",
     "output_type": "stream",
     "text": [
      "                                                 abc\n",
      "0     Current Local Times Around the World Sort B...\n"
     ]
    }
   ],
   "source": [
    "dff = pd.DataFrame(df , columns = [\"abc\"])\n",
    "# print(dff)"
   ]
  },
  {
   "cell_type": "code",
   "execution_count": 17,
   "metadata": {},
   "outputs": [],
   "source": [
    "file = dff.to_csv(\"sample.csv\")"
   ]
  },
  {
   "cell_type": "code",
   "execution_count": 21,
   "metadata": {},
   "outputs": [],
   "source": [
    "driver.get('https://demoqa.com/automation-practice-form')"
   ]
  },
  {
   "cell_type": "code",
   "execution_count": 23,
   "metadata": {},
   "outputs": [
    {
     "data": {
      "text/plain": [
       "<selenium.webdriver.remote.webelement.WebElement (session=\"ef76ddca128da645c0d01c7027745a5e\", element=\"c2939938-5197-4e25-a12b-93e16d9ab4f7\")>"
      ]
     },
     "execution_count": 23,
     "metadata": {},
     "output_type": "execute_result"
    }
   ],
   "source": [
    "h = driver.find_element_by_id('state')\n",
    "h"
   ]
  },
  {
   "cell_type": "code",
   "execution_count": 24,
   "metadata": {},
   "outputs": [],
   "source": [
    "from selenium.webdriver.support.select import Select "
   ]
  },
  {
   "cell_type": "code",
   "execution_count": 28,
   "metadata": {},
   "outputs": [
    {
     "data": {
      "text/plain": [
       "<selenium.webdriver.remote.webelement.WebElement (session=\"ef76ddca128da645c0d01c7027745a5e\", element=\"c2939938-5197-4e25-a12b-93e16d9ab4f7\")>"
      ]
     },
     "execution_count": 28,
     "metadata": {},
     "output_type": "execute_result"
    }
   ],
   "source": [
    "drp_dwn = driver.find_element_by_id('state')\n",
    "drp_dwn"
   ]
  },
  {
   "cell_type": "code",
   "execution_count": 30,
   "metadata": {},
   "outputs": [],
   "source": [
    "driver.get('https://twitter.com/StackOverheards')"
   ]
  },
  {
   "cell_type": "code",
   "execution_count": 33,
   "metadata": {},
   "outputs": [],
   "source": [
    "s = driver.execute_script('return document.getElementsByClassName(\"css-1dbjc4n r-1awozwy r-sdzlij r-18u37iz r-1777fci r-dnmrzs r-1sp51qo r-o7ynqc r-6416eg\")')"
   ]
  },
  {
   "cell_type": "code",
   "execution_count": 34,
   "metadata": {},
   "outputs": [
    {
     "name": "stdout",
     "output_type": "stream",
     "text": [
      "[<selenium.webdriver.remote.webelement.WebElement (session=\"ef76ddca128da645c0d01c7027745a5e\", element=\"a5abe63e-023a-49fe-92a4-8b305f38a5cd\")>, <selenium.webdriver.remote.webelement.WebElement (session=\"ef76ddca128da645c0d01c7027745a5e\", element=\"b9e542fe-92c8-4db6-b1c6-7d1fd50ce83b\")>]\n"
     ]
    }
   ],
   "source": [
    "print(s)"
   ]
  },
  {
   "cell_type": "code",
   "execution_count": 46,
   "metadata": {},
   "outputs": [],
   "source": [
    "import time \n",
    "for i in range(5):\n",
    "    driver.execute_script('window.scrollBy(0,1000);')\n",
    "    time.sleep(3)"
   ]
  },
  {
   "cell_type": "markdown",
   "metadata": {},
   "source": [
    "# INFINITE SCROLLING "
   ]
  },
  {
   "cell_type": "code",
   "execution_count": 50,
   "metadata": {},
   "outputs": [
    {
     "name": "stdout",
     "output_type": "stream",
     "text": [
      "3284 5848\n",
      "5848 8817\n",
      "8817 11677\n",
      "11677 13564\n",
      "13564 15618\n",
      "15618 17662\n",
      "17662 19836\n",
      "19836 21837\n",
      "21837 24270\n",
      "24270 26491\n",
      "26491 28942\n",
      "28942 30854\n",
      "30854 33598\n",
      "33598 35834\n",
      "35834 37782\n",
      "37782 39637\n",
      "39637 41579\n",
      "41579 43651\n",
      "43651 45140\n"
     ]
    }
   ],
   "source": [
    "import time \n",
    "current_height = driver.execute_script('return document.body.scrollHeight;')\n",
    "# print(current_height)\n",
    "while True:\n",
    "    driver.execute_script('window.scrollTo(0,arguments[0]);' , current_height)\n",
    "    time.sleep(3)\n",
    "    new_height = driver.execute_script('return document.body.scrollHeight;')\n",
    "    if new_height == current_height :\n",
    "        break\n",
    "    print(current_height , new_height)\n",
    "    current_height = new_height "
   ]
  },
  {
   "cell_type": "code",
   "execution_count": 51,
   "metadata": {},
   "outputs": [
    {
     "data": {
      "text/plain": [
       "'Stack Overheards (@StackOverheards) / Twitter'"
      ]
     },
     "execution_count": 51,
     "metadata": {},
     "output_type": "execute_result"
    }
   ],
   "source": [
    "driver.title"
   ]
  },
  {
   "cell_type": "code",
   "execution_count": 52,
   "metadata": {},
   "outputs": [],
   "source": [
    "driver.execute_script('window.open(\"https://www.youtube.com/\");')"
   ]
  },
  {
   "cell_type": "code",
   "execution_count": 53,
   "metadata": {},
   "outputs": [
    {
     "data": {
      "text/plain": [
       "'Stack Overheards (@StackOverheards) / Twitter'"
      ]
     },
     "execution_count": 53,
     "metadata": {},
     "output_type": "execute_result"
    }
   ],
   "source": [
    "driver.title"
   ]
  },
  {
   "cell_type": "code",
   "execution_count": 54,
   "metadata": {},
   "outputs": [],
   "source": [
    "windows = driver.window_handles"
   ]
  },
  {
   "cell_type": "code",
   "execution_count": 55,
   "metadata": {},
   "outputs": [
    {
     "data": {
      "text/plain": [
       "['CDwindow-3F9C8AFB6BEB3E7671AEB2A0FCC36768',\n",
       " 'CDwindow-CCD8B91A74541C3D58D5EE4D0179DBC3']"
      ]
     },
     "execution_count": 55,
     "metadata": {},
     "output_type": "execute_result"
    }
   ],
   "source": [
    "windows"
   ]
  },
  {
   "cell_type": "code",
   "execution_count": 56,
   "metadata": {},
   "outputs": [
    {
     "data": {
      "text/plain": [
       "'CDwindow-3F9C8AFB6BEB3E7671AEB2A0FCC36768'"
      ]
     },
     "execution_count": 56,
     "metadata": {},
     "output_type": "execute_result"
    }
   ],
   "source": [
    "driver.current_window_handle"
   ]
  },
  {
   "cell_type": "code",
   "execution_count": 58,
   "metadata": {},
   "outputs": [],
   "source": [
    "driver.switch_to.window(windows[1])"
   ]
  },
  {
   "cell_type": "code",
   "execution_count": 59,
   "metadata": {},
   "outputs": [
    {
     "data": {
      "text/plain": [
       "'YouTube'"
      ]
     },
     "execution_count": 59,
     "metadata": {},
     "output_type": "execute_result"
    }
   ],
   "source": [
    "driver.title"
   ]
  },
  {
   "cell_type": "code",
   "execution_count": null,
   "metadata": {},
   "outputs": [],
   "source": []
  }
 ],
 "metadata": {
  "kernelspec": {
   "display_name": "Python 3",
   "language": "python",
   "name": "python3"
  },
  "language_info": {
   "codemirror_mode": {
    "name": "ipython",
    "version": 3
   },
   "file_extension": ".py",
   "mimetype": "text/x-python",
   "name": "python",
   "nbconvert_exporter": "python",
   "pygments_lexer": "ipython3",
   "version": "3.8.3"
  }
 },
 "nbformat": 4,
 "nbformat_minor": 4
}
